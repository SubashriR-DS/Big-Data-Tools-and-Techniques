{
 "cells": [
  {
   "cell_type": "code",
   "execution_count": 0,
   "metadata": {
    "application/vnd.databricks.v1+cell": {
     "cellMetadata": {
      "byteLimit": 2048000,
      "rowLimit": 10000
     },
     "inputWidgets": {},
     "nuid": "5e09f128-910f-4f5c-b9a4-53631ee31a0c",
     "showTitle": false,
     "title": ""
    }
   },
   "outputs": [
    {
     "output_type": "stream",
     "name": "stdout",
     "output_type": "stream",
     "text": [
      "Out[1]: [FileInfo(path='dbfs:/FileStore/tables/ activations/', name=' activations/', size=0, modificationTime=0),\n FileInfo(path='dbfs:/FileStore/tables/account-models2/', name='account-models2/', size=0, modificationTime=0),\n FileInfo(path='dbfs:/FileStore/tables/accounts/', name='accounts/', size=0, modificationTime=0),\n FileInfo(path='dbfs:/FileStore/tables/accounts-1.zip', name='accounts-1.zip', size=5297592, modificationTime=1706716464000),\n FileInfo(path='dbfs:/FileStore/tables/accounts-2.zip', name='accounts-2.zip', size=5297592, modificationTime=1706716968000),\n FileInfo(path='dbfs:/FileStore/tables/accounts-3.zip', name='accounts-3.zip', size=5297592, modificationTime=1706802863000),\n FileInfo(path='dbfs:/FileStore/tables/accounts-4.zip', name='accounts-4.zip', size=5297592, modificationTime=1706802975000),\n FileInfo(path='dbfs:/FileStore/tables/accounts-5.zip', name='accounts-5.zip', size=5297592, modificationTime=1707312627000),\n FileInfo(path='dbfs:/FileStore/tables/accounts-models/', name='accounts-models/', size=0, modificationTime=0),\n FileInfo(path='dbfs:/FileStore/tables/accounts.zip', name='accounts.zip', size=5297592, modificationTime=1706716397000),\n FileInfo(path='dbfs:/FileStore/tables/activations/', name='activations/', size=0, modificationTime=0),\n FileInfo(path='dbfs:/FileStore/tables/activations-1.zip', name='activations-1.zip', size=8411369, modificationTime=1706709072000),\n FileInfo(path='dbfs:/FileStore/tables/activations-2.zip', name='activations-2.zip', size=8411369, modificationTime=1706710188000),\n FileInfo(path='dbfs:/FileStore/tables/activations-3.zip', name='activations-3.zip', size=8411369, modificationTime=1706803239000),\n FileInfo(path='dbfs:/FileStore/tables/activations-4.zip', name='activations-4.zip', size=8411369, modificationTime=1706803366000),\n FileInfo(path='dbfs:/FileStore/tables/activations-5.zip', name='activations-5.zip', size=8411369, modificationTime=1706803479000),\n FileInfo(path='dbfs:/FileStore/tables/activations-6.zip', name='activations-6.zip', size=8411369, modificationTime=1707312433000),\n FileInfo(path='dbfs:/FileStore/tables/activations-7.zip', name='activations-7.zip', size=8411369, modificationTime=1707471776000),\n FileInfo(path='dbfs:/FileStore/tables/activations-8.zip', name='activations-8.zip', size=8411369, modificationTime=1707472030000),\n FileInfo(path='dbfs:/FileStore/tables/activations-9.zip', name='activations-9.zip', size=8411369, modificationTime=1707497551000),\n FileInfo(path='dbfs:/FileStore/tables/activations.zip', name='activations.zip', size=8411369, modificationTime=1706708850000),\n FileInfo(path='dbfs:/FileStore/tables/logs/', name='logs/', size=0, modificationTime=0),\n FileInfo(path='dbfs:/FileStore/tables/logs-1.zip', name='logs-1.zip', size=18168065, modificationTime=1706716377000),\n FileInfo(path='dbfs:/FileStore/tables/logs-2.zip', name='logs-2.zip', size=18168065, modificationTime=1706716469000),\n FileInfo(path='dbfs:/FileStore/tables/logs-3.zip', name='logs-3.zip', size=18168065, modificationTime=1706716974000),\n FileInfo(path='dbfs:/FileStore/tables/logs-4.zip', name='logs-4.zip', size=18168065, modificationTime=1706802871000),\n FileInfo(path='dbfs:/FileStore/tables/logs-5.zip', name='logs-5.zip', size=18168065, modificationTime=1706802982000),\n FileInfo(path='dbfs:/FileStore/tables/logs-6.zip', name='logs-6.zip', size=18168065, modificationTime=1707312645000),\n FileInfo(path='dbfs:/FileStore/tables/logs.zip', name='logs.zip', size=18168065, modificationTime=1706716362000),\n FileInfo(path='dbfs:/FileStore/tables/test.json', name='test.json', size=17958, modificationTime=1706105464000),\n FileInfo(path='dbfs:/FileStore/tables/uk.xlsx', name='uk.xlsx', size=56043, modificationTime=1707471722000),\n FileInfo(path='dbfs:/FileStore/tables/webpage.zip', name='webpage.zip', size=1582, modificationTime=1707313151000)]"
     ]
    }
   ],
   "source": [
    "dbutils.fs.ls('FileStore/tables/')"
   ]
  },
  {
   "cell_type": "code",
   "execution_count": 0,
   "metadata": {
    "application/vnd.databricks.v1+cell": {
     "cellMetadata": {
      "byteLimit": 2048000,
      "rowLimit": 10000
     },
     "inputWidgets": {},
     "nuid": "1f41481a-c9e3-4c5b-8e01-7332853bb14c",
     "showTitle": false,
     "title": ""
    }
   },
   "outputs": [
    {
     "output_type": "stream",
     "name": "stdout",
     "output_type": "stream",
     "text": [
      "Out[2]: True"
     ]
    }
   ],
   "source": [
    "dbutils.fs.cp('FileStore/tables/activations.zip','file:/tmp/')"
   ]
  },
  {
   "cell_type": "code",
   "execution_count": 0,
   "metadata": {
    "application/vnd.databricks.v1+cell": {
     "cellMetadata": {
      "byteLimit": 2048000,
      "rowLimit": 10000
     },
     "inputWidgets": {},
     "nuid": "52fc162b-e534-4d84-9311-dfac3fb2d5b3",
     "showTitle": false,
     "title": ""
    }
   },
   "outputs": [
    {
     "output_type": "stream",
     "name": "stdout",
     "output_type": "stream",
     "text": [
      "Rserv\nRtmp4SrLtq\nactivations.zip\nchauffeur-daemon-params\nchauffeur-daemon.pid\nchauffeur-env.sh\ncustom-spark.conf\ndriver-daemon-params\ndriver-daemon.pid\ndriver-env.sh\nhsperfdata_root\npython_lsp_logs\nsystemd-private-671d9bf1f39742e5af0369a0d67fe058-apache2.service-F7INOi\nsystemd-private-671d9bf1f39742e5af0369a0d67fe058-ntp.service-LjlG1f\nsystemd-private-671d9bf1f39742e5af0369a0d67fe058-systemd-logind.service-IKH2rg\nsystemd-private-671d9bf1f39742e5af0369a0d67fe058-systemd-resolved.service-C7RE3h\ntmp.vBD2Qa7uiR\n"
     ]
    }
   ],
   "source": [
    "%sh\n",
    "ls /tmp/"
   ]
  },
  {
   "cell_type": "code",
   "execution_count": 0,
   "metadata": {
    "application/vnd.databricks.v1+cell": {
     "cellMetadata": {
      "byteLimit": 2048000,
      "rowLimit": 10000
     },
     "inputWidgets": {},
     "nuid": "94a4d84d-97f8-4f31-b77d-e73ae6a3fcf9",
     "showTitle": false,
     "title": ""
    }
   },
   "outputs": [
    {
     "output_type": "stream",
     "name": "stdout",
     "output_type": "stream",
     "text": [
      "Archive:  /tmp/activations.zip\n   creating: /tmp/activations/\n  inflating: /tmp/activations/2011-04.json  \n  inflating: /tmp/activations/2013-10.json  \n  inflating: /tmp/activations/2011-09.json  \n  inflating: /tmp/activations/2011-02.json  \n  inflating: /tmp/activations/2009-12.json  \n  inflating: /tmp/activations/2010-10.json  \n  inflating: /tmp/activations/2009-11.json  \n  inflating: /tmp/activations/2014-03.json  \n  inflating: /tmp/activations/2012-02.json  \n  inflating: /tmp/activations/2013-07.json  \n  inflating: /tmp/activations/2013-04.json  \n  inflating: /tmp/activations/2010-11.json  \n  inflating: /tmp/activations/2009-02.json  \n  inflating: /tmp/activations/2012-05.json  \n  inflating: /tmp/activations/2013-12.json  \n  inflating: /tmp/activations/2009-07.json  \n  inflating: /tmp/activations/2012-04.json  \n  inflating: /tmp/activations/2009-03.json  \n  inflating: /tmp/activations/2008-12.json  \n  inflating: /tmp/activations/2011-05.json  \n  inflating: /tmp/activations/2009-09.json  \n  inflating: /tmp/activations/2012-03.json  \n  inflating: /tmp/activations/2013-02.json  \n  inflating: /tmp/activations/2011-06.json  \n  inflating: /tmp/activations/2010-02.json  \n  inflating: /tmp/activations/2008-11.json  \n  inflating: /tmp/activations/2008-10.json  \n  inflating: /tmp/activations/2013-09.json  \n  inflating: /tmp/activations/2011-07.json  \n  inflating: /tmp/activations/2013-06.json  \n  inflating: /tmp/activations/2010-05.json  \n  inflating: /tmp/activations/2014-01.json  \n  inflating: /tmp/activations/2012-06.json  \n  inflating: /tmp/activations/2012-12.json  \n  inflating: /tmp/activations/2009-10.json  \n  inflating: /tmp/activations/2010-01.json  \n  inflating: /tmp/activations/2011-10.json  \n  inflating: /tmp/activations/2012-07.json  \n  inflating: /tmp/activations/2012-10.json  \n  inflating: /tmp/activations/2012-11.json  \n  inflating: /tmp/activations/2010-12.json  \n  inflating: /tmp/activations/2011-11.json  \n  inflating: /tmp/activations/2011-08.json  \n  inflating: /tmp/activations/2013-11.json  \n  inflating: /tmp/activations/2013-03.json  \n  inflating: /tmp/activations/2009-04.json  \n  inflating: /tmp/activations/2012-09.json  \n  inflating: /tmp/activations/2010-03.json  \n  inflating: /tmp/activations/2009-06.json  \n  inflating: /tmp/activations/2014-02.json  \n  inflating: /tmp/activations/2009-01.json  \n  inflating: /tmp/activations/2011-01.json  \n  inflating: /tmp/activations/2010-09.json  \n  inflating: /tmp/activations/2010-04.json  \n  inflating: /tmp/activations/2010-06.json  \n  inflating: /tmp/activations/2013-01.json  \n  inflating: /tmp/activations/2013-08.json  \n  inflating: /tmp/activations/2011-12.json  \n  inflating: /tmp/activations/2009-05.json  \n  inflating: /tmp/activations/2013-05.json  \n  inflating: /tmp/activations/2011-03.json  \n  inflating: /tmp/activations/2010-07.json  \n  inflating: /tmp/activations/2012-08.json  \n  inflating: /tmp/activations/2012-01.json  \n  inflating: /tmp/activations/2009-08.json  \n  inflating: /tmp/activations/2010-08.json  \n"
     ]
    }
   ],
   "source": [
    "%sh\n",
    "unzip -d /tmp/ /tmp/activations.zip"
   ]
  },
  {
   "cell_type": "code",
   "execution_count": 0,
   "metadata": {
    "application/vnd.databricks.v1+cell": {
     "cellMetadata": {
      "byteLimit": 2048000,
      "rowLimit": 10000
     },
     "inputWidgets": {},
     "nuid": "3ebc6075-5473-4a34-8915-6d724bb8e24f",
     "showTitle": false,
     "title": ""
    }
   },
   "outputs": [
    {
     "output_type": "stream",
     "name": "stdout",
     "output_type": "stream",
     "text": [
      "2008-10.json\n2008-11.json\n2008-12.json\n2009-01.json\n2009-02.json\n2009-03.json\n2009-04.json\n2009-05.json\n2009-06.json\n2009-07.json\n2009-08.json\n2009-09.json\n2009-10.json\n2009-11.json\n2009-12.json\n2010-01.json\n2010-02.json\n2010-03.json\n2010-04.json\n2010-05.json\n2010-06.json\n2010-07.json\n2010-08.json\n2010-09.json\n2010-10.json\n2010-11.json\n2010-12.json\n2011-01.json\n2011-02.json\n2011-03.json\n2011-04.json\n2011-05.json\n2011-06.json\n2011-07.json\n2011-08.json\n2011-09.json\n2011-10.json\n2011-11.json\n2011-12.json\n2012-01.json\n2012-02.json\n2012-03.json\n2012-04.json\n2012-05.json\n2012-06.json\n2012-07.json\n2012-08.json\n2012-09.json\n2012-10.json\n2012-11.json\n2012-12.json\n2013-01.json\n2013-02.json\n2013-03.json\n2013-04.json\n2013-05.json\n2013-06.json\n2013-07.json\n2013-08.json\n2013-09.json\n2013-10.json\n2013-11.json\n2013-12.json\n2014-01.json\n2014-02.json\n2014-03.json\n"
     ]
    }
   ],
   "source": [
    "%sh\n",
    "ls /tmp/activations"
   ]
  },
  {
   "cell_type": "code",
   "execution_count": 0,
   "metadata": {
    "application/vnd.databricks.v1+cell": {
     "cellMetadata": {
      "byteLimit": 2048000,
      "rowLimit": 10000
     },
     "inputWidgets": {},
     "nuid": "88734cc3-1d05-4dfc-bedb-6151860d06c9",
     "showTitle": false,
     "title": ""
    }
   },
   "outputs": [
    {
     "output_type": "stream",
     "name": "stdout",
     "output_type": "stream",
     "text": [
      "Out[6]: True"
     ]
    }
   ],
   "source": [
    "dbutils.fs.mkdirs('FileStore/tables/activations')"
   ]
  },
  {
   "cell_type": "code",
   "execution_count": 0,
   "metadata": {
    "application/vnd.databricks.v1+cell": {
     "cellMetadata": {
      "byteLimit": 2048000,
      "rowLimit": 10000
     },
     "inputWidgets": {},
     "nuid": "2714882e-3de9-4dcb-b047-90cd92e0d9e0",
     "showTitle": false,
     "title": ""
    }
   },
   "outputs": [
    {
     "output_type": "stream",
     "name": "stdout",
     "output_type": "stream",
     "text": [
      "Out[7]: True"
     ]
    }
   ],
   "source": [
    "dbutils.fs.mv('file:/tmp/activations','/FileStore/tables/activations',True)"
   ]
  },
  {
   "cell_type": "code",
   "execution_count": 0,
   "metadata": {
    "application/vnd.databricks.v1+cell": {
     "cellMetadata": {
      "byteLimit": 2048000,
      "rowLimit": 10000
     },
     "inputWidgets": {},
     "nuid": "095ac7f0-15bd-465b-9998-934e0e7a0445",
     "showTitle": false,
     "title": ""
    }
   },
   "outputs": [
    {
     "output_type": "stream",
     "name": "stdout",
     "output_type": "stream",
     "text": [
      "Out[9]: [FileInfo(path='dbfs:/FileStore/tables/activations/2008-10.json', name='2008-10.json', size=17958, modificationTime=1707498004000),\n FileInfo(path='dbfs:/FileStore/tables/activations/2008-11.json', name='2008-11.json', size=69467, modificationTime=1707498019000),\n FileInfo(path='dbfs:/FileStore/tables/activations/2008-12.json', name='2008-12.json', size=64783, modificationTime=1707498019000),\n FileInfo(path='dbfs:/FileStore/tables/activations/2009-01.json', name='2009-01.json', size=85111, modificationTime=1707498020000),\n FileInfo(path='dbfs:/FileStore/tables/activations/2009-02.json', name='2009-02.json', size=63749, modificationTime=1707498013000),\n FileInfo(path='dbfs:/FileStore/tables/activations/2009-03.json', name='2009-03.json', size=81257, modificationTime=1707498017000),\n FileInfo(path='dbfs:/FileStore/tables/activations/2009-04.json', name='2009-04.json', size=77942, modificationTime=1707498006000),\n FileInfo(path='dbfs:/FileStore/tables/activations/2009-05.json', name='2009-05.json', size=84937, modificationTime=1707498011000),\n FileInfo(path='dbfs:/FileStore/tables/activations/2009-06.json', name='2009-06.json', size=83592, modificationTime=1707498012000),\n FileInfo(path='dbfs:/FileStore/tables/activations/2009-07.json', name='2009-07.json', size=81819, modificationTime=1707498013000),\n FileInfo(path='dbfs:/FileStore/tables/activations/2009-08.json', name='2009-08.json', size=74548, modificationTime=1707498007000),\n FileInfo(path='dbfs:/FileStore/tables/activations/2009-09.json', name='2009-09.json', size=78221, modificationTime=1707498015000),\n FileInfo(path='dbfs:/FileStore/tables/activations/2009-10.json', name='2009-10.json', size=85751, modificationTime=1707498005000),\n FileInfo(path='dbfs:/FileStore/tables/activations/2009-11.json', name='2009-11.json', size=87756, modificationTime=1707498009000),\n FileInfo(path='dbfs:/FileStore/tables/activations/2009-12.json', name='2009-12.json', size=90772, modificationTime=1707498019000),\n FileInfo(path='dbfs:/FileStore/tables/activations/2010-01.json', name='2010-01.json', size=181273, modificationTime=1707498017000),\n FileInfo(path='dbfs:/FileStore/tables/activations/2010-02.json', name='2010-02.json', size=180555, modificationTime=1707498016000),\n FileInfo(path='dbfs:/FileStore/tables/activations/2010-03.json', name='2010-03.json', size=189089, modificationTime=1707498016000),\n FileInfo(path='dbfs:/FileStore/tables/activations/2010-04.json', name='2010-04.json', size=188924, modificationTime=1707498012000),\n FileInfo(path='dbfs:/FileStore/tables/activations/2010-05.json', name='2010-05.json', size=213902, modificationTime=1707498005000),\n FileInfo(path='dbfs:/FileStore/tables/activations/2010-06.json', name='2010-06.json', size=221724, modificationTime=1707498009000),\n FileInfo(path='dbfs:/FileStore/tables/activations/2010-07.json', name='2010-07.json', size=216971, modificationTime=1707498008000),\n FileInfo(path='dbfs:/FileStore/tables/activations/2010-08.json', name='2010-08.json', size=227790, modificationTime=1707498013000),\n FileInfo(path='dbfs:/FileStore/tables/activations/2010-09.json', name='2010-09.json', size=220632, modificationTime=1707498014000),\n FileInfo(path='dbfs:/FileStore/tables/activations/2010-10.json', name='2010-10.json', size=223382, modificationTime=1707498015000),\n FileInfo(path='dbfs:/FileStore/tables/activations/2010-11.json', name='2010-11.json', size=197397, modificationTime=1707498014000),\n FileInfo(path='dbfs:/FileStore/tables/activations/2010-12.json', name='2010-12.json', size=222284, modificationTime=1707498014000),\n FileInfo(path='dbfs:/FileStore/tables/activations/2011-01.json', name='2011-01.json', size=416104, modificationTime=1707498017000),\n FileInfo(path='dbfs:/FileStore/tables/activations/2011-02.json', name='2011-02.json', size=396798, modificationTime=1707498006000),\n FileInfo(path='dbfs:/FileStore/tables/activations/2011-03.json', name='2011-03.json', size=445626, modificationTime=1707498007000),\n FileInfo(path='dbfs:/FileStore/tables/activations/2011-04.json', name='2011-04.json', size=430525, modificationTime=1707498016000),\n FileInfo(path='dbfs:/FileStore/tables/activations/2011-05.json', name='2011-05.json', size=439483, modificationTime=1707498020000),\n FileInfo(path='dbfs:/FileStore/tables/activations/2011-06.json', name='2011-06.json', size=428603, modificationTime=1707498011000),\n FileInfo(path='dbfs:/FileStore/tables/activations/2011-07.json', name='2011-07.json', size=439938, modificationTime=1707498009000),\n FileInfo(path='dbfs:/FileStore/tables/activations/2011-08.json', name='2011-08.json', size=455153, modificationTime=1707498011000),\n FileInfo(path='dbfs:/FileStore/tables/activations/2011-09.json', name='2011-09.json', size=437586, modificationTime=1707498004000),\n FileInfo(path='dbfs:/FileStore/tables/activations/2011-10.json', name='2011-10.json', size=472058, modificationTime=1707498008000),\n FileInfo(path='dbfs:/FileStore/tables/activations/2011-11.json', name='2011-11.json', size=449723, modificationTime=1707498006000),\n FileInfo(path='dbfs:/FileStore/tables/activations/2011-12.json', name='2011-12.json', size=477450, modificationTime=1707498012000),\n FileInfo(path='dbfs:/FileStore/tables/activations/2012-01.json', name='2012-01.json', size=923068, modificationTime=1707498020000),\n FileInfo(path='dbfs:/FileStore/tables/activations/2012-02.json', name='2012-02.json', size=891243, modificationTime=1707498014000),\n FileInfo(path='dbfs:/FileStore/tables/activations/2012-03.json', name='2012-03.json', size=952135, modificationTime=1707498007000),\n FileInfo(path='dbfs:/FileStore/tables/activations/2012-04.json', name='2012-04.json', size=937497, modificationTime=1707498019000),\n FileInfo(path='dbfs:/FileStore/tables/activations/2012-05.json', name='2012-05.json', size=947643, modificationTime=1707498005000),\n FileInfo(path='dbfs:/FileStore/tables/activations/2012-06.json', name='2012-06.json', size=901965, modificationTime=1707498005000),\n FileInfo(path='dbfs:/FileStore/tables/activations/2012-07.json', name='2012-07.json', size=969209, modificationTime=1707498012000),\n FileInfo(path='dbfs:/FileStore/tables/activations/2012-08.json', name='2012-08.json', size=994500, modificationTime=1707498011000),\n FileInfo(path='dbfs:/FileStore/tables/activations/2012-09.json', name='2012-09.json', size=946015, modificationTime=1707498016000),\n FileInfo(path='dbfs:/FileStore/tables/activations/2012-10.json', name='2012-10.json', size=1004706, modificationTime=1707498018000),\n FileInfo(path='dbfs:/FileStore/tables/activations/2012-11.json', name='2012-11.json', size=942948, modificationTime=1707498010000),\n FileInfo(path='dbfs:/FileStore/tables/activations/2012-12.json', name='2012-12.json', size=984888, modificationTime=1707498008000),\n FileInfo(path='dbfs:/FileStore/tables/activations/2013-01.json', name='2013-01.json', size=1018983, modificationTime=1707498007000),\n FileInfo(path='dbfs:/FileStore/tables/activations/2013-02.json', name='2013-02.json', size=927261, modificationTime=1707498009000),\n FileInfo(path='dbfs:/FileStore/tables/activations/2013-03.json', name='2013-03.json', size=1051372, modificationTime=1707498008000),\n FileInfo(path='dbfs:/FileStore/tables/activations/2013-04.json', name='2013-04.json', size=1017264, modificationTime=1707498016000),\n FileInfo(path='dbfs:/FileStore/tables/activations/2013-05.json', name='2013-05.json', size=1029567, modificationTime=1707498017000),\n FileInfo(path='dbfs:/FileStore/tables/activations/2013-06.json', name='2013-06.json', size=1004932, modificationTime=1707498012000),\n FileInfo(path='dbfs:/FileStore/tables/activations/2013-07.json', name='2013-07.json', size=1068533, modificationTime=1707498011000),\n FileInfo(path='dbfs:/FileStore/tables/activations/2013-08.json', name='2013-08.json', size=1071469, modificationTime=1707498013000),\n FileInfo(path='dbfs:/FileStore/tables/activations/2013-09.json', name='2013-09.json', size=998698, modificationTime=1707498010000),\n FileInfo(path='dbfs:/FileStore/tables/activations/2013-10.json', name='2013-10.json', size=1067196, modificationTime=1707498019000),\n FileInfo(path='dbfs:/FileStore/tables/activations/2013-11.json', name='2013-11.json', size=6425136, modificationTime=1707498018000),\n FileInfo(path='dbfs:/FileStore/tables/activations/2013-12.json', name='2013-12.json', size=3519683, modificationTime=1707498015000),\n FileInfo(path='dbfs:/FileStore/tables/activations/2014-01.json', name='2014-01.json', size=3314540, modificationTime=1707498010000),\n FileInfo(path='dbfs:/FileStore/tables/activations/2014-02.json', name='2014-02.json', size=2712737, modificationTime=1707498003000),\n FileInfo(path='dbfs:/FileStore/tables/activations/2014-03.json', name='2014-03.json', size=1240487, modificationTime=1707498006000)]"
     ]
    }
   ],
   "source": [
    "dbutils.fs.ls('/FileStore/tables/activations/')"
   ]
  },
  {
   "cell_type": "code",
   "execution_count": 0,
   "metadata": {
    "application/vnd.databricks.v1+cell": {
     "cellMetadata": {
      "byteLimit": 2048000,
      "rowLimit": 10000
     },
     "inputWidgets": {},
     "nuid": "59511965-e735-4b8a-982d-d9b5041d5e8b",
     "showTitle": false,
     "title": ""
    }
   },
   "outputs": [
    {
     "output_type": "stream",
     "name": "stdout",
     "output_type": "stream",
     "text": [
      "Out[10]: 66"
     ]
    }
   ],
   "source": [
    "len(dbutils.fs.ls('FileStore/tables/activations/'))"
   ]
  },
  {
   "cell_type": "code",
   "execution_count": 0,
   "metadata": {
    "application/vnd.databricks.v1+cell": {
     "cellMetadata": {
      "byteLimit": 2048000,
      "rowLimit": 10000
     },
     "inputWidgets": {},
     "nuid": "ceab116d-4796-40c6-88e8-f0438b99e285",
     "showTitle": false,
     "title": ""
    }
   },
   "outputs": [
    {
     "output_type": "stream",
     "name": "stdout",
     "output_type": "stream",
     "text": [
      "Out[11]: '{\\n  \"activations\": {\\n    \"activation\": [\\n      {\\n        \"@timestamp\": \"1225462088\",\\n        \"@type\": \"phone\",\\n        \"account-number\": \"9763\",\\n        \"device-id\": \"debea35e-3ecd-4ee7-b0dd-ad428d953f32\",\\n        \"phone-number\": \"7600763387\",\\n        \"model\": \"MeeToo 1.0\"\\n      },\\n      {\\n        \"@timestamp\": \"1225461447\",\\n        \"@type\": \"phone\",\\n        \"account-number\": \"426\",\\n        \"device-id\": \"38a1566d-524e-4137-bad8-b597d09b54b0\",\\n        \"phone-number\": \"5102521038\",\\n        \"model\": \"Titanic 1000\"\\n      },\\n      {\\n        \"@timestamp\": \"1225446947\",\\n        \"@type\": \"phone\",\\n        \"account-number\": \"383\",\\n        \"device-id\": \"513024a3-a828-4674-9ff6-041e9a851f18\",\\n        \"phone-number\": \"9162206560\",\\n        \"model\": \"Sorrento F00L\"\\n      },\\n      {\\n        \"@timestamp\": \"1225445908\",\\n        \"@type\": \"phone\",\\n        \"account-number\": \"404\",\\n        \"device-id\": \"93d7d0eb-7551-4e11-ab59-91f34c04378f\",\\n        \"phone-number\": \"6506862748\",\\n        \"model\": \"MeeToo 1.0\"\\n      },\\n      {\\n        \"@timestamp\": \"1225444099\",\\n        \"@type\": \"phone\",\\n        \"account-number\": \"393\",\\n        \"device-id\": \"75faa3a2-31d6-48ec-a1a9-da4c882c7b75\",\\n        \"phone-number\": \"6504786402\",\\n        \"model\": \"iFruit 1\"\\n      },\\n      {\\n        \"@timestamp\": \"1225421991\",\\n        \"@type\": \"phone\",\\n        \"account-number\": \"53\",\\n        \"device-id\": \"a6482e48-d347-4ec5-b010-9d9a3b13d999\",\\n        \"phone-number\": \"6503155055\",\\n        \"model\": \"MeeToo 1.0\"\\n      },\\n      {\\n        \"@timestamp\": \"1225412236\",\\n        \"@type\": \"phone\",\\n        \"account-number\": \"96\",\\n        \"device-id\": \"351a0384-9af6-4621-ada8-3eba9fb2734c\",\\n        \"phone-number\": \"4152163825\",\\n        \"model\": \"iFruit 1\"\\n      },\\n      {\\n        \"@timestamp\": \"1225406348\",\\n        \"@type\": \"phone\",\\n        \"account-number\": \"283\",\\n        \"device-id\": \"04ad366c-c023-4d01-8493-8ec97d3ff5cc\",\\n        \"phone-number\": \"5109683453\",\\n        \"model\": \"Sorrento F00L\"\\n      },\\n      {\\n        \"@timestamp\": \"1225400017\",\\n        \"@type\": \"phone\",\\n        \"account-number\": \"464\",\\n        \"device-id\": \"e4ceefc4-8765-4beb-8b10-9b3d73eec535\",\\n        \"phone-number\": \"6504367851\",\\n        \"model\": \"MeeToo 1.0\"\\n      },\\n      {\\n        \"@timestamp\": \"1225386391\",\\n        \"@type\": \"phone\",\\n        \"account-number\": \"475\",\\n        \"device-id\": \"31fe0811-c4fb-40b8-bc59-8386fe2f5d8e\",\\n        \"phone-number\": \"6504313792\",\\n        \"model\": \"Titanic 1000\"\\n      },\\n      {\\n        \"@timestamp\": \"1225371984\",\\n        \"@type\": \"phone\",\\n        \"account-number\": \"479\",\\n        \"device-id\": \"38f76751-3236-4e99-80c9-c4b0a030108e\",\\n        \"phone-number\": \"6507811206\",\\n        \"model\": \"iFruit 1\"\\n      },\\n      {\\n        \"@timestamp\": \"1225355475\",\\n        \"@type\": \"phone\",\\n        \"account-number\": \"306\",\\n        \"device-id\": \"d743093b-8bcf-4ede-a475-4bc29936bc5e\",\\n        \"phone-number\": \"4158787317\",\\n        \"model\": \"Titanic 1000\"\\n      },\\n      {\\n        \"@timestamp\": \"1225349055\",\\n        \"@type\": \"phone\",\\n        \"account-number\": \"14045\",\\n        \"device-id\": \"1f568e8d-268a-4171-8a50-94c70fbfdf90\",\\n        \"phone-number\": \"9098824980\",\\n        \"model\": \"MeeToo 1.0\"\\n      },\\n      {\\n        \"@timestamp\": \"1225347793\",\\n        \"@type\": \"phone\",\\n        \"account-number\": \"6482\",\\n        \"device-id\": \"c14cbc3d-8b55-49bb-931d-7b2472aaa750\",\\n        \"phone-number\": \"4082887060\",\\n        \"model\": \"Sorrento F00L\"\\n      },\\n      {\\n        \"@timestamp\": \"1225345397\",\\n        \"@type\": \"phone\",\\n        \"account-number\": \"349\",\\n        \"device-id\": \"04c2fc8e-2f4f-4c7a-ad26-146c26deec87\",\\n        \"phone-number\": \"6502434241\",\\n        \"model\": \"MeeToo 1.0\"\\n      },\\n      {\\n        \"@timestamp\": \"1225333766\",\\n        \"@type\": \"phone\",\\n        \"account-number\": \"124\",\\n        \"device-id\": \"74d1341a-8da9-4de7-86f6-ec5285665ef2\",\\n        \"phone-number\": \"5103920538\",\\n        \"model\": \"MeeToo 1.0\"\\n      },\\n      {\\n        \"@timestamp\": \"1225333728\",\\n        \"@type\": \"phone\",\\n        \"account-number\": \"247\",\\n        \"device-id\": \"8ca7ba2f-5b8a-4574-abbb-de5a18221894\",\\n        \"phone-number\": \"6509604844\",\\n        \"model\": \"MeeToo 1.0\"\\n      },\\n      {\\n        \"@timestamp\": \"1225320127\",\\n        \"@type\": \"phone\",\\n        \"account-number\": \"88\",\\n        \"device-id\": \"9f7daca9-5faf-4cfd-b863-85d510464945\",\\n        \"phone-number\": \"6501458572\",\\n        \"model\": \"Sorrento F00L\"\\n      },\\n      {\\n        \"@timestamp\": \"1225319701\",\\n        \"@type\": \"phone\",\\n        \"account-number\": \"2939\",\\n        \"device-id\": \"18970270-86f0-4bac-ba03-24eb8518f082\",\\n        \"phone-number\": \"9161294398\",\\n        \"model\": \"Titanic 1000\"\\n      },\\n      {\\n        \"@timestamp\": \"1225317616\",\\n        \"@type\": \"phone\",\\n        \"account-number\": \"314\",\\n        \"device-id\": \"ae3cb61f-5318-4b74-bb05-9de91a66bb10\",\\n        \"phone-number\": \"6509019772\",\\n        \"model\": \"MeeToo 1.0\"\\n      },\\n      {\\n        \"@timestamp\": \"1225315853\",\\n        \"@type\": \"phone\",\\n        \"account-number\": \"396\",\\n        \"device-id\": \"767d106f-4a25-4177-afe5-8f081fc68cd7\",\\n        \"phone-number\": \"6500312075\",\\n        \"model\": \"MeeToo 1.0\"\\n      },\\n      {\\n        \"@timestamp\": \"1225278009\",\\n        \"@type\": \"phone\",\\n        \"account-number\": \"6881\",\\n        \"device-id\": \"fb8f6fe5-c2f5-43e5-a0b5-032c1b437989\",\\n        \"phone-number\": \"5625307326\",\\n        \"model\": \"MeeToo 1.0\"\\n      },\\n      {\\n        \"@timestamp\": \"1225275474\",\\n        \"@type\": \"phone\",\\n        \"account-number\": \"234\",\\n        \"device-id\": \"31485143-2104-4f4d-bceb-4866f484e27f\",\\n        \"phone-number\": \"9166314637\",\\n        \"model\": \"iFruit 1\"\\n      },\\n      {\\n        \"@timestamp\": \"1225246830\",\\n        \"@type\": \"phone\",\\n        \"account-number\": \"34209\",\\n        \"device-id\": \"7dcd293d-b59d-48ea-bfe5-af623fa67b81\",\\n        \"phone-number\": \"7022095507\",\\n        \"model\": \"Titanic 1000\"\\n      },\\n      {\\n        \"@timestamp\": \"1225242164\",\\n        \"@type\": \"phone\",\\n        \"account-number\": \"369\",\\n        \"device-id\": \"8cadd7a9-b799-4ebb-8314-2b8a9716ed86\",\\n        \"phone-number\": \"5108109471\",\\n        \"model\": \"MeeToo 1.0\"\\n      },\\n      {\\n        \"@timestamp\": \"1225230097\",\\n        \"@type\": \"phone\",\\n        \"account-number\": \"255\",\\n        \"device-id\": \"6d515f2b-4fc8-4916-916f-f7ec7750ee3e\",\\n        \"phone-number\": \"4159552347\",\\n        \"model\": \"iFruit 1\"\\n      },\\n      {\\n        \"@timestamp\": \"1225229238\",\\n        \"@type\": \"phone\",\\n        \"account-number\": \"13\",\\n        \"device-id\": \"9163f7b0-9957-47f2-8a56-cb195ea1adc4\",\\n        \"phone-number\": \"4153335996\",\\n        \"model\": \"iFruit 1\"\\n      },\\n      {\\n        \"@timestamp\": \"1225174761\",\\n        \"@type\": \"phone\",\\n        \"account-number\": \"142\",\\n        \"device-id\": \"558b13f3-783f-4434-a85f-97413146f835\",\\n        \"phone-number\": \"5109700907\",\\n        \"model\": \"Titanic 1000\"\\n      },\\n      {\\n        \"@timestamp\": \"1225161449\",\\n        \"@type\": \"phone\",\\n        \"account-number\": \"11\",\\n        \"device-id\": \"678dc546-57ca-47fa-a387-184248f610dd\",\\n        \"phone-number\": \"5109726353\",\\n        \"model\": \"iFruit 1\"\\n      },\\n      {\\n        \"@timestamp\": \"1225157362\",\\n        \"@type\": \"phone\",\\n        \"account-number\": \"61\",\\n        \"device-id\": \"be33c35d-1fa6-4f61-83e4-439a095ae4cc\",\\n        \"phone-number\": \"9162581613\",\\n        \"model\": \"iFruit 1\"\\n      },\\n      {\\n        \"@timestamp\": \"1225152905\",\\n        \"@type\": \"phone\",\\n        \"account-number\": \"1554\",\\n        \"device-id\": \"ce9468cc-8d98-4dc6-90b5-e72a44c64a21\",\\n        \"phone-number\": \"4153912267\",\\n        \"model\": \"MeeToo 1.0\"\\n      },\\n      {\\n        \"@timestamp\": \"1225149813\",\\n        \"@type\": \"phone\",\\n        \"account-number\": \"165\",\\n        \"device-id\": \"52c76b69-c8d2-479c-88af-cbf0e95e3e5e\",\\n        \"phone-number\": \"5104562352\",\\n        \"model\": \"Titanic 1000\"\\n      },\\n      {\\n        \"@timestamp\": \"1225120582\",\\n        \"@type\": \"phone\",\\n        \"account-number\": \"128224\",\\n        \"device-id\": \"416578b7-5684-4848-b97a-3587784eaa12\",\\n        \"phone-number\": \"2133389934\",\\n        \"model\": \"MeeToo 1.0\"\\n      },\\n      {\\n        \"@timestamp\": \"1225118290\",\\n        \"@type\": \"phone\",\\n        \"account-number\": \"394\",\\n        \"device-id\": \"6b879605-0cdc-4200-834f-205b74b40dca\",\\n        \"phone-number\": \"7070593543\",\\n        \"model\": \"MeeToo 1.0\"\\n      },\\n      {\\n        \"@timestamp\": \"1225102200\",\\n        \"@type\": \"phone\",\\n        \"account-number\": \"433\",\\n        \"device-id\": \"fd12614c-b21c-4b26-a825-4bfd63492149\",\\n        \"phone-number\": \"9165391636\",\\n        \"model\": \"MeeToo 1.0\"\\n      },\\n      {\\n        \"@timestamp\": \"1225086639\",\\n        \"@type\": \"phone\",\\n        \"account-number\": \"448\",\\n        \"device-id\": \"39f94f2b-3a58-49bd-bc48-3885cd42badc\",\\n        \"phone-number\": \"6503935352\",\\n        \"model\": \"iFruit 1\"\\n      },\\n      {\\n        \"@timestamp\": \"1225078279\",\\n        \"@type\": \"phone\",\\n        \"account-number\": \"440\",\\n        \"device-id\": \"0bf181b2-25b7-4541-87d8-15f6d7a0ccb9\",\\n        \"phone-number\": \"6505467053\",\\n        \"model\": \"Sorrento F00L\"\\n      },\\n      {\\n        \"@timestamp\": \"1225067942\",\\n        \"@type\": \"phone\",\\n        \"account-number\": \"240\",\\n        \"device-id\": \"3966e7ae-0954-4ea7-bde6-b35ee0f39c30\",\\n        \"phone-number\": \"7079354042\",\\n        \"model\": \"MeeToo 1.0\"\\n      },\\n      {\\n        \"@timestamp\": \"1225061652\",\\n        \"@type\": \"phone\",\\n        \"account-number\": \"460\",\\n        \"device-id\": \"5b8530d4-f467-42e3-818d-c81e20cfd1c1\",\\n        \"phone-number\": \"6500282551\",\\n        \"model\": \"MeeToo 1.0\"\\n      },\\n      {\\n        \"@timestamp\": \"1225058673\",\\n        \"@type\": \"phone\",\\n        \"account-number\": \"275\",\\n        \"device-id\": \"42be5c11-8931-46bf-af06-c87c3f580337\",\\n        \"phone-number\": \"4155493875\",\\n        \"model\": \"Sorrento F00L\"\\n      },\\n      {\\n        \"@timestamp\": \"1225047870\",\\n        \"@type\": \"phone\",\\n        \"account-number\": \"4638\",\\n        \"device-id\": \"7164d9d1-d2e0-439d-9aee-1fd20da48df3\",\\n        \"phone-number\": \"5101970154\",\\n        \"model\": \"Titanic 1000\"\\n      },\\n      {\\n        \"@timestamp\": \"1225039607\",\\n        \"@type\": \"phone\",\\n        \"account-number\": \"171\",\\n        \"device-id\": \"dc0e941a-90d4-4c84-ac7d-383e276dad84\",\\n        \"phone-number\": \"5105209310\",\\n        \"model\": \"Titanic 1000\"\\n      },\\n      {\\n        \"@timestamp\": \"1225033098\",\\n        \"@type\": \"phone\",\\n        \"account-number\": \"213\",\\n        \"device-id\": \"5c42d2ac-d92f-4ef1-acee-47d39a909b11\",\\n        \"phone-number\": \"5101004303\",\\n        \"model\": \"Sorrento F00L\"\\n      },\\n      {\\n        \"@timestamp\": \"1224994511\",\\n        \"@type\": \"phone\",\\n        \"account-number\": \"324\",\\n        \"device-id\": \"71a6ed8d-a751-44bf-8b38-320a49c12a9b\",\\n        \"phone-number\": \"6501654645\",\\n        \"model\": \"Sorrento F00L\"\\n      },\\n      {\\n        \"@timestamp\": \"1224990765\",\\n        \"@type\": \"phone\",\\n        \"account-number\": \"98121\",\\n        \"device-id\": \"9a6d0b23-8845-460d-aa47-91c82d8fc480\",\\n        \"phone-number\": \"6618825932\",\\n        \"model\": \"MeeToo 1.0\"\\n      },\\n      {\\n        \"@timestamp\": \"1224983389\",\\n        \"@type\": \"phone\",\\n        \"account-number\": \"363\",\\n        \"device-id\": \"254ab846-f1d4-4c85-a658-46ee5e848c53\",\\n        \"phone-number\": \"6505506140\",\\n        \"model\": \"iFruit 1\"\\n      },\\n      {\\n        \"@timestamp\": \"1224956920\",\\n        \"@type\": \"phone\",\\n        \"account-number\": \"52\",\\n        \"device-id\": \"330f46cc-de2a-49d3-aa93-6ff761de7d5a\",\\n        \"phone-number\": \"4151228388\",\\n        \"model\": \"Titanic 1000\"\\n      },\\n      {\\n        \"@timestamp\": \"1224956441\",\\n        \"@type\": \"phone\",\\n        \"account-number\": \"286\",\\n        \"device-id\": \"78d4f9fe-b6e3-40c2-91d5-18ff95a074e5\",\\n        \"phone-number\": \"5107058174\",\\n        \"model\": \"iFruit 1\"\\n      },\\n      {\\n        \"@timestamp\": \"1224946254\",\\n        \"@type\": \"phone\",\\n        \"account-number\": \"13702\",\\n        \"device-id\": \"b024cf7d-496f-4f6e-bbc1-772d13ca1617\",\\n        \"phone-number\": \"5416107165\",\\n        \"model\": \"Titanic 1000\"\\n      },\\n      {\\n        \"@timestamp\": \"1224944970\",\\n        \"@type\": \"phone\",\\n        \"account-number\": \"345\",\\n        \"device-id\": \"cd1c8a9d-066c-4f6f-b08f-dc119d827699\",\\n        \"phone-number\": \"5103859765\",\\n        \"model\": \"MeeToo 1.0\"\\n      },\\n      {\\n        \"@timestamp\": \"1224938467\",\\n        \"@type\": \"phone\",\\n        \"account-number\": \"36906\",\\n        \"device-id\": \"9043cf20-d816-4f17-af72-020767ae14e0\",\\n        \"phone-number\": \"5411008209\",\\n        \"model\": \"Titanic 1000\"\\n      },\\n      {\\n        \"@timestamp\": \"1224907589\",\\n        \"@type\": \"phone\",\\n        \"account-number\": \"413\",\\n        \"device-id\": \"0e487cf9-6923-4891-94f7-7b12695b72fd\",\\n        \"phone-number\": \"5107080443\",\\n        \"model\": \"iFruit 1\"\\n      },\\n      {\\n        \"@timestamp\": \"1224847655\",\\n        \"@type\": \"phone\",\\n        \"account-number\": \"459\",\\n        \"device-id\": \"5aff8521-f91b-48f6-a69a-156caa236bd0\",\\n        \"phone-number\": \"4157500638\",\\n        \"model\": \"Titanic 1000\"\\n      },\\n      {\\n        \"@timestamp\": \"1224831370\",\\n        \"@type\": \"phone\",\\n        \"account-number\": \"144\",\\n        \"device-id\": \"e7f833e9-276e-4f3b-9710-9d3106a5141a\",\\n        \"phone-number\": \"5108355566\",\\n        \"model\": \"Sorrento F00L\"\\n      },\\n      {\\n        \"@timestamp\": \"1224817110\",\\n        \"@type\": \"phone\",\\n        \"account-number\": \"373\",\\n        \"device-id\": \"0f7b8628-873a-4d1b-9b86-0bfe40f2f668\",\\n        \"phone-number\": \"5109247675\",\\n        \"model\": \"Titanic 1000\"\\n      },\\n      {\\n        \"@timestamp\": \"1224812967\",\\n        \"@type\": \"phone\",\\n        \"account-number\": \"46849\",\\n        \"device-id\": \"b99f88ef-5ad2-4c62-bbc6-ca2756b4467c\",\\n        \"phone-number\": \"5414191932\",\\n        \"model\": \"Sorrento F00L\"\\n      },\\n      {\\n        \"@timestamp\": \"1224805157\",\\n        \"@type\": \"phone\",\\n        \"account-number\": \"252\",\\n        \"device-id\": \"6c71ca45-ddae-4191-98e8-01f3bc2a1220\",\\n        \"phone-number\": \"5109508609\",\\n        \"model\": \"Titanic 1000\"\\n      },\\n      {\\n        \"@timestamp\": \"1224803105\",\\n        \"@type\": \"phone\",\\n        \"account-number\": \"1\",\\n        \"device-id\": \"7eb61253-55cd-4309-8f17-129089fee461\",\\n        \"phone-number\": \"5100032418\",\\n        \"model\": \"Titanic 1000\"\\n      },\\n      {\\n        \"@timestamp\": \"1224782486\",\\n        \"@type\": \"phone\",\\n        \"account-number\": \"21566\",\\n        \"device-id\": \"2bebd773-39ac-4d31-a23e-06eb2991ac26\",\\n        \"phone-number\": \"9165053364\",\\n        \"model\": \"Titanic 1000\"\\n      },\\n      {\\n        \"@timestamp\": \"1224781467\",\\n        \"@type\": \"phone\",\\n        \"account-number\": \"154\",\\n        \"device-id\": \"1923ef7c-3067-4f7c-93f7-c867bd31a39f\",\\n        \"phone-number\": \"5106577100\",\\n        \"model\": \"Titanic 1000\"\\n      },\\n      {\\n        \"@timestamp\": \"1224778387\",\\n        \"@type\": \"phone\",\\n        \"account-number\": \"46168\",\\n        \"device-id\": \"fb7f3575-c523-47bf-be76-889a07a5af9c\",\\n        \"phone-number\": \"5037703631\",\\n        \"model\": \"iFruit 1\"\\n      },\\n      {\\n        \"@timestamp\": \"1224771580\",\\n        \"@type\": \"phone\",\\n        \"account-number\": \"3838\",\\n        \"device-id\": \"46ec037a-c72d-4e4a-aff6-a7498dbd8b1f\",\\n        \"phone-number\": \"6501253886\",\\n        \"model\": \"Titanic 1000\"\\n      },\\n      {\\n        \"@timestamp\": \"1224769655\",\\n        \"@type\": \"phone\",\\n        \"account-number\": \"21821\",\\n        \"device-id\": \"2cef3c7a-6fbe-42d1-9a7f-19854a959700\",\\n        \"phone-number\": \"6262624197\",\\n        \"model\": \"MeeToo 1.0\"\\n      },\\n      {\\n        \"@timestamp\": \"1224747397\",\\n        \"@type\": \"phone\",\\n        \"account-number\": \"204\",\\n        \"device-id\": \"04d374ba-3441-4aa4-88d9-057c0721ba0f\",\\n        \"phone-number\": \"7076669246\",\\n        \"model\": \"iFruit 1\"\\n      },\\n      {\\n        \"@timestamp\": \"1224736965\",\\n        \"@type\": \"phone\",\\n        \"account-number\": \"131\",\\n        \"device-id\": \"a53f23f2-a57f-4655-90fd-f53a0a05d587\",\\n        \"phone-number\": \"4151707647\",\\n        \"model\": \"MeeToo 1.0\"\\n      },\\n      {\\n        \"@timestamp\": \"1224729378\",\\n        \"@type\": \"phone\",\\n        \"account-number\": \"474\",\\n        \"device-id\": \"4bd55037-72e7-432f-a1b1-2a94a4df9f16\",\\n        \"phone-number\": \"5102971778\",\\n        \"model\": \"iFruit 1\"\\n      },\\n      {\\n        \"@timestamp\": \"1224725663\",\\n        \"@type\": \"phone\",\\n        \"account-number\": \"146\",\\n        \"device-id\": \"5c66d63f-3384-49d6-8cba-65a28b34ba30\",\\n        \"phone-number\": \"7070285635\",\\n        \"model\": \"Titanic 1000\"\\n      },\\n      {\\n        \"@timestamp\": \"1224719408\",\\n        \"@type\": \"phone\",\\n        \"account-number\": \"2063\",\\n        \"device-id\": \"21b927a6-c4f6-43c0-bc11-abe77abfd6bc\",\\n        \"phone-number\": \"6503298970\",\\n        \"model\": \"MeeToo 1.0\"\\n      },\\n      {\\n        \"@timestamp\": \"1224688572\",\\n        \"@type\": \"phone\",\\n        \"account-number\": \"374\",\\n        \"device-id\": \"cc8ef6ff-93de-4a55-b2ed-888b3bd9740b\",\\n        \"phone-number\": \"7073442709\",\\n        \"model\": \"Sorrento F00L\"\\n      },\\n      {\\n        \"@timestamp\": \"1224652877\",\\n        \"@type\": \"phone\",\\n        \"account-number\": \"89\",\\n        \"device-id\": \"bbc9f0e7-8315-4ada-832d-56db3083d507\",\\n        \"phone-number\": \"5104067433\",\\n        \"model\": \"Titanic 1000\"\\n      },\\n      {\\n        \"@timestamp\": \"1224652432\",\\n        \"@type\": \"phone\",\\n        \"account-number\": \"194\",\\n        \"device-id\": \"7997d06a-664d-45f2-9c1e-4896b1450e28\",\\n        \"phone-number\": \"7071451183\",\\n        \"model\": \"Sorrento F00L\"\\n      },\\n      {\\n        \"@timestamp\": \"1224641243\",\\n        \"@type\": \"phone\",\\n        \"account-number\": \"269\",\\n        \"device-id\": \"07895a7d-1b66-4b7c-84d7-b1592a03437c\",\\n        \"phone-number\": \"4153026986\",\\n        \"model\": \"Titanic 1000\"\\n      },\\n      {\\n        \"@timestamp\": \"1224628700\",\\n        \"@type\": \"phone\",\\n        \"account-number\": \"155\",\\n        \"device-id\": \"cd84b041-5d4e-4fc5-977e-46231507e173\",\\n        \"phone-number\": \"4153927390\",\\n        \"model\": \"Sorrento F00L\"\\n      },\\n      {\\n        \"@timestamp\": \"1224585351\",\\n        \"@type\": \"phone\",\\n        \"account-number\": \"405\",\\n        \"device-id\": \"b53bb445-5bc6-489b-9dd5-9de6370a19fe\",\\n        \"phone-number\": \"4151697001\",\\n        \"model\": \"MeeToo 1.0\"\\n      }\\n    ]\\n  }\\n}\\n'"
     ]
    }
   ],
   "source": [
    "dbutils.fs.head('FileStore/tables/activations/2008-10.json')"
   ]
  },
  {
   "cell_type": "code",
   "execution_count": 0,
   "metadata": {
    "application/vnd.databricks.v1+cell": {
     "cellMetadata": {
      "byteLimit": 2048000,
      "rowLimit": 10000
     },
     "inputWidgets": {},
     "nuid": "ff1b43f7-71da-4954-87c6-6c090ee227b5",
     "showTitle": false,
     "title": ""
    }
   },
   "outputs": [],
   "source": [
    "myrdd1=sc.wholeTextFiles('FileStore/tables/activations/')"
   ]
  },
  {
   "cell_type": "code",
   "execution_count": 0,
   "metadata": {
    "application/vnd.databricks.v1+cell": {
     "cellMetadata": {
      "byteLimit": 2048000,
      "rowLimit": 10000
     },
     "inputWidgets": {},
     "nuid": "ac6850dd-8f98-46e6-b2fe-5fca4ea822cd",
     "showTitle": false,
     "title": ""
    }
   },
   "outputs": [
    {
     "output_type": "stream",
     "name": "stdout",
     "output_type": "stream",
     "text": [
      "Out[13]: [('dbfs:/FileStore/tables/activations/2008-10.json',\n  '{\\n  \"activations\": {\\n    \"activation\": [\\n      {\\n        \"@timestamp\": \"1225462088\",\\n        \"@type\": \"phone\",\\n        \"account-number\": \"9763\",\\n        \"device-id\": \"debea35e-3ecd-4ee7-b0dd-ad428d953f32\",\\n        \"phone-number\": \"7600763387\",\\n        \"model\": \"MeeToo 1.0\"\\n      },\\n      {\\n        \"@timestamp\": \"1225461447\",\\n        \"@type\": \"phone\",\\n        \"account-number\": \"426\",\\n        \"device-id\": \"38a1566d-524e-4137-bad8-b597d09b54b0\",\\n        \"phone-number\": \"5102521038\",\\n        \"model\": \"Titanic 1000\"\\n      },\\n      {\\n        \"@timestamp\": \"1225446947\",\\n        \"@type\": \"phone\",\\n        \"account-number\": \"383\",\\n        \"device-id\": \"513024a3-a828-4674-9ff6-041e9a851f18\",\\n        \"phone-number\": \"9162206560\",\\n        \"model\": \"Sorrento F00L\"\\n      },\\n      {\\n        \"@timestamp\": \"1225445908\",\\n        \"@type\": \"phone\",\\n        \"account-number\": \"404\",\\n        \"device-id\": \"93d7d0eb-7551-4e11-ab59-91f34c04378f\",\\n        \"phone-number\": \"6506862748\",\\n        \"model\": \"MeeToo 1.0\"\\n      },\\n      {\\n        \"@timestamp\": \"1225444099\",\\n        \"@type\": \"phone\",\\n        \"account-number\": \"393\",\\n        \"device-id\": \"75faa3a2-31d6-48ec-a1a9-da4c882c7b75\",\\n        \"phone-number\": \"6504786402\",\\n        \"model\": \"iFruit 1\"\\n      },\\n      {\\n        \"@timestamp\": \"1225421991\",\\n        \"@type\": \"phone\",\\n        \"account-number\": \"53\",\\n        \"device-id\": \"a6482e48-d347-4ec5-b010-9d9a3b13d999\",\\n        \"phone-number\": \"6503155055\",\\n        \"model\": \"MeeToo 1.0\"\\n      },\\n      {\\n        \"@timestamp\": \"1225412236\",\\n        \"@type\": \"phone\",\\n        \"account-number\": \"96\",\\n        \"device-id\": \"351a0384-9af6-4621-ada8-3eba9fb2734c\",\\n        \"phone-number\": \"4152163825\",\\n        \"model\": \"iFruit 1\"\\n      },\\n      {\\n        \"@timestamp\": \"1225406348\",\\n        \"@type\": \"phone\",\\n        \"account-number\": \"283\",\\n        \"device-id\": \"04ad366c-c023-4d01-8493-8ec97d3ff5cc\",\\n        \"phone-number\": \"5109683453\",\\n        \"model\": \"Sorrento F00L\"\\n      },\\n      {\\n        \"@timestamp\": \"1225400017\",\\n        \"@type\": \"phone\",\\n        \"account-number\": \"464\",\\n        \"device-id\": \"e4ceefc4-8765-4beb-8b10-9b3d73eec535\",\\n        \"phone-number\": \"6504367851\",\\n        \"model\": \"MeeToo 1.0\"\\n      },\\n      {\\n        \"@timestamp\": \"1225386391\",\\n        \"@type\": \"phone\",\\n        \"account-number\": \"475\",\\n        \"device-id\": \"31fe0811-c4fb-40b8-bc59-8386fe2f5d8e\",\\n        \"phone-number\": \"6504313792\",\\n        \"model\": \"Titanic 1000\"\\n      },\\n      {\\n        \"@timestamp\": \"1225371984\",\\n        \"@type\": \"phone\",\\n        \"account-number\": \"479\",\\n        \"device-id\": \"38f76751-3236-4e99-80c9-c4b0a030108e\",\\n        \"phone-number\": \"6507811206\",\\n        \"model\": \"iFruit 1\"\\n      },\\n      {\\n        \"@timestamp\": \"1225355475\",\\n        \"@type\": \"phone\",\\n        \"account-number\": \"306\",\\n        \"device-id\": \"d743093b-8bcf-4ede-a475-4bc29936bc5e\",\\n        \"phone-number\": \"4158787317\",\\n        \"model\": \"Titanic 1000\"\\n      },\\n      {\\n        \"@timestamp\": \"1225349055\",\\n        \"@type\": \"phone\",\\n        \"account-number\": \"14045\",\\n        \"device-id\": \"1f568e8d-268a-4171-8a50-94c70fbfdf90\",\\n        \"phone-number\": \"9098824980\",\\n        \"model\": \"MeeToo 1.0\"\\n      },\\n      {\\n        \"@timestamp\": \"1225347793\",\\n        \"@type\": \"phone\",\\n        \"account-number\": \"6482\",\\n        \"device-id\": \"c14cbc3d-8b55-49bb-931d-7b2472aaa750\",\\n        \"phone-number\": \"4082887060\",\\n        \"model\": \"Sorrento F00L\"\\n      },\\n      {\\n        \"@timestamp\": \"1225345397\",\\n        \"@type\": \"phone\",\\n        \"account-number\": \"349\",\\n        \"device-id\": \"04c2fc8e-2f4f-4c7a-ad26-146c26deec87\",\\n        \"phone-number\": \"6502434241\",\\n        \"model\": \"MeeToo 1.0\"\\n      },\\n      {\\n        \"@timestamp\": \"1225333766\",\\n        \"@type\": \"phone\",\\n        \"account-number\": \"124\",\\n        \"device-id\": \"74d1341a-8da9-4de7-86f6-ec5285665ef2\",\\n        \"phone-number\": \"5103920538\",\\n        \"model\": \"MeeToo 1.0\"\\n      },\\n      {\\n        \"@timestamp\": \"1225333728\",\\n        \"@type\": \"phone\",\\n        \"account-number\": \"247\",\\n        \"device-id\": \"8ca7ba2f-5b8a-4574-abbb-de5a18221894\",\\n        \"phone-number\": \"6509604844\",\\n        \"model\": \"MeeToo 1.0\"\\n      },\\n      {\\n        \"@timestamp\": \"1225320127\",\\n        \"@type\": \"phone\",\\n        \"account-number\": \"88\",\\n        \"device-id\": \"9f7daca9-5faf-4cfd-b863-85d510464945\",\\n        \"phone-number\": \"6501458572\",\\n        \"model\": \"Sorrento F00L\"\\n      },\\n      {\\n        \"@timestamp\": \"1225319701\",\\n        \"@type\": \"phone\",\\n        \"account-number\": \"2939\",\\n        \"device-id\": \"18970270-86f0-4bac-ba03-24eb8518f082\",\\n        \"phone-number\": \"9161294398\",\\n        \"model\": \"Titanic 1000\"\\n      },\\n      {\\n        \"@timestamp\": \"1225317616\",\\n        \"@type\": \"phone\",\\n        \"account-number\": \"314\",\\n        \"device-id\": \"ae3cb61f-5318-4b74-bb05-9de91a66bb10\",\\n        \"phone-number\": \"6509019772\",\\n        \"model\": \"MeeToo 1.0\"\\n      },\\n      {\\n        \"@timestamp\": \"1225315853\",\\n        \"@type\": \"phone\",\\n        \"account-number\": \"396\",\\n        \"device-id\": \"767d106f-4a25-4177-afe5-8f081fc68cd7\",\\n        \"phone-number\": \"6500312075\",\\n        \"model\": \"MeeToo 1.0\"\\n      },\\n      {\\n        \"@timestamp\": \"1225278009\",\\n        \"@type\": \"phone\",\\n        \"account-number\": \"6881\",\\n        \"device-id\": \"fb8f6fe5-c2f5-43e5-a0b5-032c1b437989\",\\n        \"phone-number\": \"5625307326\",\\n        \"model\": \"MeeToo 1.0\"\\n      },\\n      {\\n        \"@timestamp\": \"1225275474\",\\n        \"@type\": \"phone\",\\n        \"account-number\": \"234\",\\n        \"device-id\": \"31485143-2104-4f4d-bceb-4866f484e27f\",\\n        \"phone-number\": \"9166314637\",\\n        \"model\": \"iFruit 1\"\\n      },\\n      {\\n        \"@timestamp\": \"1225246830\",\\n        \"@type\": \"phone\",\\n        \"account-number\": \"34209\",\\n        \"device-id\": \"7dcd293d-b59d-48ea-bfe5-af623fa67b81\",\\n        \"phone-number\": \"7022095507\",\\n        \"model\": \"Titanic 1000\"\\n      },\\n      {\\n        \"@timestamp\": \"1225242164\",\\n        \"@type\": \"phone\",\\n        \"account-number\": \"369\",\\n        \"device-id\": \"8cadd7a9-b799-4ebb-8314-2b8a9716ed86\",\\n        \"phone-number\": \"5108109471\",\\n        \"model\": \"MeeToo 1.0\"\\n      },\\n      {\\n        \"@timestamp\": \"1225230097\",\\n        \"@type\": \"phone\",\\n        \"account-number\": \"255\",\\n        \"device-id\": \"6d515f2b-4fc8-4916-916f-f7ec7750ee3e\",\\n        \"phone-number\": \"4159552347\",\\n        \"model\": \"iFruit 1\"\\n      },\\n      {\\n        \"@timestamp\": \"1225229238\",\\n        \"@type\": \"phone\",\\n        \"account-number\": \"13\",\\n        \"device-id\": \"9163f7b0-9957-47f2-8a56-cb195ea1adc4\",\\n        \"phone-number\": \"4153335996\",\\n        \"model\": \"iFruit 1\"\\n      },\\n      {\\n        \"@timestamp\": \"1225174761\",\\n        \"@type\": \"phone\",\\n        \"account-number\": \"142\",\\n        \"device-id\": \"558b13f3-783f-4434-a85f-97413146f835\",\\n        \"phone-number\": \"5109700907\",\\n        \"model\": \"Titanic 1000\"\\n      },\\n      {\\n        \"@timestamp\": \"1225161449\",\\n        \"@type\": \"phone\",\\n        \"account-number\": \"11\",\\n        \"device-id\": \"678dc546-57ca-47fa-a387-184248f610dd\",\\n        \"phone-number\": \"5109726353\",\\n        \"model\": \"iFruit 1\"\\n      },\\n      {\\n        \"@timestamp\": \"1225157362\",\\n        \"@type\": \"phone\",\\n        \"account-number\": \"61\",\\n        \"device-id\": \"be33c35d-1fa6-4f61-83e4-439a095ae4cc\",\\n        \"phone-number\": \"9162581613\",\\n        \"model\": \"iFruit 1\"\\n      },\\n      {\\n        \"@timestamp\": \"1225152905\",\\n        \"@type\": \"phone\",\\n        \"account-number\": \"1554\",\\n        \"device-id\": \"ce9468cc-8d98-4dc6-90b5-e72a44c64a21\",\\n        \"phone-number\": \"4153912267\",\\n        \"model\": \"MeeToo 1.0\"\\n      },\\n      {\\n        \"@timestamp\": \"1225149813\",\\n        \"@type\": \"phone\",\\n        \"account-number\": \"165\",\\n        \"device-id\": \"52c76b69-c8d2-479c-88af-cbf0e95e3e5e\",\\n        \"phone-number\": \"5104562352\",\\n        \"model\": \"Titanic 1000\"\\n      },\\n      {\\n        \"@timestamp\": \"1225120582\",\\n        \"@type\": \"phone\",\\n        \"account-number\": \"128224\",\\n        \"device-id\": \"416578b7-5684-4848-b97a-3587784eaa12\",\\n        \"phone-number\": \"2133389934\",\\n        \"model\": \"MeeToo 1.0\"\\n      },\\n      {\\n        \"@timestamp\": \"1225118290\",\\n        \"@type\": \"phone\",\\n        \"account-number\": \"394\",\\n        \"device-id\": \"6b879605-0cdc-4200-834f-205b74b40dca\",\\n        \"phone-number\": \"7070593543\",\\n        \"model\": \"MeeToo 1.0\"\\n      },\\n      {\\n        \"@timestamp\": \"1225102200\",\\n        \"@type\": \"phone\",\\n        \"account-number\": \"433\",\\n        \"device-id\": \"fd12614c-b21c-4b26-a825-4bfd63492149\",\\n        \"phone-number\": \"9165391636\",\\n        \"model\": \"MeeToo 1.0\"\\n      },\\n      {\\n        \"@timestamp\": \"1225086639\",\\n        \"@type\": \"phone\",\\n        \"account-number\": \"448\",\\n        \"device-id\": \"39f94f2b-3a58-49bd-bc48-3885cd42badc\",\\n        \"phone-number\": \"6503935352\",\\n        \"model\": \"iFruit 1\"\\n      },\\n      {\\n        \"@timestamp\": \"1225078279\",\\n        \"@type\": \"phone\",\\n        \"account-number\": \"440\",\\n        \"device-id\": \"0bf181b2-25b7-4541-87d8-15f6d7a0ccb9\",\\n        \"phone-number\": \"6505467053\",\\n        \"model\": \"Sorrento F00L\"\\n      },\\n      {\\n        \"@timestamp\": \"1225067942\",\\n        \"@type\": \"phone\",\\n        \"account-number\": \"240\",\\n        \"device-id\": \"3966e7ae-0954-4ea7-bde6-b35ee0f39c30\",\\n        \"phone-number\": \"7079354042\",\\n        \"model\": \"MeeToo 1.0\"\\n      },\\n      {\\n        \"@timestamp\": \"1225061652\",\\n        \"@type\": \"phone\",\\n        \"account-number\": \"460\",\\n        \"device-id\": \"5b8530d4-f467-42e3-818d-c81e20cfd1c1\",\\n        \"phone-number\": \"6500282551\",\\n        \"model\": \"MeeToo 1.0\"\\n      },\\n      {\\n        \"@timestamp\": \"1225058673\",\\n        \"@type\": \"phone\",\\n        \"account-number\": \"275\",\\n        \"device-id\": \"42be5c11-8931-46bf-af06-c87c3f580337\",\\n        \"phone-number\": \"4155493875\",\\n        \"model\": \"Sorrento F00L\"\\n      },\\n      {\\n        \"@timestamp\": \"1225047870\",\\n        \"@type\": \"phone\",\\n        \"account-number\": \"4638\",\\n        \"device-id\": \"7164d9d1-d2e0-439d-9aee-1fd20da48df3\",\\n        \"phone-number\": \"5101970154\",\\n        \"model\": \"Titanic 1000\"\\n      },\\n      {\\n        \"@timestamp\": \"1225039607\",\\n        \"@type\": \"phone\",\\n        \"account-number\": \"171\",\\n        \"device-id\": \"dc0e941a-90d4-4c84-ac7d-383e276dad84\",\\n        \"phone-number\": \"5105209310\",\\n        \"model\": \"Titanic 1000\"\\n      },\\n      {\\n        \"@timestamp\": \"1225033098\",\\n        \"@type\": \"phone\",\\n        \"account-number\": \"213\",\\n        \"device-id\": \"5c42d2ac-d92f-4ef1-acee-47d39a909b11\",\\n        \"phone-number\": \"5101004303\",\\n        \"model\": \"Sorrento F00L\"\\n      },\\n      {\\n        \"@timestamp\": \"1224994511\",\\n        \"@type\": \"phone\",\\n        \"account-number\": \"324\",\\n        \"device-id\": \"71a6ed8d-a751-44bf-8b38-320a49c12a9b\",\\n        \"phone-number\": \"6501654645\",\\n        \"model\": \"Sorrento F00L\"\\n      },\\n      {\\n        \"@timestamp\": \"1224990765\",\\n        \"@type\": \"phone\",\\n        \"account-number\": \"98121\",\\n        \"device-id\": \"9a6d0b23-8845-460d-aa47-91c82d8fc480\",\\n        \"phone-number\": \"6618825932\",\\n        \"model\": \"MeeToo 1.0\"\\n      },\\n      {\\n        \"@timestamp\": \"1224983389\",\\n        \"@type\": \"phone\",\\n        \"account-number\": \"363\",\\n        \"device-id\": \"254ab846-f1d4-4c85-a658-46ee5e848c53\",\\n        \"phone-number\": \"6505506140\",\\n        \"model\": \"iFruit 1\"\\n      },\\n      {\\n        \"@timestamp\": \"1224956920\",\\n        \"@type\": \"phone\",\\n        \"account-number\": \"52\",\\n        \"device-id\": \"330f46cc-de2a-49d3-aa93-6ff761de7d5a\",\\n        \"phone-number\": \"4151228388\",\\n        \"model\": \"Titanic 1000\"\\n      },\\n      {\\n        \"@timestamp\": \"1224956441\",\\n        \"@type\": \"phone\",\\n        \"account-number\": \"286\",\\n        \"device-id\": \"78d4f9fe-b6e3-40c2-91d5-18ff95a074e5\",\\n        \"phone-number\": \"5107058174\",\\n        \"model\": \"iFruit 1\"\\n      },\\n      {\\n        \"@timestamp\": \"1224946254\",\\n        \"@type\": \"phone\",\\n        \"account-number\": \"13702\",\\n        \"device-id\": \"b024cf7d-496f-4f6e-bbc1-772d13ca1617\",\\n        \"phone-number\": \"5416107165\",\\n        \"model\": \"Titanic 1000\"\\n      },\\n      {\\n        \"@timestamp\": \"1224944970\",\\n        \"@type\": \"phone\",\\n        \"account-number\": \"345\",\\n        \"device-id\": \"cd1c8a9d-066c-4f6f-b08f-dc119d827699\",\\n        \"phone-number\": \"5103859765\",\\n        \"model\": \"MeeToo 1.0\"\\n      },\\n      {\\n        \"@timestamp\": \"1224938467\",\\n        \"@type\": \"phone\",\\n        \"account-number\": \"36906\",\\n        \"device-id\": \"9043cf20-d816-4f17-af72-020767ae14e0\",\\n        \"phone-number\": \"5411008209\",\\n        \"model\": \"Titanic 1000\"\\n      },\\n      {\\n        \"@timestamp\": \"1224907589\",\\n        \"@type\": \"phone\",\\n        \"account-number\": \"413\",\\n        \"device-id\": \"0e487cf9-6923-4891-94f7-7b12695b72fd\",\\n        \"phone-number\": \"5107080443\",\\n        \"model\": \"iFruit 1\"\\n      },\\n      {\\n        \"@timestamp\": \"1224847655\",\\n        \"@type\": \"phone\",\\n        \"account-number\": \"459\",\\n        \"device-id\": \"5aff8521-f91b-48f6-a69a-156caa236bd0\",\\n        \"phone-number\": \"4157500638\",\\n        \"model\": \"Titanic 1000\"\\n      },\\n      {\\n        \"@timestamp\": \"1224831370\",\\n        \"@type\": \"phone\",\\n        \"account-number\": \"144\",\\n        \"device-id\": \"e7f833e9-276e-4f3b-9710-9d3106a5141a\",\\n        \"phone-number\": \"5108355566\",\\n        \"model\": \"Sorrento F00L\"\\n      },\\n      {\\n        \"@timestamp\": \"1224817110\",\\n        \"@type\": \"phone\",\\n        \"account-number\": \"373\",\\n        \"device-id\": \"0f7b8628-873a-4d1b-9b86-0bfe40f2f668\",\\n        \"phone-number\": \"5109247675\",\\n        \"model\": \"Titanic 1000\"\\n      },\\n      {\\n        \"@timestamp\": \"1224812967\",\\n        \"@type\": \"phone\",\\n        \"account-number\": \"46849\",\\n        \"device-id\": \"b99f88ef-5ad2-4c62-bbc6-ca2756b4467c\",\\n        \"phone-number\": \"5414191932\",\\n        \"model\": \"Sorrento F00L\"\\n      },\\n      {\\n        \"@timestamp\": \"1224805157\",\\n        \"@type\": \"phone\",\\n        \"account-number\": \"252\",\\n        \"device-id\": \"6c71ca45-ddae-4191-98e8-01f3bc2a1220\",\\n        \"phone-number\": \"5109508609\",\\n        \"model\": \"Titanic 1000\"\\n      },\\n      {\\n        \"@timestamp\": \"1224803105\",\\n        \"@type\": \"phone\",\\n        \"account-number\": \"1\",\\n        \"device-id\": \"7eb61253-55cd-4309-8f17-129089fee461\",\\n        \"phone-number\": \"5100032418\",\\n        \"model\": \"Titanic 1000\"\\n      },\\n      {\\n        \"@timestamp\": \"1224782486\",\\n        \"@type\": \"phone\",\\n        \"account-number\": \"21566\",\\n        \"device-id\": \"2bebd773-39ac-4d31-a23e-06eb2991ac26\",\\n        \"phone-number\": \"9165053364\",\\n        \"model\": \"Titanic 1000\"\\n      },\\n      {\\n        \"@timestamp\": \"1224781467\",\\n        \"@type\": \"phone\",\\n        \"account-number\": \"154\",\\n        \"device-id\": \"1923ef7c-3067-4f7c-93f7-c867bd31a39f\",\\n        \"phone-number\": \"5106577100\",\\n        \"model\": \"Titanic 1000\"\\n      },\\n      {\\n        \"@timestamp\": \"1224778387\",\\n        \"@type\": \"phone\",\\n        \"account-number\": \"46168\",\\n        \"device-id\": \"fb7f3575-c523-47bf-be76-889a07a5af9c\",\\n        \"phone-number\": \"5037703631\",\\n        \"model\": \"iFruit 1\"\\n      },\\n      {\\n        \"@timestamp\": \"1224771580\",\\n        \"@type\": \"phone\",\\n        \"account-number\": \"3838\",\\n        \"device-id\": \"46ec037a-c72d-4e4a-aff6-a7498dbd8b1f\",\\n        \"phone-number\": \"6501253886\",\\n        \"model\": \"Titanic 1000\"\\n      },\\n      {\\n        \"@timestamp\": \"1224769655\",\\n        \"@type\": \"phone\",\\n        \"account-number\": \"21821\",\\n        \"device-id\": \"2cef3c7a-6fbe-42d1-9a7f-19854a959700\",\\n        \"phone-number\": \"6262624197\",\\n        \"model\": \"MeeToo 1.0\"\\n      },\\n      {\\n        \"@timestamp\": \"1224747397\",\\n        \"@type\": \"phone\",\\n        \"account-number\": \"204\",\\n        \"device-id\": \"04d374ba-3441-4aa4-88d9-057c0721ba0f\",\\n        \"phone-number\": \"7076669246\",\\n        \"model\": \"iFruit 1\"\\n      },\\n      {\\n        \"@timestamp\": \"1224736965\",\\n        \"@type\": \"phone\",\\n        \"account-number\": \"131\",\\n        \"device-id\": \"a53f23f2-a57f-4655-90fd-f53a0a05d587\",\\n        \"phone-number\": \"4151707647\",\\n        \"model\": \"MeeToo 1.0\"\\n      },\\n      {\\n        \"@timestamp\": \"1224729378\",\\n        \"@type\": \"phone\",\\n        \"account-number\": \"474\",\\n        \"device-id\": \"4bd55037-72e7-432f-a1b1-2a94a4df9f16\",\\n        \"phone-number\": \"5102971778\",\\n        \"model\": \"iFruit 1\"\\n      },\\n      {\\n        \"@timestamp\": \"1224725663\",\\n        \"@type\": \"phone\",\\n        \"account-number\": \"146\",\\n        \"device-id\": \"5c66d63f-3384-49d6-8cba-65a28b34ba30\",\\n        \"phone-number\": \"7070285635\",\\n        \"model\": \"Titanic 1000\"\\n      },\\n      {\\n        \"@timestamp\": \"1224719408\",\\n        \"@type\": \"phone\",\\n        \"account-number\": \"2063\",\\n        \"device-id\": \"21b927a6-c4f6-43c0-bc11-abe77abfd6bc\",\\n        \"phone-number\": \"6503298970\",\\n        \"model\": \"MeeToo 1.0\"\\n      },\\n      {\\n        \"@timestamp\": \"1224688572\",\\n        \"@type\": \"phone\",\\n        \"account-number\": \"374\",\\n        \"device-id\": \"cc8ef6ff-93de-4a55-b2ed-888b3bd9740b\",\\n        \"phone-number\": \"7073442709\",\\n        \"model\": \"Sorrento F00L\"\\n      },\\n      {\\n        \"@timestamp\": \"1224652877\",\\n        \"@type\": \"phone\",\\n        \"account-number\": \"89\",\\n        \"device-id\": \"bbc9f0e7-8315-4ada-832d-56db3083d507\",\\n        \"phone-number\": \"5104067433\",\\n        \"model\": \"Titanic 1000\"\\n      },\\n      {\\n        \"@timestamp\": \"1224652432\",\\n        \"@type\": \"phone\",\\n        \"account-number\": \"194\",\\n        \"device-id\": \"7997d06a-664d-45f2-9c1e-4896b1450e28\",\\n        \"phone-number\": \"7071451183\",\\n        \"model\": \"Sorrento F00L\"\\n      },\\n      {\\n        \"@timestamp\": \"1224641243\",\\n        \"@type\": \"phone\",\\n        \"account-number\": \"269\",\\n        \"device-id\": \"07895a7d-1b66-4b7c-84d7-b1592a03437c\",\\n        \"phone-number\": \"4153026986\",\\n        \"model\": \"Titanic 1000\"\\n      },\\n      {\\n        \"@timestamp\": \"1224628700\",\\n        \"@type\": \"phone\",\\n        \"account-number\": \"155\",\\n        \"device-id\": \"cd84b041-5d4e-4fc5-977e-46231507e173\",\\n        \"phone-number\": \"4153927390\",\\n        \"model\": \"Sorrento F00L\"\\n      },\\n      {\\n        \"@timestamp\": \"1224585351\",\\n        \"@type\": \"phone\",\\n        \"account-number\": \"405\",\\n        \"device-id\": \"b53bb445-5bc6-489b-9dd5-9de6370a19fe\",\\n        \"phone-number\": \"4151697001\",\\n        \"model\": \"MeeToo 1.0\"\\n      }\\n    ]\\n  }\\n}\\n'),\n ('dbfs:/FileStore/tables/activations/2008-11.json',\n  '{\\n  \"activations\": {\\n    \"activation\": [\\n      {\\n        \"@timestamp\": \"1228068581\",\\n        \"@type\": \"phone\",\\n        \"account-number\": \"93893\",\\n        \"device-id\": \"b1d33f97-4f7f-4760-b6d5-2354b8ede7f9\",\\n        \"phone-number\": \"8313151801\",\\n        \"model\": \"Titanic 1100\"\\n      },\\n      {\\n        \"@timestamp\": \"1228064129\",\\n        \"@type\": \"phone\",\\n        \"account-number\": \"10524\",\\n        \"device-id\": \"e2e9a69e-9e9d-4cf0-a3be-b948c8f9bcd0\",\\n        \"phone-number\": \"3102505580\",\\n        \"model\": \"Titanic 1000\"\\n      },\\n      {\\n        \"@timestamp\": \"1228062743\",\\n        \"@type\": \"phone\",\\n        \"account-number\": \"116\",\\n        \"device-id\": \"f0f3bf10-4849-4409-a68b-d70be46729bc\",\\n        \"phone-number\": \"5101189988\",\\n        \"model\": \"Sorrento F00L\"\\n      },\\n      {\\n        \"@timestamp\": \"1228062084\",\\n        \"@type\": \"phone\",\\n        \"account-number\": \"428\",\\n        \"device-id\": \"fab0463c-aa81-4b0a-86dc-9b2dc336f9ea\",\\n        \"phone-number\": \"5106385454\",\\n        \"model\": \"Titanic 1100\"\\n      },\\n      {\\n        \"@timestamp\": \"1228061914\",\\n        \"@type\": \"phone\",\\n        \"account-number\": \"237\",\\n        \"device-id\": \"65a54ea6-21d3-406d-806a-fb060675e525\",\\n        \"phone-number\": \"6503135322\",\\n        \"model\": \"Titanic 1000\"\\n      },\\n      {\\n        \"@timestamp\": \"1228057594\",\\n        \"@type\": \"phone\",\\n        \"account-number\": \"51\",\\n        \"device-id\": \"f4f80206-62ee-4a62-81fe-fae3f67d9ac5\",\\n        \"phone-number\": \"6509811731\",\\n        \"model\": \"Titanic 1100\"\\n      },\\n      {\\n        \"@timestamp\": \"1228048822\",\\n        \"@type\": \"phone\",\\n        \"account-number\": \"195\",\\n        \"device-id\": \"a1a52d81-a215-4109-b2ea-05c5c3f88023\",\\n        \"phone-number\": \"9163594089\",\\n        \"model\": \"iFruit 1\"\\n      },\\n      {\\n        \"@timestamp\": \"1228048751\",\\n        \"@type\": \"phone\",\\n        \"account-number\": \"38\",\\n        \"device-id\": \"f4edd2b5-f875-4ddf-ab05-e88b42304cfe\",\\n        \"phone-number\": \"4153177265\",\\n        \"model\": \"Titanic 1100\"\\n      },\\n      {\\n        \"@timestamp\": \"1228045159\",\\n        \"@type\": \"phone\",\\n        \"account-number\": \"147\",\\n        \"device-id\": \"8030b68d-9fe2-4a32-b7ef-a4d01458bad5\",\\n        \"phone-number\": \"7074994246\",\\n        \"model\": \"Titanic 1100\"\\n      },\\n      {\\n        \"@timestamp\": \"1228044426\",\\n        \"@type\": \"phone\",\\n        \"account-number\": \"120\",\\n        \"device-id\": \"3bb4eab1-6059-4563-ba83-652ed13183d8\",\\n        \"phone-number\": \"4159244097\",\\n        \"model\": \"Sorrento F00L\"\\n      },\\n      {\\n        \"@timestamp\": \"1228043667\",\\n        \"@type\": \"phone\",\\n        \"account-number\": \"8386\",\\n        \"device-id\": \"7fe71ddb-f628-404b-92b1-d83185144941\",\\n        \"phone-number\": \"8055015287\",\\n        \"model\": \"Sorrento F00L\"\\n      },\\n      {\\n        \"@timestamp\": \"1228037258\",\\n        \"@type\": \"phone\",\\n        \"account-number\": \"412\",\\n        \"device-id\": \"c73b3e86-4b6b-4570-93df-0c63c88b9832\",\\n        \"phone-number\": \"6503191552\",\\n        \"model\": \"Sorrento F00L\"\\n      },\\n      {\\n        \"@timestamp\": \"1228024901\",\\n        \"@type\": \"phone\",\\n        \"account-number\": \"458\",\\n        \"device-id\": \"8ab5b4b5-c37c-44b4-af3f-383df36dd933\",\\n        \"phone-number\": \"6505547003\",\\n        \"model\": \"MeeToo 1.0\"\\n      },\\n      {\\n        \"@timestamp\": \"1228011938\",\\n        \"@type\": \"phone\",\\n        \"account-number\": \"14\",\\n        \"device-id\": \"356562ec-25f7-4fa0-80c3-04dde199f28d\",\\n        \"phone-number\": \"9163145431\",\\n        \"model\": \"Titanic 1100\"\\n      },\\n      {\\n        \"@timestamp\": \"1227994723\",\\n        \"@type\": \"phone\",\\n        \"account-number\": \"265\",\\n        \"device-id\": \"6529c933-a516-4806-8789-b1cec9a906bc\",\\n        \"phone-number\": \"5102513154\",\\n        \"model\": \"Sorrento F00L\"\\n      },\\n      {\\n        \"@timestamp\": \"1227991927\",\\n        \"@type\": \"phone\",\\n        \"account-number\": \"128\",\\n        \"device-id\": \"d04b2829-82d6-40e8-99a4-6f36de7f37aa\",\\n        \"phone-number\": \"5104700295\",\\n        \"model\": \"iFruit 1\"\\n      },\\n      {\\n        \"@timestamp\": \"1227990060\",\\n        \"@type\": \"phone\",\\n        \"account-number\": \"257\",\\n        \"device-id\": \"481fac04-9b3d-4149-8c3c-7e44e0193e77\",\\n        \"phone-number\": \"6500930741\",\\n        \"model\": \"iFruit 1\"\\n      },\\n      {\\n        \"@timestamp\": \"1227977355\",\\n        \"@type\": \"phone\",\\n        \"account-number\": \"23566\",\\n        \"device-id\": \"34b9b80f-14bd-4a8d-ac1e-450d6f027b33\",\\n        \"phone-number\": \"5414803587\",\\n        \"model\": \"Sorrento F00L\"\\n      },\\n      {\\n        \"@timestamp\": \"1227970298\",\\n        \"@type\": \"phone\",\\n        \"account-number\": \"107295\",\\n        \"device-id\": \"f5acd15f-03af-47bc-a058-96b3579d043d\",\\n        \"phone-number\": \"9164044669\",\\n        \"model\": \"Titanic 1000\"\\n      },\\n      {\\n        \"@timestamp\": \"1227961962\",\\n        \"@type\": \"phone\",\\n        \"account-number\": \"27\",\\n        \"device-id\": \"39e73634-abb2-4908-9f0c-b03a21385522\",\\n        \"phone-number\": \"5106498890\",\\n        \"model\": \"iFruit 1\"\\n      },\\n      {\\n        \"@timestamp\": \"1227958445\",\\n        \"@type\": \"phone\",\\n        \"account-number\": \"333\",\\n        \"device-id\": \"50a49dc9-ace7-4bda-9bd2-3f5fc287628d\",\\n        \"phone-number\": \"9169038715\",\\n        \"model\": \"MeeToo 1.0\"\\n      },\\n      {\\n        \"@timestamp\": \"1227957356\",\\n        \"@type\": \"phone\",\\n        \"account-number\": \"121392\",\\n        \"device-id\": \"5c83cc16-01ab-4d3a-9396-beb184e2a9f6\",\\n        \"phone-number\": \"2138590851\",\\n        \"model\": \"MeeToo 1.0\"\\n      },\\n      {\\n        \"@timestamp\": \"1227919061\",\\n        \"@type\": \"phone\",\\n        \"account-number\": \"335\",\\n        \"device-id\": \"fa1d9c67-b73a-487a-a82d-1fce0b10d697\",\\n        \"phone-number\": \"5108634189\",\\n        \"model\": \"Titanic 1000\"\\n      },\\n      {\\n        \"@timestamp\": \"1227913705\",\\n        \"@type\": \"phone\",\\n        \"account-number\": \"923\",\\n        \"device-id\": \"80619a86-288a-4ff8-b8e3-dc163b7dd6e6\",\\n        \"phone-number\": \"6504194308\",\\n        \"model\": \"MeeToo 1.0\"\\n      },\\n      {\\n        \"@timestamp\": \"1227908713\",\\n        \"@type\": \"phone\",\\n        \"account-number\": \"41\",\\n        \"device-id\": \"7cde8c96-c803-4e48-b52d-8e0c0a4b24e1\",\\n        \"phone-number\": \"5109215080\",\\n        \"model\": \"iFruit 1\"\\n      },\\n      {\\n     \n\n*** WARNING: max output size exceeded, skipping output. ***\n\nmodel\": \"iFruit 1\"\\n      },\\n      {\\n        \"@timestamp\": \"1226288136\",\\n        \"@type\": \"phone\",\\n        \"account-number\": \"347\",\\n        \"device-id\": \"ed025276-9620-488f-a028-f7e8d525ecd9\",\\n        \"phone-number\": \"6505897633\",\\n        \"model\": \"Sorrento F00L\"\\n      },\\n      {\\n        \"@timestamp\": \"1226285409\",\\n        \"@type\": \"phone\",\\n        \"account-number\": \"298\",\\n        \"device-id\": \"a6d9f8ad-342b-410c-9e2d-5f9052256968\",\\n        \"phone-number\": \"6501273168\",\\n        \"model\": \"iFruit 1\"\\n      },\\n      {\\n        \"@timestamp\": \"1226274283\",\\n        \"@type\": \"phone\",\\n        \"account-number\": \"437\",\\n        \"device-id\": \"61ae630f-dce4-415b-bb93-8f2c572802ff\",\\n        \"phone-number\": \"4153295574\",\\n        \"model\": \"MeeToo 1.0\"\\n      },\\n      {\\n        \"@timestamp\": \"1226264371\",\\n        \"@type\": \"phone\",\\n        \"account-number\": \"470\",\\n        \"device-id\": \"1a159975-8854-4d76-8f39-2635f634d568\",\\n        \"phone-number\": \"5106250427\",\\n        \"model\": \"MeeToo 1.0\"\\n      },\\n      {\\n        \"@timestamp\": \"1226249916\",\\n        \"@type\": \"phone\",\\n        \"account-number\": \"441\",\\n        \"device-id\": \"fef4da54-6c53-4956-b9b6-4caf37593381\",\\n        \"phone-number\": \"6509248815\",\\n        \"model\": \"Titanic 1000\"\\n      },\\n      {\\n        \"@timestamp\": \"1226249894\",\\n        \"@type\": \"phone\",\\n        \"account-number\": \"357\",\\n        \"device-id\": \"358d3835-21d1-4628-a824-d45d91c30870\",\\n        \"phone-number\": \"4156327428\",\\n        \"model\": \"MeeToo 1.0\"\\n      },\\n      {\\n        \"@timestamp\": \"1226227609\",\\n        \"@type\": \"phone\",\\n        \"account-number\": \"84\",\\n        \"device-id\": \"6bf36b20-47bf-45e3-bbf3-9ce12825a976\",\\n        \"phone-number\": \"7073642335\",\\n        \"model\": \"Titanic 1000\"\\n      },\\n      {\\n        \"@timestamp\": \"1226217478\",\\n        \"@type\": \"phone\",\\n        \"account-number\": \"415\",\\n        \"device-id\": \"df6a17f1-f0c7-4c39-8448-7649bb0e25b2\",\\n        \"phone-number\": \"5105797948\",\\n        \"model\": \"MeeToo 1.0\"\\n      },\\n      {\\n        \"@timestamp\": \"1226199975\",\\n        \"@type\": \"phone\",\\n        \"account-number\": \"79755\",\\n        \"device-id\": \"072d5bea-a024-43d4-99b7-a29ce35c4b7e\",\\n        \"phone-number\": \"5108703226\",\\n        \"model\": \"MeeToo 1.0\"\\n      },\\n      {\\n        \"@timestamp\": \"1226192621\",\\n        \"@type\": \"phone\",\\n        \"account-number\": \"996\",\\n        \"device-id\": \"509fcdc1-449a-4491-b7e0-3ad0834dfa3f\",\\n        \"phone-number\": \"9165890769\",\\n        \"model\": \"Titanic 1000\"\\n      },\\n      {\\n        \"@timestamp\": \"1226176865\",\\n        \"@type\": \"phone\",\\n        \"account-number\": \"444\",\\n        \"device-id\": \"390bb050-352a-4435-8bb6-f92f6381ec90\",\\n        \"phone-number\": \"6508511040\",\\n        \"model\": \"MeeToo 1.0\"\\n      },\\n      {\\n        \"@timestamp\": \"1226175515\",\\n        \"@type\": \"phone\",\\n        \"account-number\": \"222\",\\n        \"device-id\": \"dc543ab8-a8dc-4bb7-a82a-837854dd8856\",\\n        \"phone-number\": \"4150290275\",\\n        \"model\": \"Sorrento F00L\"\\n      },\\n      {\\n        \"@timestamp\": \"1226171726\",\\n        \"@type\": \"phone\",\\n        \"account-number\": \"683\",\\n        \"device-id\": \"63f873d5-64cc-4c30-8ce7-555acfd8b7d2\",\\n        \"phone-number\": \"9167064619\",\\n        \"model\": \"iFruit 1\"\\n      },\\n      {\\n        \"@timestamp\": \"1226167360\",\\n        \"@type\": \"phone\",\\n        \"account-number\": \"166\",\\n        \"device-id\": \"dffafa6b-dd92-453a-9a0c-d73b8e331ad6\",\\n        \"phone-number\": \"5101598812\",\\n        \"model\": \"iFruit 1\"\\n      },\\n      {\\n        \"@timestamp\": \"1226159489\",\\n        \"@type\": \"phone\",\\n        \"account-number\": \"295\",\\n        \"device-id\": \"dbee1bb5-fe22-4db9-978f-726ef86867dc\",\\n        \"phone-number\": \"4151012695\",\\n        \"model\": \"Titanic 1000\"\\n      },\\n      {\\n        \"@timestamp\": \"1226156087\",\\n        \"@type\": \"phone\",\\n        \"account-number\": \"221\",\\n        \"device-id\": \"c9bb3215-f336-443a-8c7e-48f720f80b8d\",\\n        \"phone-number\": \"5106109641\",\\n        \"model\": \"iFruit 1\"\\n      },\\n      {\\n        \"@timestamp\": \"1226149518\",\\n        \"@type\": \"phone\",\\n        \"account-number\": \"121\",\\n        \"device-id\": \"4a5f211d-4d97-40ed-9f19-7b6055fd0ec0\",\\n        \"phone-number\": \"5102940162\",\\n        \"model\": \"Titanic 1000\"\\n      },\\n      {\\n        \"@timestamp\": \"1226121535\",\\n        \"@type\": \"phone\",\\n        \"account-number\": \"217\",\\n        \"device-id\": \"1a13e2eb-67ff-475d-8bc3-c5171b9131de\",\\n        \"phone-number\": \"6507384769\",\\n        \"model\": \"iFruit 1\"\\n      },\\n      {\\n        \"@timestamp\": \"1226119719\",\\n        \"@type\": \"phone\",\\n        \"account-number\": \"50586\",\\n        \"device-id\": \"b030537f-1225-4fbf-a3fe-81596cd737f0\",\\n        \"phone-number\": \"9284139222\",\\n        \"model\": \"MeeToo 1.0\"\\n      },\\n      {\\n        \"@timestamp\": \"1226114365\",\\n        \"@type\": \"phone\",\\n        \"account-number\": \"20645\",\\n        \"device-id\": \"c23f07d5-6f5a-4409-832d-df84941fbba2\",\\n        \"phone-number\": \"8183912100\",\\n        \"model\": \"iFruit 1\"\\n      },\\n      {\\n        \"@timestamp\": \"1226109535\",\\n        \"@type\": \"phone\",\\n        \"account-number\": \"9\",\\n        \"device-id\": \"45fe71c6-c56f-4355-9e2b-94f3c215da50\",\\n        \"phone-number\": \"6502384894\",\\n        \"model\": \"Sorrento F00L\"\\n      },\\n      {\\n        \"@timestamp\": \"1226095062\",\\n        \"@type\": \"phone\",\\n        \"account-number\": \"477\",\\n        \"device-id\": \"4fb6f5ab-9d13-4bb7-8d68-bbfc78fb2441\",\\n        \"phone-number\": \"7074792970\",\\n        \"model\": \"MeeToo 1.0\"\\n      },\\n      {\\n        \"@timestamp\": \"1226079702\",\\n        \"@type\": \"phone\",\\n        \"account-number\": \"336\",\\n        \"device-id\": \"04203efe-dc38-4ec5-bd55-25b938383257\",\\n        \"phone-number\": \"9168017797\",\\n        \"model\": \"MeeToo 1.0\"\\n      },\\n      {\\n        \"@timestamp\": \"1226071899\",\\n        \"@type\": \"phone\",\\n        \"account-number\": \"200\",\\n        \"device-id\": \"abd4c8f2-0826-4086-b8ef-3d3091cd81bb\",\\n        \"phone-number\": \"6504123769\",\\n        \"model\": \"iFruit 1\"\\n      },\\n      {\\n        \"@timestamp\": \"1226070347\",\\n        \"@type\": \"phone\",\\n        \"account-number\": \"294\",\\n        \"device-id\": \"8d15e50b-fa8c-4e8b-b64f-aa0623f46774\",\\n        \"phone-number\": \"6502001026\",\\n        \"model\": \"iFruit 1\"\\n      },\\n      {\\n        \"@timestamp\": \"1226068607\",\\n        \"@type\": \"phone\",\\n        \"account-number\": \"1055\",\\n        \"device-id\": \"f52612d8-8f20-4e08-9b25-36fd0a127128\",\\n        \"phone-number\": \"5108647878\",\\n        \"model\": \"Sorrento F00L\"\\n      },\\n      {\\n        \"@timestamp\": \"1226054759\",\\n        \"@type\": \"phone\",\\n        \"account-number\": \"64\",\\n        \"device-id\": \"27c42d82-e80f-48f0-9128-d6daecb51e62\",\\n        \"phone-number\": \"5102689749\",\\n        \"model\": \"MeeToo 1.0\"\\n      },\\n      {\\n        \"@timestamp\": \"1226053047\",\\n        \"@type\": \"phone\",\\n        \"account-number\": \"315\",\\n        \"device-id\": \"0b3bd672-0359-4579-83e3-1e5da3d0c1cf\",\\n        \"phone-number\": \"9167212066\",\\n        \"model\": \"Sorrento F00L\"\\n      },\\n      {\\n        \"@timestamp\": \"1226046715\",\\n        \"@type\": \"phone\",\\n        \"account-number\": \"259\",\\n        \"device-id\": \"d12103ad-1357-4f46-aa6c-abf97b5650e4\",\\n        \"phone-number\": \"5100845932\",\\n        \"model\": \"MeeToo 1.0\"\\n      },\\n      {\\n        \"@timestamp\": \"1226039107\",\\n        \"@type\": \"phone\",\\n        \"account-number\": \"122\",\\n        \"device-id\": \"0349b72c-9db9-4075-8232-0203ea2fa787\",\\n        \"phone-number\": \"5109441371\",\\n        \"model\": \"Titanic 1000\"\\n      },\\n      {\\n        \"@timestamp\": \"1226038286\",\\n        \"@type\": \"phone\",\\n        \"account-number\": \"387\",\\n        \"device-id\": \"85b17392-3d8e-406e-bb8b-52114d25d730\",\\n        \"phone-number\": \"7073839638\",\\n        \"model\": \"MeeToo 1.0\"\\n      },\\n      {\\n        \"@timestamp\": \"1226023227\",\\n        \"@type\": \"phone\",\\n        \"account-number\": \"211\",\\n        \"device-id\": \"a719fd7a-815d-4ebc-812a-38e1b070e02e\",\\n        \"phone-number\": \"7079726497\",\\n        \"model\": \"MeeToo 1.0\"\\n      },\\n      {\\n        \"@timestamp\": \"1226010573\",\\n        \"@type\": \"phone\",\\n        \"account-number\": \"107180\",\\n        \"device-id\": \"9cf9e6a2-7413-4ec0-a0ef-471d325bf1c4\",\\n        \"phone-number\": \"4080170748\",\\n        \"model\": \"Sorrento F00L\"\\n      },\\n      {\\n        \"@timestamp\": \"1226002218\",\\n        \"@type\": \"phone\",\\n        \"account-number\": \"50876\",\\n        \"device-id\": \"3bcab81b-48d3-4099-be1c-ab4bcfd24959\",\\n        \"phone-number\": \"6265924615\",\\n        \"model\": \"Titanic 1000\"\\n      },\\n      {\\n        \"@timestamp\": \"1225995937\",\\n        \"@type\": \"phone\",\\n        \"account-number\": \"54084\",\\n        \"device-id\": \"98e323b0-baf8-403a-ba17-21169f90cf1e\",\\n        \"phone-number\": \"8187200809\",\\n        \"model\": \"Titanic 1000\"\\n      },\\n      {\\n        \"@timestamp\": \"1225994818\",\\n        \"@type\": \"phone\",\\n        \"account-number\": \"368\",\\n        \"device-id\": \"b394c845-065b-4a91-a261-d8de81d653aa\",\\n        \"phone-number\": \"5108104669\",\\n        \"model\": \"Titanic 1000\"\\n      },\\n      {\\n        \"@timestamp\": \"1225993483\",\\n        \"@type\": \"phone\",\\n        \"account-number\": \"231\",\\n        \"device-id\": \"c759fab6-38c5-416f-9293-62c03ce6bc86\",\\n        \"phone-number\": \"4150983324\",\\n        \"model\": \"Sorrento F00L\"\\n      },\\n      {\\n        \"@timestamp\": \"1225984043\",\\n        \"@type\": \"phone\",\\n        \"account-number\": \"16907\",\\n        \"device-id\": \"f3f64cb0-db9b-49ae-9037-31867ae81bae\",\\n        \"phone-number\": \"5624167437\",\\n        \"model\": \"Titanic 1000\"\\n      },\\n      {\\n        \"@timestamp\": \"1225979086\",\\n        \"@type\": \"phone\",\\n        \"account-number\": \"97\",\\n        \"device-id\": \"a899a82b-3e5e-4b5a-b1c9-c97e672832fa\",\\n        \"phone-number\": \"5102439375\",\\n        \"model\": \"iFruit 1\"\\n      },\\n      {\\n        \"@timestamp\": \"1225963218\",\\n        \"@type\": \"phone\",\\n        \"account-number\": \"243\",\\n        \"device-id\": \"15782d47-26d5-4cdd-98ad-149943eedcba\",\\n        \"phone-number\": \"6505061680\",\\n        \"model\": \"iFruit 1\"\\n      },\\n      {\\n        \"@timestamp\": \"1225930843\",\\n        \"@type\": \"phone\",\\n        \"account-number\": \"417\",\\n        \"device-id\": \"2bace1d1-7c02-4532-8ad3-6b88b56ee9ec\",\\n        \"phone-number\": \"4156254158\",\\n        \"model\": \"MeeToo 1.0\"\\n      },\\n      {\\n        \"@timestamp\": \"1225924381\",\\n        \"@type\": \"phone\",\\n        \"account-number\": \"251\",\\n        \"device-id\": \"c6cc51fb-2142-4d61-a490-1de24eee0ee9\",\\n        \"phone-number\": \"6505597078\",\\n        \"model\": \"MeeToo 1.0\"\\n      },\\n      {\\n        \"@timestamp\": \"1225917470\",\\n        \"@type\": \"phone\",\\n        \"account-number\": \"102\",\\n        \"device-id\": \"d69a813f-8d3f-45e0-b0a7-085c780f8fac\",\\n        \"phone-number\": \"5102393293\",\\n        \"model\": \"iFruit 1\"\\n      },\\n      {\\n        \"@timestamp\": \"1225912561\",\\n        \"@type\": \"phone\",\\n        \"account-number\": \"18\",\\n        \"device-id\": \"e7487a33-911c-40f9-a43c-86277c641879\",\\n        \"phone-number\": \"6506033983\",\\n        \"model\": \"Titanic 1000\"\\n      },\\n      {\\n        \"@timestamp\": \"1225909491\",\\n        \"@type\": \"phone\",\\n        \"account-number\": \"254\",\\n        \"device-id\": \"a95049c9-a338-402b-93c2-4c8c56f7ee7c\",\\n        \"phone-number\": \"4156978598\",\\n        \"model\": \"Titanic 1000\"\\n      },\\n      {\\n        \"@timestamp\": \"1225903244\",\\n        \"@type\": \"phone\",\\n        \"account-number\": \"118329\",\\n        \"device-id\": \"33b16389-d814-4e18-8f72-1f3884bd5f64\",\\n        \"phone-number\": \"5414036682\",\\n        \"model\": \"MeeToo 1.0\"\\n      },\\n      {\\n        \"@timestamp\": \"1225875775\",\\n        \"@type\": \"phone\",\\n        \"account-number\": \"47\",\\n        \"device-id\": \"f0cd06c6-af21-4344-89c7-aa802e2a8011\",\\n        \"phone-number\": \"5106329832\",\\n        \"model\": \"iFruit 1\"\\n      },\\n      {\\n        \"@timestamp\": \"1225861542\",\\n        \"@type\": \"phone\",\\n        \"account-number\": \"206\",\\n        \"device-id\": \"494dadd7-ccff-49e5-8653-16ccbaae3ebf\",\\n        \"phone-number\": \"5107385381\",\\n        \"model\": \"iFruit 1\"\\n      },\\n      {\\n        \"@timestamp\": \"1225860989\",\\n        \"@type\": \"phone\",\\n        \"account-number\": \"162\",\\n        \"device-id\": \"9b9671bc-9af0-44cc-99d4-cd38fd35c609\",\\n        \"phone-number\": \"5107380008\",\\n        \"model\": \"MeeToo 1.0\"\\n      },\\n      {\\n        \"@timestamp\": \"1225851138\",\\n        \"@type\": \"phone\",\\n        \"account-number\": \"273\",\\n        \"device-id\": \"97c8d28e-ef21-4487-9587-fe739cf6e101\",\\n        \"phone-number\": \"5104066441\",\\n        \"model\": \"iFruit 1\"\\n      },\\n      {\\n        \"@timestamp\": \"1225820175\",\\n        \"@type\": \"phone\",\\n        \"account-number\": \"352\",\\n        \"device-id\": \"cc4cdc54-c135-415d-b085-763f21b35730\",\\n        \"phone-number\": \"4152732908\",\\n        \"model\": \"iFruit 1\"\\n      },\\n      {\\n        \"@timestamp\": \"1225819365\",\\n        \"@type\": \"phone\",\\n        \"account-number\": \"267\",\\n        \"device-id\": \"c7fa6e19-3f7f-4f4b-abf2-02683b2e82f9\",\\n        \"phone-number\": \"9169252484\",\\n        \"model\": \"MeeToo 1.0\"\\n      },\\n      {\\n        \"@timestamp\": \"1225817792\",\\n        \"@type\": \"phone\",\\n        \"account-number\": \"274\",\\n        \"device-id\": \"7de27b2f-18bd-410f-8f0b-194e2a98bdbe\",\\n        \"phone-number\": \"5102866680\",\\n        \"model\": \"iFruit 1\"\\n      },\\n      {\\n        \"@timestamp\": \"1225811266\",\\n        \"@type\": \"phone\",\\n        \"account-number\": \"430\",\\n        \"device-id\": \"8cffad95-3fd0-4c02-8be2-346bcd27f631\",\\n        \"phone-number\": \"5102654195\",\\n        \"model\": \"iFruit 1\"\\n      },\\n      {\\n        \"@timestamp\": \"1225803113\",\\n        \"@type\": \"phone\",\\n        \"account-number\": \"816\",\\n        \"device-id\": \"c21c33ac-1191-4537-a78f-3438d2416949\",\\n        \"phone-number\": \"9160228886\",\\n        \"model\": \"MeeToo 1.0\"\\n      },\\n      {\\n        \"@timestamp\": \"1225780486\",\\n        \"@type\": \"phone\",\\n        \"account-number\": \"466\",\\n        \"device-id\": \"5c0f57cc-78fe-47a4-ae2f-712508bdb416\",\\n        \"phone-number\": \"5100225594\",\\n        \"model\": \"iFruit 1\"\\n      },\\n      {\\n        \"@timestamp\": \"1225777069\",\\n        \"@type\": \"phone\",\\n        \"account-number\": \"224\",\\n        \"device-id\": \"95a5492c-7b56-4256-b95d-c82f75867217\",\\n        \"phone-number\": \"5108762113\",\\n        \"model\": \"MeeToo 1.0\"\\n      },\\n      {\\n        \"@timestamp\": \"1225772409\",\\n        \"@type\": \"phone\",\\n        \"account-number\": \"421\",\\n        \"device-id\": \"82ca09a5-6c66-4639-ad78-419355589d9f\",\\n        \"phone-number\": \"7072912797\",\\n        \"model\": \"MeeToo 1.0\"\\n      },\\n      {\\n        \"@timestamp\": \"1225770080\",\\n        \"@type\": \"phone\",\\n        \"account-number\": \"21337\",\\n        \"device-id\": \"8c8a1155-dcfb-4253-846f-a369d69a4c11\",\\n        \"phone-number\": \"8183556078\",\\n        \"model\": \"iFruit 1\"\\n      },\\n      {\\n        \"@timestamp\": \"1225766882\",\\n        \"@type\": \"phone\",\\n        \"account-number\": \"329\",\\n        \"device-id\": \"89c491b1-1dbf-42eb-a9b7-51b378b8af72\",\\n        \"phone-number\": \"6505755572\",\\n        \"model\": \"MeeToo 1.0\"\\n      },\\n      {\\n        \"@timestamp\": \"1225762527\",\\n        \"@type\": \"phone\",\\n        \"account-number\": \"478\",\\n        \"device-id\": \"fe031e8e-f998-4624-9c74-5d27ac53d3ab\",\\n        \"phone-number\": \"7079435879\",\\n        \"model\": \"Sorrento F00L\"\\n      },\\n      {\\n        \"@timestamp\": \"1225753656\",\\n        \"@type\": \"phone\",\\n        \"account-number\": \"432\",\\n        \"device-id\": \"5fa0eebd-8648-482c-839a-7cd9ebe95b71\",\\n        \"phone-number\": \"5107285542\",\\n        \"model\": \"Sorrento F00L\"\\n      },\\n      {\\n        \"@timestamp\": \"1225751275\",\\n        \"@type\": \"phone\",\\n        \"account-number\": \"170\",\\n        \"device-id\": \"783af6a7-6475-4c74-b327-4672247a3549\",\\n        \"phone-number\": \"9167863246\",\\n        \"model\": \"Sorrento F00L\"\\n      },\\n      {\\n        \"@timestamp\": \"1225746212\",\\n        \"@type\": \"phone\",\\n        \"account-number\": \"391\",\\n        \"device-id\": \"402f16a7-b65c-45c7-afe2-e573bcaead8c\",\\n        \"phone-number\": \"6501569040\",\\n        \"model\": \"iFruit 1\"\\n      },\\n      {\\n        \"@timestamp\": \"1225742879\",\\n        \"@type\": \"phone\",\\n        \"account-number\": \"109\",\\n        \"device-id\": \"c6e1d63e-2518-48f7-b28f-a7413729c98f\",\\n        \"phone-number\": \"7079737340\",\\n        \"model\": \"Titanic 1000\"\\n      },\\n      {\\n        \"@timestamp\": \"1225732684\",\\n        \"@type\": \"phone\",\\n        \"account-number\": \"287\",\\n        \"device-id\": \"ec1bbfdb-11a5-408b-b747-202c99211f0f\",\\n        \"phone-number\": \"9169106818\",\\n        \"model\": \"Titanic 1000\"\\n      },\\n      {\\n        \"@timestamp\": \"1225731179\",\\n        \"@type\": \"phone\",\\n        \"account-number\": \"86\",\\n        \"device-id\": \"dadd3e5a-d3ba-46bc-b30f-5ab78b37c4d9\",\\n        \"phone-number\": \"5106698545\",\\n        \"model\": \"Titanic 1000\"\\n      },\\n      {\\n        \"@timestamp\": \"1225730773\",\\n        \"@type\": \"phone\",\\n        \"account-number\": \"140\",\\n        \"device-id\": \"ffd6d3de-ec18-410a-8d62-8aaea087cc49\",\\n        \"phone-number\": \"4154577235\",\\n        \"model\": \"Sorrento F00L\"\\n      },\\n      {\\n        \"@timestamp\": \"1225729029\",\\n        \"@type\": \"phone\",\\n        \"account-number\": \"446\",\\n        \"device-id\": \"f5bcdf73-64fb-43f9-8c17-d06be8bc6365\",\\n        \"phone-number\": \"5102926102\",\\n        \"model\": \"Sorrento F00L\"\\n      },\\n      {\\n        \"@timestamp\": \"1225712341\",\\n        \"@type\": \"phone\",\\n        \"account-number\": \"12803\",\\n        \"device-id\": \"6e079507-a217-42aa-b85f-5035e210b786\",\\n        \"phone-number\": \"4245093328\",\\n        \"model\": \"iFruit 1\"\\n      },\\n      {\\n        \"@timestamp\": \"1225696578\",\\n        \"@type\": \"phone\",\\n        \"account-number\": \"443\",\\n        \"device-id\": \"3fe47112-a956-46d0-88a8-600ac7ab949f\",\\n        \"phone-number\": \"5105377753\",\\n        \"model\": \"iFruit 1\"\\n      },\\n      {\\n        \"@timestamp\": \"1225683016\",\\n        \"@type\": \"phone\",\\n        \"account-number\": \"456\",\\n        \"device-id\": \"78853763-cdd7-4e5f-9227-4544cb865711\",\\n        \"phone-number\": \"5109807377\",\\n        \"model\": \"MeeToo 1.0\"\\n      },\\n      {\\n        \"@timestamp\": \"1225677680\",\\n        \"@type\": \"phone\",\\n        \"account-number\": \"381\",\\n        \"device-id\": \"7c70dc79-d33c-4a78-b440-c05b5b011037\",\\n        \"phone-number\": \"4153365303\",\\n        \"model\": \"Titanic 1000\"\\n      },\\n      {\\n        \"@timestamp\": \"1225676641\",\\n        \"@type\": \"phone\",\\n        \"account-number\": \"98\",\\n        \"device-id\": \"57f5315e-2975-4c3e-93ba-ff04a1f2e8ac\",\\n        \"phone-number\": \"5103197687\",\\n        \"model\": \"Sorrento F00L\"\\n      },\\n      {\\n        \"@timestamp\": \"1225675890\",\\n        \"@type\": \"phone\",\\n        \"account-number\": \"362\",\\n        \"device-id\": \"5979526a-6f45-4339-ab3f-ea494d36556f\",\\n        \"phone-number\": \"4159253838\",\\n        \"model\": \"MeeToo 1.0\"\\n      },\\n      {\\n        \"@timestamp\": \"1225672491\",\\n        \"@type\": \"phone\",\\n        \"account-number\": \"246\",\\n        \"device-id\": \"cc3afbc4-fde7-465d-99a9-b1390dbef73c\",\\n        \"phone-number\": \"5109530656\",\\n        \"model\": \"Sorrento F00L\"\\n      },\\n      {\\n        \"@timestamp\": \"1225670934\",\\n        \"@type\": \"phone\",\\n        \"account-number\": \"29609\",\\n        \"device-id\": \"5d274380-1baf-49a1-b79f-6beea7a26e8f\",\\n        \"phone-number\": \"5106050290\",\\n        \"model\": \"Titanic 1000\"\\n      },\\n      {\\n        \"@timestamp\": \"1225669984\",\\n        \"@type\": \"phone\",\\n        \"account-number\": \"68\",\\n        \"device-id\": \"94e3daa4-0331-489e-b182-99785acb0c50\",\\n        \"phone-number\": \"5102984254\",\\n        \"model\": \"MeeToo 1.0\"\\n      },\\n      {\\n        \"@timestamp\": \"1225666507\",\\n        \"@type\": \"phone\",\\n        \"account-number\": \"218\",\\n        \"device-id\": \"77d7f474-7075-472b-a71b-55e2e42a6956\",\\n        \"phone-number\": \"7076585071\",\\n        \"model\": \"Sorrento F00L\"\\n      },\\n      {\\n        \"@timestamp\": \"1225647825\",\\n        \"@type\": \"phone\",\\n        \"account-number\": \"173\",\\n        \"device-id\": \"ce6ac725-3868-417d-9fe1-645e905c8fb8\",\\n        \"phone-number\": \"5109427954\",\\n        \"model\": \"Titanic 1000\"\\n      },\\n      {\\n        \"@timestamp\": \"1225641325\",\\n        \"@type\": \"phone\",\\n        \"account-number\": \"20\",\\n        \"device-id\": \"f88e538f-e4b9-4395-8f06-219f187ec34e\",\\n        \"phone-number\": \"7075831640\",\\n        \"model\": \"Titanic 1000\"\\n      },\\n      {\\n        \"@timestamp\": \"1225633957\",\\n        \"@type\": \"phone\",\\n        \"account-number\": \"127\",\\n        \"device-id\": \"ff993835-f44b-48c9-9f06-6ecedf2962cc\",\\n        \"phone-number\": \"7077814054\",\\n        \"model\": \"MeeToo 1.0\"\\n      },\\n      {\\n        \"@timestamp\": \"1225627855\",\\n        \"@type\": \"phone\",\\n        \"account-number\": \"358\",\\n        \"device-id\": \"34e559f9-953a-4efb-bfde-bb9cb6a3d908\",\\n        \"phone-number\": \"9168169852\",\\n        \"model\": \"MeeToo 1.0\"\\n      },\\n      {\\n        \"@timestamp\": \"1225626120\",\\n        \"@type\": \"phone\",\\n        \"account-number\": \"111\",\\n        \"device-id\": \"96da7e9f-50a7-4518-82d1-5a7ddf2e07f4\",\\n        \"phone-number\": \"5108252790\",\\n        \"model\": \"MeeToo 1.0\"\\n      },\\n      {\\n        \"@timestamp\": \"1225610504\",\\n        \"@type\": \"phone\",\\n        \"account-number\": \"190\",\\n        \"device-id\": \"44ee9903-241d-4363-b267-610d5db0b3aa\",\\n        \"phone-number\": \"5105126542\",\\n        \"model\": \"iFruit 1\"\\n      },\\n      {\\n        \"@timestamp\": \"1225597092\",\\n        \"@type\": \"phone\",\\n        \"account-number\": \"453\",\\n        \"device-id\": \"9280d946-b2de-4e9f-8657-dbb234b1e2a4\",\\n        \"phone-number\": \"7073559747\",\\n        \"model\": \"iFruit 1\"\\n      },\\n      {\\n        \"@timestamp\": \"1225578485\",\\n        \"@type\": \"phone\",\\n        \"account-number\": \"160\",\\n        \"device-id\": \"1aad9107-83a5-4047-8f7f-6ab416a32bee\",\\n        \"phone-number\": \"4158441466\",\\n        \"model\": \"Titanic 1000\"\\n      },\\n      {\\n        \"@timestamp\": \"1225570113\",\\n        \"@type\": \"phone\",\\n        \"account-number\": \"367\",\\n        \"device-id\": \"c2361109-6f4f-4e96-9c2f-53496ca34f59\",\\n        \"phone-number\": \"9168238433\",\\n        \"model\": \"Sorrento F00L\"\\n      },\\n      {\\n        \"@timestamp\": \"1225568764\",\\n        \"@type\": \"phone\",\\n        \"account-number\": \"169\",\\n        \"device-id\": \"838f6857-f3c6-4d38-95e4-3557f6f2128a\",\\n        \"phone-number\": \"7075173347\",\\n        \"model\": \"iFruit 1\"\\n      },\\n      {\\n        \"@timestamp\": \"1225564434\",\\n        \"@type\": \"phone\",\\n        \"account-number\": \"150\",\\n        \"device-id\": \"7b15d752-5e69-4292-b818-c7c2f196c78b\",\\n        \"phone-number\": \"5102799018\",\\n        \"model\": \"Sorrento F00L\"\\n      },\\n      {\\n        \"@timestamp\": \"1225562113\",\\n        \"@type\": \"phone\",\\n        \"account-number\": \"34\",\\n        \"device-id\": \"c719a38a-2292-47bb-aa5e-711f678e616f\",\\n        \"phone-number\": \"5109458176\",\\n        \"model\": \"Sorrento F00L\"\\n      },\\n      {\\n        \"@timestamp\": \"1225557123\",\\n        \"@type\": \"phone\",\\n        \"account-number\": \"308\",\\n        \"device-id\": \"6986b267-0c34-44af-9f24-646d46fa3bf4\",\\n        \"phone-number\": \"7075382511\",\\n        \"model\": \"Sorrento F00L\"\\n      },\\n      {\\n        \"@timestamp\": \"1225546475\",\\n        \"@type\": \"phone\",\\n        \"account-number\": \"344\",\\n        \"device-id\": \"e17e1abd-2998-4f8e-9950-7ce4ac1f412a\",\\n        \"phone-number\": \"4157994884\",\\n        \"model\": \"iFruit 1\"\\n      },\\n      {\\n        \"@timestamp\": \"1225532588\",\\n        \"@type\": \"phone\",\\n        \"account-number\": \"328\",\\n        \"device-id\": \"d5910942-e9c0-46df-b3f2-93b12c068347\",\\n        \"phone-number\": \"5104718508\",\\n        \"model\": \"iFruit 1\"\\n      },\\n      {\\n        \"@timestamp\": \"1225521652\",\\n        \"@type\": \"phone\",\\n        \"account-number\": \"341\",\\n        \"device-id\": \"bd49bdda-135b-4f93-af88-f07d39eed6ef\",\\n        \"phone-number\": \"5107739396\",\\n        \"model\": \"iFruit 1\"\\n      },\\n      {\\n        \"@timestamp\": \"1225515059\",\\n        \"@type\": \"phone\",\\n        \"account-number\": \"192\",\\n        \"device-id\": \"14278cd8-6239-45b1-a59a-b5d710af2bd0\",\\n        \"phone-number\": \"9168053145\",\\n        \"model\": \"MeeToo 1.0\"\\n      },\\n      {\\n        \"@timestamp\": \"1225504008\",\\n        \"@type\": \"phone\",\\n        \"account-number\": \"66\",\\n        \"device-id\": \"ed051262-392a-49ab-a627-3845d7d742d3\",\\n        \"phone-number\": \"5101166999\",\\n        \"model\": \"Titanic 1000\"\\n      },\\n      {\\n        \"@timestamp\": \"1225492440\",\\n        \"@type\": \"phone\",\\n        \"account-number\": \"153\",\\n        \"device-id\": \"4fa2d027-ae7d-4d8b-9ea3-42fe6214a9c8\",\\n        \"phone-number\": \"5100978341\",\\n        \"model\": \"MeeToo 1.0\"\\n      },\\n      {\\n        \"@timestamp\": \"1225488157\",\\n        \"@type\": \"phone\",\\n        \"account-number\": \"25406\",\\n        \"device-id\": \"d0983035-7470-43a1-a94f-6e1ec8af6790\",\\n        \"phone-number\": \"9096011974\",\\n        \"model\": \"iFruit 1\"\\n      },\\n      {\\n        \"@timestamp\": \"1225487136\",\\n        \"@type\": \"phone\",\\n        \"account-number\": \"348\",\\n        \"device-id\": \"288b0949-e3cf-4ac2-8aad-2c4ec811ad07\",\\n        \"phone-number\": \"7079223784\",\\n        \"model\": \"iFruit 1\"\\n      }\\n    ]\\n  }\\n}\\n')]"
     ]
    }
   ],
   "source": [
    "myrdd1.take(2)"
   ]
  },
  {
   "cell_type": "code",
   "execution_count": 0,
   "metadata": {
    "application/vnd.databricks.v1+cell": {
     "cellMetadata": {
      "byteLimit": 2048000,
      "rowLimit": 10000
     },
     "inputWidgets": {},
     "nuid": "e0b52c68-3a07-4116-aceb-c851613a3449",
     "showTitle": false,
     "title": ""
    }
   },
   "outputs": [],
   "source": [
    "import json \n",
    "myrdd2 =myrdd1.map(lambda s:json.loads(s[1]))"
   ]
  },
  {
   "cell_type": "code",
   "execution_count": 0,
   "metadata": {
    "application/vnd.databricks.v1+cell": {
     "cellMetadata": {
      "byteLimit": 2048000,
      "rowLimit": 10000
     },
     "inputWidgets": {},
     "nuid": "96fd181f-c3ca-4c92-a769-878b173480d1",
     "showTitle": false,
     "title": ""
    }
   },
   "outputs": [
    {
     "output_type": "stream",
     "name": "stdout",
     "output_type": "stream",
     "text": [
      "Out[18]: [{'activations': {'activation': [{'@timestamp': '1225462088',\n     '@type': 'phone',\n     'account-number': '9763',\n     'device-id': 'debea35e-3ecd-4ee7-b0dd-ad428d953f32',\n     'phone-number': '7600763387',\n     'model': 'MeeToo 1.0'},\n    {'@timestamp': '1225461447',\n     '@type': 'phone',\n     'account-number': '426',\n     'device-id': '38a1566d-524e-4137-bad8-b597d09b54b0',\n     'phone-number': '5102521038',\n     'model': 'Titanic 1000'},\n    {'@timestamp': '1225446947',\n     '@type': 'phone',\n     'account-number': '383',\n     'device-id': '513024a3-a828-4674-9ff6-041e9a851f18',\n     'phone-number': '9162206560',\n     'model': 'Sorrento F00L'},\n    {'@timestamp': '1225445908',\n     '@type': 'phone',\n     'account-number': '404',\n     'device-id': '93d7d0eb-7551-4e11-ab59-91f34c04378f',\n     'phone-number': '6506862748',\n     'model': 'MeeToo 1.0'},\n    {'@timestamp': '1225444099',\n     '@type': 'phone',\n     'account-number': '393',\n     'device-id': '75faa3a2-31d6-48ec-a1a9-da4c882c7b75',\n     'phone-number': '6504786402',\n     'model': 'iFruit 1'},\n    {'@timestamp': '1225421991',\n     '@type': 'phone',\n     'account-number': '53',\n     'device-id': 'a6482e48-d347-4ec5-b010-9d9a3b13d999',\n     'phone-number': '6503155055',\n     'model': 'MeeToo 1.0'},\n    {'@timestamp': '1225412236',\n     '@type': 'phone',\n     'account-number': '96',\n     'device-id': '351a0384-9af6-4621-ada8-3eba9fb2734c',\n     'phone-number': '4152163825',\n     'model': 'iFruit 1'},\n    {'@timestamp': '1225406348',\n     '@type': 'phone',\n     'account-number': '283',\n     'device-id': '04ad366c-c023-4d01-8493-8ec97d3ff5cc',\n     'phone-number': '5109683453',\n     'model': 'Sorrento F00L'},\n    {'@timestamp': '1225400017',\n     '@type': 'phone',\n     'account-number': '464',\n     'device-id': 'e4ceefc4-8765-4beb-8b10-9b3d73eec535',\n     'phone-number': '6504367851',\n     'model': 'MeeToo 1.0'},\n    {'@timestamp': '1225386391',\n     '@type': 'phone',\n     'account-number': '475',\n     'device-id': '31fe0811-c4fb-40b8-bc59-8386fe2f5d8e',\n     'phone-number': '6504313792',\n     'model': 'Titanic 1000'},\n    {'@timestamp': '1225371984',\n     '@type': 'phone',\n     'account-number': '479',\n     'device-id': '38f76751-3236-4e99-80c9-c4b0a030108e',\n     'phone-number': '6507811206',\n     'model': 'iFruit 1'},\n    {'@timestamp': '1225355475',\n     '@type': 'phone',\n     'account-number': '306',\n     'device-id': 'd743093b-8bcf-4ede-a475-4bc29936bc5e',\n     'phone-number': '4158787317',\n     'model': 'Titanic 1000'},\n    {'@timestamp': '1225349055',\n     '@type': 'phone',\n     'account-number': '14045',\n     'device-id': '1f568e8d-268a-4171-8a50-94c70fbfdf90',\n     'phone-number': '9098824980',\n     'model': 'MeeToo 1.0'},\n    {'@timestamp': '1225347793',\n     '@type': 'phone',\n     'account-number': '6482',\n     'device-id': 'c14cbc3d-8b55-49bb-931d-7b2472aaa750',\n     'phone-number': '4082887060',\n     'model': 'Sorrento F00L'},\n    {'@timestamp': '1225345397',\n     '@type': 'phone',\n     'account-number': '349',\n     'device-id': '04c2fc8e-2f4f-4c7a-ad26-146c26deec87',\n     'phone-number': '6502434241',\n     'model': 'MeeToo 1.0'},\n    {'@timestamp': '1225333766',\n     '@type': 'phone',\n     'account-number': '124',\n     'device-id': '74d1341a-8da9-4de7-86f6-ec5285665ef2',\n     'phone-number': '5103920538',\n     'model': 'MeeToo 1.0'},\n    {'@timestamp': '1225333728',\n     '@type': 'phone',\n     'account-number': '247',\n     'device-id': '8ca7ba2f-5b8a-4574-abbb-de5a18221894',\n     'phone-number': '6509604844',\n     'model': 'MeeToo 1.0'},\n    {'@timestamp': '1225320127',\n     '@type': 'phone',\n     'account-number': '88',\n     'device-id': '9f7daca9-5faf-4cfd-b863-85d510464945',\n     'phone-number': '6501458572',\n     'model': 'Sorrento F00L'},\n    {'@timestamp': '1225319701',\n     '@type': 'phone',\n     'account-number': '2939',\n     'device-id': '18970270-86f0-4bac-ba03-24eb8518f082',\n     'phone-number': '9161294398',\n     'model': 'Titanic 1000'},\n    {'@timestamp': '1225317616',\n     '@type': 'phone',\n     'account-number': '314',\n     'device-id': 'ae3cb61f-5318-4b74-bb05-9de91a66bb10',\n     'phone-number': '6509019772',\n     'model': 'MeeToo 1.0'},\n    {'@timestamp': '1225315853',\n     '@type': 'phone',\n     'account-number': '396',\n     'device-id': '767d106f-4a25-4177-afe5-8f081fc68cd7',\n     'phone-number': '6500312075',\n     'model': 'MeeToo 1.0'},\n    {'@timestamp': '1225278009',\n     '@type': 'phone',\n     'account-number': '6881',\n     'device-id': 'fb8f6fe5-c2f5-43e5-a0b5-032c1b437989',\n     'phone-number': '5625307326',\n     'model': 'MeeToo 1.0'},\n    {'@timestamp': '1225275474',\n     '@type': 'phone',\n     'account-number': '234',\n     'device-id': '31485143-2104-4f4d-bceb-4866f484e27f',\n     'phone-number': '9166314637',\n     'model': 'iFruit 1'},\n    {'@timestamp': '1225246830',\n     '@type': 'phone',\n     'account-number': '34209',\n     'device-id': '7dcd293d-b59d-48ea-bfe5-af623fa67b81',\n     'phone-number': '7022095507',\n     'model': 'Titanic 1000'},\n    {'@timestamp': '1225242164',\n     '@type': 'phone',\n     'account-number': '369',\n     'device-id': '8cadd7a9-b799-4ebb-8314-2b8a9716ed86',\n     'phone-number': '5108109471',\n     'model': 'MeeToo 1.0'},\n    {'@timestamp': '1225230097',\n     '@type': 'phone',\n     'account-number': '255',\n     'device-id': '6d515f2b-4fc8-4916-916f-f7ec7750ee3e',\n     'phone-number': '4159552347',\n     'model': 'iFruit 1'},\n    {'@timestamp': '1225229238',\n     '@type': 'phone',\n     'account-number': '13',\n     'device-id': '9163f7b0-9957-47f2-8a56-cb195ea1adc4',\n     'phone-number': '4153335996',\n     'model': 'iFruit 1'},\n    {'@timestamp': '1225174761',\n     '@type': 'phone',\n     'account-number': '142',\n     'device-id': '558b13f3-783f-4434-a85f-97413146f835',\n     'phone-number': '5109700907',\n     'model': 'Titanic 1000'},\n    {'@timestamp': '1225161449',\n     '@type': 'phone',\n     'account-number': '11',\n     'device-id': '678dc546-57ca-47fa-a387-184248f610dd',\n     'phone-number': '5109726353',\n     'model': 'iFruit 1'},\n    {'@timestamp': '1225157362',\n     '@type': 'phone',\n     'account-number': '61',\n     'device-id': 'be33c35d-1fa6-4f61-83e4-439a095ae4cc',\n     'phone-number': '9162581613',\n     'model': 'iFruit 1'},\n    {'@timestamp': '1225152905',\n     '@type': 'phone',\n     'account-number': '1554',\n     'device-id': 'ce9468cc-8d98-4dc6-90b5-e72a44c64a21',\n     'phone-number': '4153912267',\n     'model': 'MeeToo 1.0'},\n    {'@timestamp': '1225149813',\n     '@type': 'phone',\n     'account-number': '165',\n     'device-id': '52c76b69-c8d2-479c-88af-cbf0e95e3e5e',\n     'phone-number': '5104562352',\n     'model': 'Titanic 1000'},\n    {'@timestamp': '1225120582',\n     '@type': 'phone',\n     'account-number': '128224',\n     'device-id': '416578b7-5684-4848-b97a-3587784eaa12',\n     'phone-number': '2133389934',\n     'model': 'MeeToo 1.0'},\n    {'@timestamp': '1225118290',\n     '@type': 'phone',\n     'account-number': '394',\n     'device-id': '6b879605-0cdc-4200-834f-205b74b40dca',\n     'phone-number': '7070593543',\n     'model': 'MeeToo 1.0'},\n    {'@timestamp': '1225102200',\n     '@type': 'phone',\n     'account-number': '433',\n     'device-id': 'fd12614c-b21c-4b26-a825-4bfd63492149',\n     'phone-number': '9165391636',\n     'model': 'MeeToo 1.0'},\n    {'@timestamp': '1225086639',\n     '@type': 'phone',\n     'account-number': '448',\n     'device-id': '39f94f2b-3a58-49bd-bc48-3885cd42badc',\n     'phone-number': '6503935352',\n     'model': 'iFruit 1'},\n    {'@timestamp': '1225078279',\n     '@type': 'phone',\n     'account-number': '440',\n     'device-id': '0bf181b2-25b7-4541-87d8-15f6d7a0ccb9',\n     'phone-number': '6505467053',\n     'model': 'Sorrento F00L'},\n    {'@timestamp': '1225067942',\n     '@type': 'phone',\n     'account-number': '240',\n     'device-id': '3966e7ae-0954-4ea7-bde6-b35ee0f39c30',\n     'phone-number': '7079354042',\n     'model': 'MeeToo 1.0'},\n    {'@timestamp': '1225061652',\n     '@type': 'phone',\n     'account-number': '460',\n     'device-id': '5b8530d4-f467-42e3-818d-c81e20cfd1c1',\n     'phone-number': '6500282551',\n     'model': 'MeeToo 1.0'},\n    {'@timestamp': '1225058673',\n     '@type': 'phone',\n     'account-number': '275',\n     'device-id': '42be5c11-8931-46bf-af06-c87c3f580337',\n     'phone-number': '4155493875',\n     'model': 'Sorrento F00L'},\n    {'@timestamp': '1225047870',\n     '@type': 'phone',\n     'account-number': '4638',\n     'device-id': '7164d9d1-d2e0-439d-9aee-1fd20da48df3',\n     'phone-number': '5101970154',\n     'model': 'Titanic 1000'},\n    {'@timestamp': '1225039607',\n     '@type': 'phone',\n     'account-number': '171',\n     'device-id': 'dc0e941a-90d4-4c84-ac7d-383e276dad84',\n     'phone-number': '5105209310',\n     'model': 'Titanic 1000'},\n    {'@timestamp': '1225033098',\n     '@type': 'phone',\n     'account-number': '213',\n     'device-id': '5c42d2ac-d92f-4ef1-acee-47d39a909b11',\n     'phone-number': '5101004303',\n     'model': 'Sorrento F00L'},\n    {'@timestamp': '1224994511',\n     '@type': 'phone',\n     'account-number': '324',\n     'device-id': '71a6ed8d-a751-44bf-8b38-320a49c12a9b',\n     'phone-number': '6501654645',\n     'model': 'Sorrento F00L'},\n    {'@timestamp': '1224990765',\n     '@type': 'phone',\n     'account-number': '98121',\n     'device-id': '9a6d0b23-8845-460d-aa47-91c82d8fc480',\n     'phone-number': '6618825932',\n     'model': 'MeeToo 1.0'},\n    {'@timestamp': '1224983389',\n     '@type': 'phone',\n     'account-number': '363',\n     'device-id': '254ab846-f1d4-4c85-a658-46ee5e848c53',\n     'phone-number': '6505506140',\n     'model': 'iFruit 1'},\n    {'@timestamp': '1224956920',\n     '@type': 'phone',\n     'account-number': '52',\n     'device-id': '330f46cc-de2a-49d3-aa93-6ff761de7d5a',\n     'phone-number': '4151228388',\n     'model': 'Titanic 1000'},\n    {'@timestamp': '1224956441',\n     '@type': 'phone',\n     'account-number': '286',\n     'device-id': '78d4f9fe-b6e3-40c2-91d5-18ff95a074e5',\n     'phone-number': '5107058174',\n     'model': 'iFruit 1'},\n    {'@timestamp': '1224946254',\n     '@type': 'phone',\n     'account-number': '13702',\n     'device-id': 'b024cf7d-496f-4f6e-bbc1-772d13ca1617',\n     'phone-number': '5416107165',\n     'model': 'Titanic 1000'},\n    {'@timestamp': '1224944970',\n     '@type': 'phone',\n     'account-number': '345',\n     'device-id': 'cd1c8a9d-066c-4f6f-b08f-dc119d827699',\n     'phone-number': '5103859765',\n     'model': 'MeeToo 1.0'},\n    {'@timestamp': '1224938467',\n     '@type': 'phone',\n     'account-number': '36906',\n     'device-id': '9043cf20-d816-4f17-af72-020767ae14e0',\n     'phone-number': '5411008209',\n     'model': 'Titanic 1000'},\n    {'@timestamp': '1224907589',\n     '@type': 'phone',\n     'account-number': '413',\n     'device-id': '0e487cf9-6923-4891-94f7-7b12695b72fd',\n     'phone-number': '5107080443',\n     'model': 'iFruit 1'},\n    {'@timestamp': '1224847655',\n     '@type': 'phone',\n     'account-number': '459',\n     'device-id': '5aff8521-f91b-48f6-a69a-156caa236bd0',\n     'phone-number': '4157500638',\n     'model': 'Titanic 1000'},\n    {'@timestamp': '1224831370',\n     '@type': 'phone',\n     'account-number': '144',\n     'device-id': 'e7f833e9-276e-4f3b-9710-9d3106a5141a',\n     'phone-number': '5108355566',\n     'model': 'Sorrento F00L'},\n    {'@timestamp': '1224817110',\n     '@type': 'phone',\n     'account-number': '373',\n     'device-id': '0f7b8628-873a-4d1b-9b86-0bfe40f2f668',\n     'phone-number': '5109247675',\n     'model': 'Titanic 1000'},\n    {'@timestamp': '1224812967',\n     '@type': 'phone',\n     'account-number': '46849',\n     'device-id': 'b99f88ef-5ad2-4c62-bbc6-ca2756b4467c',\n     'phone-number': '5414191932',\n     'model': 'Sorrento F00L'},\n    {'@timestamp': '1224805157',\n     '@type': 'phone',\n     'account-number': '252',\n     'device-id': '6c71ca45-ddae-4191-98e8-01f3bc2a1220',\n     'phone-number': '5109508609',\n     'model': 'Titanic 1000'},\n    {'@timestamp': '1224803105',\n     '@type': 'phone',\n     'account-number': '1',\n     'device-id': '7eb61253-55cd-4309-8f17-129089fee461',\n     'phone-number': '5100032418',\n     'model': 'Titanic 1000'},\n    {'@timestamp': '1224782486',\n     '@type': 'phone',\n     'account-number': '21566',\n     'device-id': '2bebd773-39ac-4d31-a23e-06eb2991ac26',\n     'phone-number': '9165053364',\n     'model': 'Titanic 1000'},\n    {'@timestamp': '1224781467',\n     '@type': 'phone',\n     'account-number': '154',\n     'device-id': '1923ef7c-3067-4f7c-93f7-c867bd31a39f',\n     'phone-number': '5106577100',\n     'model': 'Titanic 1000'},\n    {'@timestamp': '1224778387',\n     '@type': 'phone',\n     'account-number': '46168',\n     'device-id': 'fb7f3575-c523-47bf-be76-889a07a5af9c',\n     'phone-number': '5037703631',\n     'model': 'iFruit 1'},\n    {'@timestamp': '1224771580',\n     '@type': 'phone',\n     'account-number': '3838',\n     'device-id': '46ec037a-c72d-4e4a-aff6-a7498dbd8b1f',\n     'phone-number': '6501253886',\n     'model': 'Titanic 1000'},\n    {'@timestamp': '1224769655',\n     '@type': 'phone',\n     'account-number': '21821',\n     'device-id': '2cef3c7a-6fbe-42d1-9a7f-19854a959700',\n     'phone-number': '6262624197',\n     'model': 'MeeToo 1.0'},\n    {'@timestamp': '1224747397',\n     '@type': 'phone',\n     'account-number': '204',\n     'device-id': '04d374ba-3441-4aa4-88d9-057c0721ba0f',\n     'phone-number': '7076669246',\n     'model': 'iFruit 1'},\n    {'@timestamp': '1224736965',\n     '@type': 'phone',\n     'account-number': '131',\n     'device-id': 'a53f23f2-a57f-4655-90fd-f53a0a05d587',\n     'phone-number': '4151707647',\n     'model': 'MeeToo 1.0'},\n    {'@timestamp': '1224729378',\n     '@type': 'phone',\n     'account-number': '474',\n     'device-id': '4bd55037-72e7-432f-a1b1-2a94a4df9f16',\n     'phone-number': '5102971778',\n     'model': 'iFruit 1'},\n    {'@timestamp': '1224725663',\n     '@type': 'phone',\n     'account-number': '146',\n     'device-id': '5c66d63f-3384-49d6-8cba-65a28b34ba30',\n     'phone-number': '7070285635',\n     'model': 'Titanic 1000'},\n    {'@timestamp': '1224719408',\n     '@type': 'phone',\n     'account-number': '2063',\n     'device-id': '21b927a6-c4f6-43c0-bc11-abe77abfd6bc',\n     'phone-number': '6503298970',\n     'model': 'MeeToo 1.0'},\n    {'@timestamp': '1224688572',\n     '@type': 'phone',\n     'account-number': '374',\n     'device-id': 'cc8ef6ff-93de-4a55-b2ed-888b3bd9740b',\n     'phone-number': '7073442709',\n     'model': 'Sorrento F00L'},\n    {'@timestamp': '1224652877',\n     '@type': 'phone',\n     'account-number': '89',\n     'device-id': 'bbc9f0e7-8315-4ada-832d-56db3083d507',\n     'phone-number': '5104067433',\n     'model': 'Titanic 1000'},\n    {'@timestamp': '1224652432',\n     '@type': 'phone',\n     'account-number': '194',\n     'device-id': '7997d06a-664d-45f2-9c1e-4896b1450e28',\n     'phone-number': '7071451183',\n     'model': 'Sorrento F00L'},\n    {'@timestamp': '1224641243',\n     '@type': 'phone',\n     'account-number': '269',\n     'device-id': '07895a7d-1b66-4b7c-84d7-b1592a03437c',\n     'phone-number': '4153026986',\n     'model': 'Titanic 1000'},\n    {'@timestamp': '1224628700',\n     '@type': 'phone',\n     'account-number': '155',\n     'device-id': 'cd84b041-5d4e-4fc5-977e-46231507e173',\n     'phone-number': '4153927390',\n     'model': 'Sorrento F00L'},\n    {'@timestamp': '1224585351',\n     '@type': 'phone',\n     'account-number': '405',\n     'device-id': 'b53bb445-5bc6-489b-9dd5-9de6370a19fe',\n     'phone-number': '4151697001',\n     'model': 'MeeToo 1.0'}]}}]"
     ]
    }
   ],
   "source": [
    "myrdd2.take(1)"
   ]
  },
  {
   "cell_type": "code",
   "execution_count": 0,
   "metadata": {
    "application/vnd.databricks.v1+cell": {
     "cellMetadata": {
      "byteLimit": 2048000,
      "rowLimit": 10000
     },
     "inputWidgets": {},
     "nuid": "5f19c002-7b90-4874-a05c-55764d50147b",
     "showTitle": false,
     "title": ""
    }
   },
   "outputs": [],
   "source": [
    "myrdd3 = myrdd2.flatMap(lambda x:x['activations']['activation'])"
   ]
  },
  {
   "cell_type": "code",
   "execution_count": 0,
   "metadata": {
    "application/vnd.databricks.v1+cell": {
     "cellMetadata": {
      "byteLimit": 2048000,
      "rowLimit": 10000
     },
     "inputWidgets": {},
     "nuid": "9db756cd-7b22-4439-8d1b-ea338f552e56",
     "showTitle": false,
     "title": ""
    }
   },
   "outputs": [
    {
     "output_type": "stream",
     "name": "stdout",
     "output_type": "stream",
     "text": [
      "Out[20]: [{'@timestamp': '1225462088',\n  '@type': 'phone',\n  'account-number': '9763',\n  'device-id': 'debea35e-3ecd-4ee7-b0dd-ad428d953f32',\n  'phone-number': '7600763387',\n  'model': 'MeeToo 1.0'},\n {'@timestamp': '1225461447',\n  '@type': 'phone',\n  'account-number': '426',\n  'device-id': '38a1566d-524e-4137-bad8-b597d09b54b0',\n  'phone-number': '5102521038',\n  'model': 'Titanic 1000'},\n {'@timestamp': '1225446947',\n  '@type': 'phone',\n  'account-number': '383',\n  'device-id': '513024a3-a828-4674-9ff6-041e9a851f18',\n  'phone-number': '9162206560',\n  'model': 'Sorrento F00L'}]"
     ]
    }
   ],
   "source": [
    "myrdd3.take(3)"
   ]
  },
  {
   "cell_type": "code",
   "execution_count": 0,
   "metadata": {
    "application/vnd.databricks.v1+cell": {
     "cellMetadata": {
      "byteLimit": 2048000,
      "rowLimit": 10000
     },
     "inputWidgets": {},
     "nuid": "e0c40785-b9bb-40c6-8236-e168a9c3abd5",
     "showTitle": false,
     "title": ""
    }
   },
   "outputs": [
    {
     "output_type": "stream",
     "name": "stdout",
     "output_type": "stream",
     "text": [
      "Out[21]: 194764"
     ]
    }
   ],
   "source": [
    "myrdd3.count()"
   ]
  },
  {
   "cell_type": "code",
   "execution_count": 0,
   "metadata": {
    "application/vnd.databricks.v1+cell": {
     "cellMetadata": {
      "byteLimit": 2048000,
      "rowLimit": 10000
     },
     "inputWidgets": {},
     "nuid": "043a2bbc-3cba-4b50-9589-0df54a72197d",
     "showTitle": false,
     "title": ""
    }
   },
   "outputs": [],
   "source": [
    "myrdd4 = myrdd3.map(lambda x: x['account-number']+':' +x['model'])"
   ]
  },
  {
   "cell_type": "code",
   "execution_count": 0,
   "metadata": {
    "application/vnd.databricks.v1+cell": {
     "cellMetadata": {
      "byteLimit": 2048000,
      "rowLimit": 10000
     },
     "inputWidgets": {},
     "nuid": "9458f830-d524-4799-a89a-94f20f3b87a6",
     "showTitle": false,
     "title": ""
    }
   },
   "outputs": [
    {
     "output_type": "stream",
     "name": "stdout",
     "output_type": "stream",
     "text": [
      "Out[24]: ['9763:MeeToo 1.0',\n '426:Titanic 1000',\n '383:Sorrento F00L',\n '404:MeeToo 1.0',\n '393:iFruit 1',\n '53:MeeToo 1.0',\n '96:iFruit 1',\n '283:Sorrento F00L',\n '464:MeeToo 1.0',\n '475:Titanic 1000']"
     ]
    }
   ],
   "source": [
    "myrdd4.take(10)"
   ]
  },
  {
   "cell_type": "code",
   "execution_count": 0,
   "metadata": {
    "application/vnd.databricks.v1+cell": {
     "cellMetadata": {
      "byteLimit": 2048000,
      "rowLimit": 10000
     },
     "inputWidgets": {},
     "nuid": "c459341d-91b9-49dc-8925-60a90b3a66f6",
     "showTitle": false,
     "title": ""
    }
   },
   "outputs": [],
   "source": [
    "myrdd4.saveAsTextFile('/FileStore/tables/account-models3')"
   ]
  },
  {
   "cell_type": "code",
   "execution_count": 0,
   "metadata": {
    "application/vnd.databricks.v1+cell": {
     "cellMetadata": {
      "byteLimit": 2048000,
      "rowLimit": 10000
     },
     "inputWidgets": {},
     "nuid": "71977c22-e182-4dd1-89b9-d456bad6dab0",
     "showTitle": false,
     "title": ""
    }
   },
   "outputs": [
    {
     "output_type": "stream",
     "name": "stdout",
     "output_type": "stream",
     "text": [
      "Out[35]: True"
     ]
    }
   ],
   "source": [
    "fileroot ='accounts'\n",
    "dbutils.fs.cp('/FileStore/tables/'+ fileroot +'.zip','file:/tmp/')"
   ]
  },
  {
   "cell_type": "code",
   "execution_count": 0,
   "metadata": {
    "application/vnd.databricks.v1+cell": {
     "cellMetadata": {
      "byteLimit": 2048000,
      "rowLimit": 10000
     },
     "inputWidgets": {},
     "nuid": "78bdda7f-59c0-49c3-9a00-f5990eb5d140",
     "showTitle": false,
     "title": ""
    }
   },
   "outputs": [],
   "source": [
    "import os\n",
    "os.environ['fileroot']=fileroot"
   ]
  },
  {
   "cell_type": "code",
   "execution_count": 0,
   "metadata": {
    "application/vnd.databricks.v1+cell": {
     "cellMetadata": {
      "byteLimit": 2048000,
      "rowLimit": 10000
     },
     "inputWidgets": {},
     "nuid": "bc02b61c-a064-4b39-b1da-e6aa211dec1a",
     "showTitle": false,
     "title": ""
    }
   },
   "outputs": [
    {
     "output_type": "stream",
     "name": "stdout",
     "output_type": "stream",
     "text": [
      "Archive:  /tmp/accounts.zip\n   creating: /tmp/accounts/\n  inflating: /tmp/accounts/part-m-00004  \n  inflating: /tmp/accounts/part-m-00006  \n  inflating: /tmp/accounts/part-m-00001  \n  inflating: /tmp/accounts/part-m-00003  \n  inflating: /tmp/accounts/part-m-00005  \n  inflating: /tmp/accounts/part-m-00000  \n  inflating: /tmp/accounts/part-m-00002  \n"
     ]
    }
   ],
   "source": [
    "%sh\n",
    "unzip -d /tmp /tmp/$fileroot.zip"
   ]
  },
  {
   "cell_type": "code",
   "execution_count": 0,
   "metadata": {
    "application/vnd.databricks.v1+cell": {
     "cellMetadata": {
      "byteLimit": 2048000,
      "rowLimit": 10000
     },
     "inputWidgets": {},
     "nuid": "dbccc495-203d-4acf-adcd-accc2eb05863",
     "showTitle": false,
     "title": ""
    }
   },
   "outputs": [
    {
     "output_type": "stream",
     "name": "stdout",
     "output_type": "stream",
     "text": [
      "Out[43]: True"
     ]
    }
   ],
   "source": [
    "dbutils.fs.mkdirs('/FileStore/tables/' + fileroot)\n"
   ]
  },
  {
   "cell_type": "code",
   "execution_count": 0,
   "metadata": {
    "application/vnd.databricks.v1+cell": {
     "cellMetadata": {
      "byteLimit": 2048000,
      "rowLimit": 10000
     },
     "inputWidgets": {},
     "nuid": "1f0b2bc0-7bdf-4ba0-8eff-db3a87ef86a3",
     "showTitle": false,
     "title": ""
    }
   },
   "outputs": [
    {
     "output_type": "stream",
     "name": "stdout",
     "output_type": "stream",
     "text": [
      "Out[44]: True"
     ]
    }
   ],
   "source": [
    "dbutils.fs.mv('file:/tmp/' + fileroot,'/FileStore/tables/' + fileroot,True)"
   ]
  },
  {
   "cell_type": "code",
   "execution_count": 0,
   "metadata": {
    "application/vnd.databricks.v1+cell": {
     "cellMetadata": {
      "byteLimit": 2048000,
      "rowLimit": 10000
     },
     "inputWidgets": {},
     "nuid": "ea8729b8-d82d-43c4-a662-96df4b77e82c",
     "showTitle": false,
     "title": ""
    }
   },
   "outputs": [
    {
     "output_type": "stream",
     "name": "stdout",
     "output_type": "stream",
     "text": [
      "Out[45]: [FileInfo(path='dbfs:/FileStore/tables/accounts/part-m-00000', name='part-m-00000', size=4706617, modificationTime=1707501862000),\n FileInfo(path='dbfs:/FileStore/tables/accounts/part-m-00001', name='part-m-00001', size=4693530, modificationTime=1707501861000),\n FileInfo(path='dbfs:/FileStore/tables/accounts/part-m-00002', name='part-m-00002', size=4674529, modificationTime=1707501862000),\n FileInfo(path='dbfs:/FileStore/tables/accounts/part-m-00003', name='part-m-00003', size=4662646, modificationTime=1707501861000),\n FileInfo(path='dbfs:/FileStore/tables/accounts/part-m-00004', name='part-m-00004', size=129, modificationTime=1707501861000),\n FileInfo(path='dbfs:/FileStore/tables/accounts/part-m-00005', name='part-m-00005', size=131, modificationTime=1707501861000),\n FileInfo(path='dbfs:/FileStore/tables/accounts/part-m-00006', name='part-m-00006', size=131, modificationTime=1707501861000)]"
     ]
    }
   ],
   "source": [
    "dbutils.fs.ls('FileStore/tables/' + fileroot)"
   ]
  },
  {
   "cell_type": "code",
   "execution_count": 0,
   "metadata": {
    "application/vnd.databricks.v1+cell": {
     "cellMetadata": {},
     "inputWidgets": {},
     "nuid": "ebc0e721-2ed2-4fe6-bb53-8668717ace79",
     "showTitle": false,
     "title": ""
    }
   },
   "outputs": [],
   "source": [
    "#log"
   ]
  },
  {
   "cell_type": "code",
   "execution_count": 0,
   "metadata": {
    "application/vnd.databricks.v1+cell": {
     "cellMetadata": {
      "byteLimit": 2048000,
      "rowLimit": 10000
     },
     "inputWidgets": {},
     "nuid": "74697829-cee8-45cc-bd10-7d2b2069b8da",
     "showTitle": false,
     "title": ""
    }
   },
   "outputs": [
    {
     "output_type": "stream",
     "name": "stdout",
     "output_type": "stream",
     "text": [
      "Out[46]: True"
     ]
    }
   ],
   "source": [
    "fileroot ='logs'\n",
    "\n",
    "dbutils.fs.cp('FileStore/tables/' + fileroot + '.zip','file:/tmp/')"
   ]
  },
  {
   "cell_type": "code",
   "execution_count": 0,
   "metadata": {
    "application/vnd.databricks.v1+cell": {
     "cellMetadata": {
      "byteLimit": 2048000,
      "rowLimit": 10000
     },
     "inputWidgets": {},
     "nuid": "499b7cb5-564f-4f9c-ad3f-4aa044692a73",
     "showTitle": false,
     "title": ""
    }
   },
   "outputs": [],
   "source": [
    "import os\n",
    "os.environ['fileroot'] = fileroot"
   ]
  },
  {
   "cell_type": "code",
   "execution_count": 0,
   "metadata": {
    "application/vnd.databricks.v1+cell": {
     "cellMetadata": {
      "byteLimit": 2048000,
      "rowLimit": 10000
     },
     "inputWidgets": {},
     "nuid": "d4e0ad19-b994-4299-ad7f-4b4fe4b7adbf",
     "showTitle": false,
     "title": ""
    }
   },
   "outputs": [
    {
     "output_type": "stream",
     "name": "stdout",
     "output_type": "stream",
     "text": [
      "Archive:  /tmp/logs.zip\n   creating: /tmp/logs/\n  inflating: /tmp/logs/2013-12-16.log  \n  inflating: /tmp/logs/2013-10-31.log  \n  inflating: /tmp/logs/2013-09-16.log  \n  inflating: /tmp/logs/2014-02-06.log  \n  inflating: /tmp/logs/2014-03-02.log  \n  inflating: /tmp/logs/2014-01-09.log  \n  inflating: /tmp/logs/2013-11-17.log  \n  inflating: /tmp/logs/2013-11-27.log  \n  inflating: /tmp/logs/2013-11-18.log  \n  inflating: /tmp/logs/2014-02-27.log  \n  inflating: /tmp/logs/2013-12-31.log  \n  inflating: /tmp/logs/2013-10-21.log  \n  inflating: /tmp/logs/2013-12-02.log  \n  inflating: /tmp/logs/2013-12-20.log  \n  inflating: /tmp/logs/2013-10-25.log  \n  inflating: /tmp/logs/2014-02-24.log  \n  inflating: /tmp/logs/2014-01-13.log  \n  inflating: /tmp/logs/2014-02-19.log  \n  inflating: /tmp/logs/2014-03-06.log  \n  inflating: /tmp/logs/2013-12-22.log  \n  inflating: /tmp/logs/2014-02-16.log  \n  inflating: /tmp/logs/2013-09-24.log  \n  inflating: /tmp/logs/2013-10-17.log  \n  inflating: /tmp/logs/2014-01-20.log  \n  inflating: /tmp/logs/2013-11-06.log  \n  inflating: /tmp/logs/2013-12-06.log  \n  inflating: /tmp/logs/2014-02-23.log  \n  inflating: /tmp/logs/2014-03-13.log  \n  inflating: /tmp/logs/2014-01-10.log  \n  inflating: /tmp/logs/2013-12-28.log  \n  inflating: /tmp/logs/2014-01-21.log  \n  inflating: /tmp/logs/2014-03-03.log  \n  inflating: /tmp/logs/2013-10-30.log  \n  inflating: /tmp/logs/2013-10-23.log  \n  inflating: /tmp/logs/2013-11-24.log  \n  inflating: /tmp/logs/2014-01-11.log  \n  inflating: /tmp/logs/2014-01-31.log  \n  inflating: /tmp/logs/2014-01-26.log  \n  inflating: /tmp/logs/2013-12-04.log  \n  inflating: /tmp/logs/2013-11-21.log  \n  inflating: /tmp/logs/2013-10-07.log  \n  inflating: /tmp/logs/2014-01-28.log  \n  inflating: /tmp/logs/2014-02-11.log  \n  inflating: /tmp/logs/2014-02-05.log  \n  inflating: /tmp/logs/2014-02-12.log  \n  inflating: /tmp/logs/2013-11-26.log  \n  inflating: /tmp/logs/2014-03-10.log  \n  inflating: /tmp/logs/2013-12-10.log  \n  inflating: /tmp/logs/2013-10-14.log  \n  inflating: /tmp/logs/2014-01-29.log  \n  inflating: /tmp/logs/2013-11-29.log  \n  inflating: /tmp/logs/2014-02-28.log  \n  inflating: /tmp/logs/2013-10-16.log  \n  inflating: /tmp/logs/2013-11-04.log  \n  inflating: /tmp/logs/2013-11-15.log  \n  inflating: /tmp/logs/2013-12-24.log  \n  inflating: /tmp/logs/2014-02-02.log  \n  inflating: /tmp/logs/2014-02-25.log  \n  inflating: /tmp/logs/2014-01-23.log  \n  inflating: /tmp/logs/2013-12-27.log  \n  inflating: /tmp/logs/2014-01-01.log  \n  inflating: /tmp/logs/2013-12-14.log  \n  inflating: /tmp/logs/2014-01-18.log  \n  inflating: /tmp/logs/2013-12-26.log  \n  inflating: /tmp/logs/2014-02-07.log  \n  inflating: /tmp/logs/2014-02-01.log  \n  inflating: /tmp/logs/2013-10-02.log  \n  inflating: /tmp/logs/2013-12-03.log  \n  inflating: /tmp/logs/2014-01-08.log  \n  inflating: /tmp/logs/2013-10-10.log  \n  inflating: /tmp/logs/2013-10-24.log  \n  inflating: /tmp/logs/2013-12-01.log  \n  inflating: /tmp/logs/2013-10-29.log  \n  inflating: /tmp/logs/2014-01-07.log  \n  inflating: /tmp/logs/2013-11-03.log  \n  inflating: /tmp/logs/2013-10-06.log  \n  inflating: /tmp/logs/2014-02-03.log  \n  inflating: /tmp/logs/2014-03-07.log  \n  inflating: /tmp/logs/2013-11-19.log  \n  inflating: /tmp/logs/2014-03-12.log  \n  inflating: /tmp/logs/2013-10-28.log  \n  inflating: /tmp/logs/2013-11-16.log  \n  inflating: /tmp/logs/2013-12-21.log  \n  inflating: /tmp/logs/2014-01-03.log  \n  inflating: /tmp/logs/2013-11-30.log  \n  inflating: /tmp/logs/2014-01-27.log  \n  inflating: /tmp/logs/2013-10-05.log  \n  inflating: /tmp/logs/2013-09-29.log  \n  inflating: /tmp/logs/2013-10-11.log  \n  inflating: /tmp/logs/2013-11-13.log  \n  inflating: /tmp/logs/2013-09-25.log  \n  inflating: /tmp/logs/2014-03-04.log  \n  inflating: /tmp/logs/2014-01-02.log  \n  inflating: /tmp/logs/2013-11-25.log  \n  inflating: /tmp/logs/2013-09-23.log  \n  inflating: /tmp/logs/2014-02-26.log  \n  inflating: /tmp/logs/2013-10-08.log  \n  inflating: /tmp/logs/2013-12-19.log  \n  inflating: /tmp/logs/2013-11-12.log  \n  inflating: /tmp/logs/2013-09-28.log  \n  inflating: /tmp/logs/2013-09-26.log  \n  inflating: /tmp/logs/2013-11-23.log  \n  inflating: /tmp/logs/2014-01-24.log  \n  inflating: /tmp/logs/2013-12-30.log  \n  inflating: /tmp/logs/2014-03-15.log  \n  inflating: /tmp/logs/2013-12-25.log  \n  inflating: /tmp/logs/2013-12-05.log  \n  inflating: /tmp/logs/2014-02-13.log  \n  inflating: /tmp/logs/2013-09-30.log  \n  inflating: /tmp/logs/2013-11-02.log  \n  inflating: /tmp/logs/2014-02-21.log  \n  inflating: /tmp/logs/2014-03-09.log  \n  inflating: /tmp/logs/2014-02-18.log  \n  inflating: /tmp/logs/2014-03-08.log  \n  inflating: /tmp/logs/2013-10-13.log  \n  inflating: /tmp/logs/2013-10-03.log  \n  inflating: /tmp/logs/2013-11-14.log  \n  inflating: /tmp/logs/2014-02-08.log  \n  inflating: /tmp/logs/2014-02-10.log  \n  inflating: /tmp/logs/2014-03-11.log  \n  inflating: /tmp/logs/2013-11-08.log  \n  inflating: /tmp/logs/2014-01-19.log  \n  inflating: /tmp/logs/2013-09-27.log  \n  inflating: /tmp/logs/2013-10-27.log  \n  inflating: /tmp/logs/2014-01-06.log  \n  inflating: /tmp/logs/2013-10-18.log  \n  inflating: /tmp/logs/2014-02-14.log  \n  inflating: /tmp/logs/2013-11-07.log  \n  inflating: /tmp/logs/2013-09-15.log  \n  inflating: /tmp/logs/2013-12-29.log  \n  inflating: /tmp/logs/2013-12-12.log  \n  inflating: /tmp/logs/2013-11-10.log  \n  inflating: /tmp/logs/2013-12-08.log  \n  inflating: /tmp/logs/2014-02-22.log  \n  inflating: /tmp/logs/2013-12-13.log  \n  inflating: /tmp/logs/2013-11-01.log  \n  inflating: /tmp/logs/2013-11-11.log  \n  inflating: /tmp/logs/2014-01-17.log  \n  inflating: /tmp/logs/2013-10-15.log  \n  inflating: /tmp/logs/2013-09-22.log  \n  inflating: /tmp/logs/2013-10-04.log  \n  inflating: /tmp/logs/2013-11-28.log  \n  inflating: /tmp/logs/2014-02-20.log  \n  inflating: /tmp/logs/2013-10-19.log  \n  inflating: /tmp/logs/2013-12-18.log  \n  inflating: /tmp/logs/2013-10-20.log  \n  inflating: /tmp/logs/2013-12-09.log  \n  inflating: /tmp/logs/2013-09-21.log  \n  inflating: /tmp/logs/2014-03-05.log  \n  inflating: /tmp/logs/2014-02-15.log  \n  inflating: /tmp/logs/2013-12-11.log  \n  inflating: /tmp/logs/2014-02-17.log  \n  inflating: /tmp/logs/2014-03-01.log  \n  inflating: /tmp/logs/2013-10-01.log  \n  inflating: /tmp/logs/2013-12-23.log  \n  inflating: /tmp/logs/2014-01-05.log  \n  inflating: /tmp/logs/2013-10-26.log  \n  inflating: /tmp/logs/2014-01-14.log  \n  inflating: /tmp/logs/2013-09-18.log  \n  inflating: /tmp/logs/2014-03-14.log  \n  inflating: /tmp/logs/2013-09-19.log  \n  inflating: /tmp/logs/2014-01-04.log  \n  inflating: /tmp/logs/2013-11-05.log  \n  inflating: /tmp/logs/2013-12-17.log  \n  inflating: /tmp/logs/2014-01-15.log  \n  inflating: /tmp/logs/2013-10-12.log  \n  inflating: /tmp/logs/2013-11-22.log  \n  inflating: /tmp/logs/2014-02-09.log  \n  inflating: /tmp/logs/2014-02-04.log  \n  inflating: /tmp/logs/2013-09-20.log  \n  inflating: /tmp/logs/2013-10-22.log  \n  inflating: /tmp/logs/2013-12-07.log  \n  inflating: /tmp/logs/2013-11-20.log  \n  inflating: /tmp/logs/2013-09-17.log  \n  inflating: /tmp/logs/2013-10-09.log  \n  inflating: /tmp/logs/2014-01-16.log  \n  inflating: /tmp/logs/2014-01-12.log  \n  inflating: /tmp/logs/2014-01-22.log  \n  inflating: /tmp/logs/2014-01-25.log  \n  inflating: /tmp/logs/2013-12-15.log  \n  inflating: /tmp/logs/2014-01-30.log  \n  inflating: /tmp/logs/2013-11-09.log  \n"
     ]
    }
   ],
   "source": [
    "%sh\n",
    "unzip -d /tmp /tmp/$fileroot.zip"
   ]
  },
  {
   "cell_type": "code",
   "execution_count": 0,
   "metadata": {
    "application/vnd.databricks.v1+cell": {
     "cellMetadata": {
      "byteLimit": 2048000,
      "rowLimit": 10000
     },
     "inputWidgets": {},
     "nuid": "c5016c74-0161-41ca-b4a8-2b0c48058037",
     "showTitle": false,
     "title": ""
    }
   },
   "outputs": [
    {
     "output_type": "stream",
     "name": "stdout",
     "output_type": "stream",
     "text": [
      "Out[49]: True"
     ]
    }
   ],
   "source": [
    "dbutils.fs.mkdirs('/FileStore/tables/' + fileroot)"
   ]
  },
  {
   "cell_type": "code",
   "execution_count": 0,
   "metadata": {
    "application/vnd.databricks.v1+cell": {
     "cellMetadata": {
      "byteLimit": 2048000,
      "rowLimit": 10000
     },
     "inputWidgets": {},
     "nuid": "ef88b2db-eb6f-4b20-bd38-68ed5ff3b062",
     "showTitle": false,
     "title": ""
    }
   },
   "outputs": [
    {
     "output_type": "stream",
     "name": "stdout",
     "output_type": "stream",
     "text": [
      "Out[50]: True"
     ]
    }
   ],
   "source": [
    "dbutils.fs.mv('file:/tmp/' + fileroot,'/FileStore/tables/' + fileroot,True)"
   ]
  },
  {
   "cell_type": "code",
   "execution_count": 0,
   "metadata": {
    "application/vnd.databricks.v1+cell": {
     "cellMetadata": {
      "byteLimit": 2048000,
      "rowLimit": 10000
     },
     "inputWidgets": {},
     "nuid": "dea57c8b-1e22-4c7e-a086-ed9c96a6162c",
     "showTitle": false,
     "title": ""
    }
   },
   "outputs": [
    {
     "output_type": "stream",
     "name": "stdout",
     "output_type": "stream",
     "text": [
      "Out[51]: [FileInfo(path='dbfs:/FileStore/tables/logs/2013-09-15.log', name='2013-09-15.log', size=521343, modificationTime=1707502311000),\n FileInfo(path='dbfs:/FileStore/tables/logs/2013-09-16.log', name='2013-09-16.log', size=484079, modificationTime=1707502295000),\n FileInfo(path='dbfs:/FileStore/tables/logs/2013-09-17.log', name='2013-09-17.log', size=527399, modificationTime=1707502305000),\n FileInfo(path='dbfs:/FileStore/tables/logs/2013-09-18.log', name='2013-09-18.log', size=485105, modificationTime=1707502336000),\n FileInfo(path='dbfs:/FileStore/tables/logs/2013-09-19.log', name='2013-09-19.log', size=508553, modificationTime=1707502327000),\n FileInfo(path='dbfs:/FileStore/tables/logs/2013-09-20.log', name='2013-09-20.log', size=492134, modificationTime=1707502336000),\n FileInfo(path='dbfs:/FileStore/tables/logs/2013-09-21.log', name='2013-09-21.log', size=489117, modificationTime=1707502318000),\n FileInfo(path='dbfs:/FileStore/tables/logs/2013-09-22.log', name='2013-09-22.log', size=535780, modificationTime=1707502312000),\n FileInfo(path='dbfs:/FileStore/tables/logs/2013-09-23.log', name='2013-09-23.log', size=501768, modificationTime=1707502317000),\n FileInfo(path='dbfs:/FileStore/tables/logs/2013-09-24.log', name='2013-09-24.log', size=489344, modificationTime=1707502321000),\n FileInfo(path='dbfs:/FileStore/tables/logs/2013-09-25.log', name='2013-09-25.log', size=487857, modificationTime=1707502320000),\n FileInfo(path='dbfs:/FileStore/tables/logs/2013-09-26.log', name='2013-09-26.log', size=523186, modificationTime=1707502325000),\n FileInfo(path='dbfs:/FileStore/tables/logs/2013-09-27.log', name='2013-09-27.log', size=506195, modificationTime=1707502311000),\n FileInfo(path='dbfs:/FileStore/tables/logs/2013-09-28.log', name='2013-09-28.log', size=492600, modificationTime=1707502316000),\n FileInfo(path='dbfs:/FileStore/tables/logs/2013-09-29.log', name='2013-09-29.log', size=481479, modificationTime=1707502317000),\n FileInfo(path='dbfs:/FileStore/tables/logs/2013-09-30.log', name='2013-09-30.log', size=525367, modificationTime=1707502316000),\n FileInfo(path='dbfs:/FileStore/tables/logs/2013-10-01.log', name='2013-10-01.log', size=484920, modificationTime=1707502322000),\n FileInfo(path='dbfs:/FileStore/tables/logs/2013-10-02.log', name='2013-10-02.log', size=527452, modificationTime=1707502334000),\n FileInfo(path='dbfs:/FileStore/tables/logs/2013-10-03.log', name='2013-10-03.log', size=521262, modificationTime=1707502332000),\n FileInfo(path='dbfs:/FileStore/tables/logs/2013-10-04.log', name='2013-10-04.log', size=498950, modificationTime=1707502329000),\n FileInfo(path='dbfs:/FileStore/tables/logs/2013-10-05.log', name='2013-10-05.log', size=510510, modificationTime=1707502322000),\n FileInfo(path='dbfs:/FileStore/tables/logs/2013-10-06.log', name='2013-10-06.log', size=489554, modificationTime=1707502296000),\n FileInfo(path='dbfs:/FileStore/tables/logs/2013-10-07.log', name='2013-10-07.log', size=489616, modificationTime=1707502298000),\n FileInfo(path='dbfs:/FileStore/tables/logs/2013-10-08.log', name='2013-10-08.log', size=523298, modificationTime=1707502333000),\n FileInfo(path='dbfs:/FileStore/tables/logs/2013-10-09.log', name='2013-10-09.log', size=529434, modificationTime=1707502296000),\n FileInfo(path='dbfs:/FileStore/tables/logs/2013-10-10.log', name='2013-10-10.log', size=521604, modificationTime=1707502298000),\n FileInfo(path='dbfs:/FileStore/tables/logs/2013-10-11.log', name='2013-10-11.log', size=524138, modificationTime=1707502329000),\n FileInfo(path='dbfs:/FileStore/tables/logs/2013-10-12.log', name='2013-10-12.log', size=517782, modificationTime=1707502336000),\n FileInfo(path='dbfs:/FileStore/tables/logs/2013-10-13.log', name='2013-10-13.log', size=522873, modificationTime=1707502301000),\n FileInfo(path='dbfs:/FileStore/tables/logs/2013-10-14.log', name='2013-10-14.log', size=496593, modificationTime=1707502306000),\n FileInfo(path='dbfs:/FileStore/tables/logs/2013-10-15.log', name='2013-10-15.log', size=495224, modificationTime=1707502335000),\n FileInfo(path='dbfs:/FileStore/tables/logs/2013-10-16.log', name='2013-10-16.log', size=521024, modificationTime=1707502300000),\n FileInfo(path='dbfs:/FileStore/tables/logs/2013-10-17.log', name='2013-10-17.log', size=500818, modificationTime=1707502309000),\n FileInfo(path='dbfs:/FileStore/tables/logs/2013-10-18.log', name='2013-10-18.log', size=501154, modificationTime=1707502302000),\n FileInfo(path='dbfs:/FileStore/tables/logs/2013-10-19.log', name='2013-10-19.log', size=527543, modificationTime=1707502333000),\n FileInfo(path='dbfs:/FileStore/tables/logs/2013-10-20.log', name='2013-10-20.log', size=518589, modificationTime=1707502318000),\n FileInfo(path='dbfs:/FileStore/tables/logs/2013-10-21.log', name='2013-10-21.log', size=512893, modificationTime=1707502322000),\n FileInfo(path='dbfs:/FileStore/tables/logs/2013-10-22.log', name='2013-10-22.log', size=518030, modificationTime=1707502328000),\n FileInfo(path='dbfs:/FileStore/tables/logs/2013-10-23.log', name='2013-10-23.log', size=492463, modificationTime=1707502308000),\n FileInfo(path='dbfs:/FileStore/tables/logs/2013-10-24.log', name='2013-10-24.log', size=492054, modificationTime=1707502320000),\n FileInfo(path='dbfs:/FileStore/tables/logs/2013-10-25.log', name='2013-10-25.log', size=533207, modificationTime=1707502300000),\n FileInfo(path='dbfs:/FileStore/tables/logs/2013-10-26.log', name='2013-10-26.log', size=503777, modificationTime=1707502312000),\n FileInfo(path='dbfs:/FileStore/tables/logs/2013-10-27.log', name='2013-10-27.log', size=503420, modificationTime=1707502318000),\n FileInfo(path='dbfs:/FileStore/tables/logs/2013-10-28.log', name='2013-10-28.log', size=524048, modificationTime=1707502324000),\n FileInfo(path='dbfs:/FileStore/tables/logs/2013-10-29.log', name='2013-10-29.log', size=510800, modificationTime=1707502308000),\n FileInfo(path='dbfs:/FileStore/tables/logs/2013-10-30.log', name='2013-10-30.log', size=523180, modificationTime=1707502308000),\n FileInfo(path='dbfs:/FileStore/tables/logs/2013-10-31.log', name='2013-10-31.log', size=524277, modificationTime=1707502301000),\n FileInfo(path='dbfs:/FileStore/tables/logs/2013-11-01.log', name='2013-11-01.log', size=969586, modificationTime=1707502296000),\n FileInfo(path='dbfs:/FileStore/tables/logs/2013-11-02.log', name='2013-11-02.log', size=1061868, modificationTime=1707502299000),\n FileInfo(path='dbfs:/FileStore/tables/logs/2013-11-03.log', name='2013-11-03.log', size=1093742, modificationTime=1707502321000),\n FileInfo(path='dbfs:/FileStore/tables/logs/2013-11-04.log', name='2013-11-04.log', size=956153, modificationTime=1707502328000),\n FileInfo(path='dbfs:/FileStore/tables/logs/2013-11-05.log', name='2013-11-05.log', size=1085429, modificationTime=1707502326000),\n FileInfo(path='dbfs:/FileStore/tables/logs/2013-11-06.log', name='2013-11-06.log', size=1071334, modificationTime=1707502330000),\n FileInfo(path='dbfs:/FileStore/tables/logs/2013-11-07.log', name='2013-11-07.log', size=1038115, modificationTime=1707502329000),\n FileInfo(path='dbfs:/FileStore/tables/logs/2013-11-08.log', name='2013-11-08.log', size=1078367, modificationTime=1707502295000),\n FileInfo(path='dbfs:/FileStore/tables/logs/2013-11-09.log', name='2013-11-09.log', size=970029, modificationTime=1707502319000),\n FileInfo(path='dbfs:/FileStore/tables/logs/2013-11-10.log', name='2013-11-10.log', size=1095755, modificationTime=1707502330000),\n FileInfo(path='dbfs:/FileStore/tables/logs/2013-11-11.log', name='2013-11-11.log', size=977765, modificationTime=1707502335000),\n FileInfo(path='dbfs:/FileStore/tables/logs/2013-11-12.log', name='2013-11-12.log', size=970149, modificationTime=1707502297000),\n FileInfo(path='dbfs:/FileStore/tables/logs/2013-11-13.log', name='2013-11-13.log', size=1039116, modificationTime=1707502307000),\n FileInfo(path='dbfs:/FileStore/tables/logs/2013-11-14.log', name='2013-11-14.log', size=1081771, modificationTime=1707502334000),\n FileInfo(path='dbfs:/FileStore/tables/logs/2013-11-15.log', name='2013-11-15.log', size=982380, modificationTime=1707502296000),\n FileInfo(path='dbfs:/FileStore/tables/logs/2013-11-16.log', name='2013-11-16.log', size=1009713, modificationTime=1707502309000),\n FileInfo(path='dbfs:/FileStore/tables/logs/2013-11-17.log', name='2013-11-17.log', size=1086494, modificationTime=1707502335000),\n FileInfo(path='dbfs:/FileStore/tables/logs/2013-11-18.log', name='2013-11-18.log', size=978348, modificationTime=1707502313000),\n FileInfo(path='dbfs:/FileStore/tables/logs/2013-11-19.log', name='2013-11-19.log', size=1083789, modificationTime=1707502336000),\n FileInfo(path='dbfs:/FileStore/tables/logs/2013-11-20.log', name='2013-11-20.log', size=1009470, modificationTime=1707502304000),\n FileInfo(path='dbfs:/FileStore/tables/logs/2013-11-21.log', name='2013-11-21.log', size=1057086, modificationTime=1707502325000),\n FileInfo(path='dbfs:/FileStore/tables/logs/2013-11-22.log', name='2013-11-22.log', size=975288, modificationTime=1707502324000),\n FileInfo(path='dbfs:/FileStore/tables/logs/2013-11-23.log', name='2013-11-23.log', size=1063118, modificationTime=1707502313000),\n FileInfo(path='dbfs:/FileStore/tables/logs/2013-11-24.log', name='2013-11-24.log', size=1048393, modificationTime=1707502303000),\n FileInfo(path='dbfs:/FileStore/tables/logs/2013-11-25.log', name='2013-11-25.log', size=974776, modificationTime=1707502294000),\n FileInfo(path='dbfs:/FileStore/tables/logs/2013-11-26.log', name='2013-11-26.log', size=962392, modificationTime=1707502294000),\n FileInfo(path='dbfs:/FileStore/tables/logs/2013-11-27.log', name='2013-11-27.log', size=976234, modificationTime=1707502323000),\n FileInfo(path='dbfs:/FileStore/tables/logs/2013-11-28.log', name='2013-11-28.log', size=976027, modificationTime=1707502309000),\n FileInfo(path='dbfs:/FileStore/tables/logs/2013-11-29.log', name='2013-11-29.log', size=1081953, modificationTime=1707502323000),\n FileInfo(path='dbfs:/FileStore/tables/logs/2013-11-30.log', name='2013-11-30.log', size=1006926, modificationTime=1707502297000),\n FileInfo(path='dbfs:/FileStore/tables/logs/2013-12-01.log', name='2013-12-01.log', size=1014795, modificationTime=1707502323000),\n FileInfo(path='dbfs:/FileStore/tables/logs/2013-12-02.log', name='2013-12-02.log', size=1093271, modificationTime=1707502310000),\n FileInfo(path='dbfs:/FileStore/tables/logs/2013-12-03.log', name='2013-12-03.log', size=1068328, modificationTime=1707502301000),\n FileInfo(path='dbfs:/FileStore/tables/logs/2013-12-04.log', name='2013-12-04.log', size=1070066, modificationTime=1707502330000),\n FileInfo(path='dbfs:/FileStore/tables/logs/2013-12-05.log', name='2013-12-05.log', size=1028342, modificationTime=1707502295000),\n FileInfo(path='dbfs:/FileStore/tables/logs/2013-12-06.log', name='2013-12-06.log', size=1031373, modificationTime=1707502317000),\n FileInfo(path='dbfs:/FileStore/tables/logs/2013-12-07.log', name='2013-12-07.log', size=1018063, modificationTime=1707502331000),\n FileInfo(path='dbfs:/FileStore/tables/logs/2013-12-08.log', name='2013-12-08.log', size=1039394, modificationTime=1707502324000),\n FileInfo(path='dbfs:/FileStore/tables/logs/2013-12-09.log', name='2013-12-09.log', size=1101053, modificationTime=1707502313000),\n FileInfo(path='dbfs:/FileStore/tables/logs/2013-12-10.log', name='2013-12-10.log', size=1009430, modificationTime=1707502312000),\n FileInfo(path='dbfs:/FileStore/tables/logs/2013-12-11.log', name='2013-12-11.log', size=1061891, modificationTime=1707502294000),\n FileInfo(path='dbfs:/FileStore/tables/logs/2013-12-12.log', name='2013-12-12.log', size=1030641, modificationTime=1707502296000),\n FileInfo(path='dbfs:/FileStore/tables/logs/2013-12-13.log', name='2013-12-13.log', size=1028946, modificationTime=1707502325000),\n FileInfo(path='dbfs:/FileStore/tables/logs/2013-12-14.log', name='2013-12-14.log', size=985819, modificationTime=1707502311000),\n FileInfo(path='dbfs:/FileStore/tables/logs/2013-12-15.log', name='2013-12-15.log', size=1080787, modificationTime=1707502332000),\n FileInfo(path='dbfs:/FileStore/tables/logs/2013-12-16.log', name='2013-12-16.log', size=1004498, modificationTime=1707502301000),\n FileInfo(path='dbfs:/FileStore/tables/logs/2013-12-17.log', name='2013-12-17.log', size=1078566, modificationTime=1707502300000),\n FileInfo(path='dbfs:/FileStore/tables/logs/2013-12-18.log', name='2013-12-18.log', size=1069630, modificationTime=1707502301000),\n FileInfo(path='dbfs:/FileStore/tables/logs/2013-12-19.log', name='2013-12-19.log', size=1050695, modificationTime=1707502326000),\n FileInfo(path='dbfs:/FileStore/tables/logs/2013-12-20.log', name='2013-12-20.log', size=1108042, modificationTime=1707502302000),\n FileInfo(path='dbfs:/FileStore/tables/logs/2013-12-21.log', name='2013-12-21.log', size=986692, modificationTime=1707502304000),\n FileInfo(path='dbfs:/FileStore/tables/logs/2013-12-22.log', name='2013-12-22.log', size=1045723, modificationTime=1707502321000),\n FileInfo(path='dbfs:/FileStore/tables/logs/2013-12-23.log', name='2013-12-23.log', size=990531, modificationTime=1707502310000),\n FileInfo(path='dbfs:/FileStore/tables/logs/2013-12-24.log', name='2013-12-24.log', size=1059352, modificationTime=1707502327000),\n FileInfo(path='dbfs:/FileStore/tables/logs/2013-12-25.log', name='2013-12-25.log', size=980457, modificationTime=1707502304000),\n FileInfo(path='dbfs:/FileStore/tables/logs/2013-12-26.log', name='2013-12-26.log', size=1054182, modificationTime=1707502312000),\n FileInfo(path='dbfs:/FileStore/tables/logs/2013-12-27.log', name='2013-12-27.log', size=1017134, modificationTime=1707502298000),\n FileInfo(path='dbfs:/FileStore/tables/logs/2013-12-28.log', name='2013-12-28.log', size=1064484, modificationTime=1707502316000),\n FileInfo(path='dbfs:/FileStore/tables/logs/2013-12-29.log', name='2013-12-29.log', size=1022151, modificationTime=1707502333000),\n FileInfo(path='dbfs:/FileStore/tables/logs/2013-12-30.log', name='2013-12-30.log', size=1070391, modificationTime=1707502311000),\n FileInfo(path='dbfs:/FileStore/tables/logs/2013-12-31.log', name='2013-12-31.log', size=992528, modificationTime=1707502314000),\n FileInfo(path='dbfs:/FileStore/tables/logs/2014-01-01.log', name='2014-01-01.log', size=1057534, modificationTime=1707502315000),\n FileInfo(path='dbfs:/FileStore/tables/logs/2014-01-02.log', name='2014-01-02.log', size=1053566, modificationTime=1707502300000),\n FileInfo(path='dbfs:/FileStore/tables/logs/2014-01-03.log', name='2014-01-03.log', size=981998, modificationTime=1707502337000),\n FileInfo(path='dbfs:/FileStore/tables/logs/2014-01-04.log', name='2014-01-04.log', size=1100898, modificationTime=1707502324000),\n FileInfo(path='dbfs:/FileStore/tables/logs/2014-01-05.log', name='2014-01-05.log', size=1012644, modificationTime=1707502315000),\n FileInfo(path='dbfs:/FileStore/tables/logs/2014-01-06.log', name='2014-01-06.log', size=1094868, modificationTime=1707502330000),\n FileInfo(path='dbfs:/FileStore/tables/logs/2014-01-07.log', name='2014-01-07.log', size=1094753, modificationTime=1707502299000),\n FileInfo(path='dbfs:/FileStore/tables/logs/2014-01-08.log', name='2014-01-08.log', size=1037422, modificationTime=1707502307000),\n FileInfo(path='dbfs:/FileStore/tables/logs/2014-01-09.log', name='2014-01-09.log', size=1032385, modificationTime=1707502331000),\n FileInfo(path='dbfs:/FileStore/tables/logs/2014-01-10.log', name='2014-01-10.log', size=977679, modificationTime=1707502332000),\n FileInfo(path='dbfs:/FileStore/tables/logs/2014-01-11.log', name='2014-01-11.log', size=993697, modificationTime=1707502321000),\n FileInfo(path='dbfs:/FileStore/tables/logs/2014-01-12.log', name='2014-01-12.log', size=1073307, modificationTime=1707502305000),\n FileInfo(path='dbfs:/FileStore/tables/logs/2014-01-13.log', name='2014-01-13.log', size=1048789, modificationTime=1707502310000),\n FileInfo(path='dbfs:/FileStore/tables/logs/2014-01-14.log', name='2014-01-14.log', size=1001350, modificationTime=1707502327000),\n FileInfo(path='dbfs:/FileStore/tables/logs/2014-01-15.log', name='2014-01-15.log', size=1048617, modificationTime=1707502319000),\n FileInfo(path='dbfs:/FileStore/tables/logs/2014-01-16.log', name='2014-01-16.log', size=996816, modificationTime=1707502299000),\n FileInfo(path='dbfs:/FileStore/tables/logs/2014-01-17.log', name='2014-01-17.log', size=1044827, modificationTime=1707502304000),\n FileInfo(path='dbfs:/FileStore/tables/logs/2014-01-18.log', name='2014-01-18.log', size=972872, modificationTime=1707502302000),\n FileInfo(path='dbfs:/FileStore/tables/logs/2014-01-19.log', name='2014-01-19.log', size=975136, modificationTime=1707502295000),\n FileInfo(path='dbfs:/FileStore/tables/logs/2014-01-20.log', name='2014-01-20.log', size=1020891, modificationTime=1707502305000),\n FileInfo(path='dbfs:/FileStore/tables/logs/2014-01-21.log', name='2014-01-21.log', size=1011424, modificationTime=1707502307000),\n FileInfo(path='dbfs:/FileStore/tables/logs/2014-01-22.log', name='2014-01-22.log', size=1109304, modificationTime=1707502315000),\n FileInfo(path='dbfs:/FileStore/tables/logs/2014-01-23.log', name='2014-01-23.log', size=976011, modificationTime=1707502325000),\n FileInfo(path='dbfs:/FileStore/tables/logs/2014-01-24.log', name='2014-01-24.log', size=1061764, modificationTime=1707502315000),\n FileInfo(path='dbfs:/FileStore/tables/logs/2014-01-25.log', name='2014-01-25.log', size=1072204, modificationTime=1707502308000),\n FileInfo(path='dbfs:/FileStore/tables/logs/2014-01-26.log', name='2014-01-26.log', size=1065979, modificationTime=1707502328000),\n FileInfo(path='dbfs:/FileStore/tables/logs/2014-01-27.log', name='2014-01-27.log', size=1096363, modificationTime=1707502320000),\n FileInfo(path='dbfs:/FileStore/tables/logs/2014-01-28.log', name='2014-01-28.log', size=1083865, modificationTime=1707502329000),\n FileInfo(path='dbfs:/FileStore/tables/logs/2014-01-29.log', name='2014-01-29.log', size=1012968, modificationTime=1707502308000),\n FileInfo(path='dbfs:/FileStore/tables/logs/2014-01-30.log', name='2014-01-30.log', size=1081064, modificationTime=1707502333000),\n FileInfo(path='dbfs:/FileStore/tables/logs/2014-01-31.log', name='2014-01-31.log', size=1101529, modificationTime=1707502316000),\n FileInfo(path='dbfs:/FileStore/tables/logs/2014-02-01.log', name='2014-02-01.log', size=1053099, modificationTime=1707502334000),\n FileInfo(path='dbfs:/FileStore/tables/logs/2014-02-02.log', name='2014-02-02.log', size=1067044, modificationTime=1707502314000),\n FileInfo(path='dbfs:/FileStore/tables/logs/2014-02-03.log', name='2014-02-03.log', size=1003003, modificationTime=1707502310000),\n FileInfo(path='dbfs:/FileStore/tables/logs/2014-02-04.log', name='2014-02-04.log', size=1017259, modificationTime=1707502297000),\n FileInfo(path='dbfs:/FileStore/tables/logs/2014-02-05.log', name='2014-02-05.log', size=1005783, modificationTime=1707502302000),\n FileInfo(path='dbfs:/FileStore/tables/logs/2014-02-06.log', name='2014-02-06.log', size=1065257, modificationTime=1707502328000),\n FileInfo(path='dbfs:/FileStore/tables/logs/2014-02-07.log', name='2014-02-07.log', size=996107, modificationTime=1707502332000),\n FileInfo(path='dbfs:/FileStore/tables/logs/2014-02-08.log', name='2014-02-08.log', size=1035289, modificationTime=1707502326000),\n FileInfo(path='dbfs:/FileStore/tables/logs/2014-02-09.log', name='2014-02-09.log', size=1065078, modificationTime=1707502334000),\n FileInfo(path='dbfs:/FileStore/tables/logs/2014-02-10.log', name='2014-02-10.log', size=1044403, modificationTime=1707502319000),\n FileInfo(path='dbfs:/FileStore/tables/logs/2014-02-11.log', name='2014-02-11.log', size=1057235, modificationTime=1707502327000),\n FileInfo(path='dbfs:/FileStore/tables/logs/2014-02-12.log', name='2014-02-12.log', size=1091711, modificationTime=1707502306000),\n FileInfo(path='dbfs:/FileStore/tables/logs/2014-02-13.log', name='2014-02-13.log', size=1096726, modificationTime=1707502305000),\n FileInfo(path='dbfs:/FileStore/tables/logs/2014-02-14.log', name='2014-02-14.log', size=1072065, modificationTime=1707502336000),\n FileInfo(path='dbfs:/FileStore/tables/logs/2014-02-15.log', name='2014-02-15.log', size=1010563, modificationTime=1707502318000),\n FileInfo(path='dbfs:/FileStore/tables/logs/2014-02-16.log', name='2014-02-16.log', size=1056078, modificationTime=1707502313000),\n FileInfo(path='dbfs:/FileStore/tables/logs/2014-02-17.log', name='2014-02-17.log', size=994481, modificationTime=1707502314000),\n FileInfo(path='dbfs:/FileStore/tables/logs/2014-02-18.log', name='2014-02-18.log', size=1019882, modificationTime=1707502322000),\n FileInfo(path='dbfs:/FileStore/tables/logs/2014-02-19.log', name='2014-02-19.log', size=992774, modificationTime=1707502332000),\n FileInfo(path='dbfs:/FileStore/tables/logs/2014-02-20.log', name='2014-02-20.log', size=992721, modificationTime=1707502306000),\n FileInfo(path='dbfs:/FileStore/tables/logs/2014-02-21.log', name='2014-02-21.log', size=1024612, modificationTime=1707502306000),\n FileInfo(path='dbfs:/FileStore/tables/logs/2014-02-22.log', name='2014-02-22.log', size=1060506, modificationTime=1707502297000),\n FileInfo(path='dbfs:/FileStore/tables/logs/2014-02-23.log', name='2014-02-23.log', size=1017947, modificationTime=1707502326000),\n FileInfo(path='dbfs:/FileStore/tables/logs/2014-02-24.log', name='2014-02-24.log', size=1104389, modificationTime=1707502323000),\n FileInfo(path='dbfs:/FileStore/tables/logs/2014-02-25.log', name='2014-02-25.log', size=1018667, modificationTime=1707502316000),\n FileInfo(path='dbfs:/FileStore/tables/logs/2014-02-26.log', name='2014-02-26.log', size=1076821, modificationTime=1707502321000),\n FileInfo(path='dbfs:/FileStore/tables/logs/2014-02-27.log', name='2014-02-27.log', size=1090745, modificationTime=1707502313000),\n FileInfo(path='dbfs:/FileStore/tables/logs/2014-02-28.log', name='2014-02-28.log', size=975382, modificationTime=1707502320000),\n FileInfo(path='dbfs:/FileStore/tables/logs/2014-03-01.log', name='2014-03-01.log', size=1004630, modificationTime=1707502323000),\n FileInfo(path='dbfs:/FileStore/tables/logs/2014-03-02.log', name='2014-03-02.log', size=1005688, modificationTime=1707502331000),\n FileInfo(path='dbfs:/FileStore/tables/logs/2014-03-03.log', name='2014-03-03.log', size=981270, modificationTime=1707502319000),\n FileInfo(path='dbfs:/FileStore/tables/logs/2014-03-04.log', name='2014-03-04.log', size=968023, modificationTime=1707502303000),\n FileInfo(path='dbfs:/FileStore/tables/logs/2014-03-05.log', name='2014-03-05.log', size=1006960, modificationTime=1707502317000),\n FileInfo(path='dbfs:/FileStore/tables/logs/2014-03-06.log', name='2014-03-06.log', size=1014931, modificationTime=1707502304000),\n FileInfo(path='dbfs:/FileStore/tables/logs/2014-03-07.log', name='2014-03-07.log', size=1103088, modificationTime=1707502298000),\n FileInfo(path='dbfs:/FileStore/tables/logs/2014-03-08.log', name='2014-03-08.log', size=1001566, modificationTime=1707502335000),\n FileInfo(path='dbfs:/FileStore/tables/logs/2014-03-09.log', name='2014-03-09.log', size=995517, modificationTime=1707502298000),\n FileInfo(path='dbfs:/FileStore/tables/logs/2014-03-10.log', name='2014-03-10.log', size=1091560, modificationTime=1707502319000),\n FileInfo(path='dbfs:/FileStore/tables/logs/2014-03-11.log', name='2014-03-11.log', size=1038692, modificationTime=1707502303000),\n FileInfo(path='dbfs:/FileStore/tables/logs/2014-03-12.log', name='2014-03-12.log', size=1047117, modificationTime=1707502303000),\n FileInfo(path='dbfs:/FileStore/tables/logs/2014-03-13.log', name='2014-03-13.log', size=997473, modificationTime=1707502309000),\n FileInfo(path='dbfs:/FileStore/tables/logs/2014-03-14.log', name='2014-03-14.log', size=994147, modificationTime=1707502299000),\n FileInfo(path='dbfs:/FileStore/tables/logs/2014-03-15.log', name='2014-03-15.log', size=1074872, modificationTime=1707502330000)]"
     ]
    }
   ],
   "source": [
    "dbutils.fs.ls('FileStore/tables/' + fileroot)"
   ]
  },
  {
   "cell_type": "code",
   "execution_count": 0,
   "metadata": {
    "application/vnd.databricks.v1+cell": {
     "cellMetadata": {},
     "inputWidgets": {},
     "nuid": "8eed7985-b092-42c2-87e5-e969d6aa8ec0",
     "showTitle": false,
     "title": ""
    }
   },
   "outputs": [],
   "source": [
    "#exploring the data"
   ]
  },
  {
   "cell_type": "code",
   "execution_count": 0,
   "metadata": {
    "application/vnd.databricks.v1+cell": {
     "cellMetadata": {
      "byteLimit": 2048000,
      "rowLimit": 10000
     },
     "inputWidgets": {},
     "nuid": "4ac2b83c-2040-4026-9608-dcf78d2e44ae",
     "showTitle": false,
     "title": ""
    }
   },
   "outputs": [
    {
     "output_type": "stream",
     "name": "stdout",
     "output_type": "stream",
     "text": [
      "Out[52]: [FileInfo(path='dbfs:/FileStore/tables/logs/2013-09-15.log', name='2013-09-15.log', size=521343, modificationTime=1707502311000),\n FileInfo(path='dbfs:/FileStore/tables/logs/2013-09-16.log', name='2013-09-16.log', size=484079, modificationTime=1707502295000),\n FileInfo(path='dbfs:/FileStore/tables/logs/2013-09-17.log', name='2013-09-17.log', size=527399, modificationTime=1707502305000),\n FileInfo(path='dbfs:/FileStore/tables/logs/2013-09-18.log', name='2013-09-18.log', size=485105, modificationTime=1707502336000),\n FileInfo(path='dbfs:/FileStore/tables/logs/2013-09-19.log', name='2013-09-19.log', size=508553, modificationTime=1707502327000),\n FileInfo(path='dbfs:/FileStore/tables/logs/2013-09-20.log', name='2013-09-20.log', size=492134, modificationTime=1707502336000),\n FileInfo(path='dbfs:/FileStore/tables/logs/2013-09-21.log', name='2013-09-21.log', size=489117, modificationTime=1707502318000),\n FileInfo(path='dbfs:/FileStore/tables/logs/2013-09-22.log', name='2013-09-22.log', size=535780, modificationTime=1707502312000),\n FileInfo(path='dbfs:/FileStore/tables/logs/2013-09-23.log', name='2013-09-23.log', size=501768, modificationTime=1707502317000),\n FileInfo(path='dbfs:/FileStore/tables/logs/2013-09-24.log', name='2013-09-24.log', size=489344, modificationTime=1707502321000),\n FileInfo(path='dbfs:/FileStore/tables/logs/2013-09-25.log', name='2013-09-25.log', size=487857, modificationTime=1707502320000),\n FileInfo(path='dbfs:/FileStore/tables/logs/2013-09-26.log', name='2013-09-26.log', size=523186, modificationTime=1707502325000),\n FileInfo(path='dbfs:/FileStore/tables/logs/2013-09-27.log', name='2013-09-27.log', size=506195, modificationTime=1707502311000),\n FileInfo(path='dbfs:/FileStore/tables/logs/2013-09-28.log', name='2013-09-28.log', size=492600, modificationTime=1707502316000),\n FileInfo(path='dbfs:/FileStore/tables/logs/2013-09-29.log', name='2013-09-29.log', size=481479, modificationTime=1707502317000),\n FileInfo(path='dbfs:/FileStore/tables/logs/2013-09-30.log', name='2013-09-30.log', size=525367, modificationTime=1707502316000),\n FileInfo(path='dbfs:/FileStore/tables/logs/2013-10-01.log', name='2013-10-01.log', size=484920, modificationTime=1707502322000),\n FileInfo(path='dbfs:/FileStore/tables/logs/2013-10-02.log', name='2013-10-02.log', size=527452, modificationTime=1707502334000),\n FileInfo(path='dbfs:/FileStore/tables/logs/2013-10-03.log', name='2013-10-03.log', size=521262, modificationTime=1707502332000),\n FileInfo(path='dbfs:/FileStore/tables/logs/2013-10-04.log', name='2013-10-04.log', size=498950, modificationTime=1707502329000),\n FileInfo(path='dbfs:/FileStore/tables/logs/2013-10-05.log', name='2013-10-05.log', size=510510, modificationTime=1707502322000),\n FileInfo(path='dbfs:/FileStore/tables/logs/2013-10-06.log', name='2013-10-06.log', size=489554, modificationTime=1707502296000),\n FileInfo(path='dbfs:/FileStore/tables/logs/2013-10-07.log', name='2013-10-07.log', size=489616, modificationTime=1707502298000),\n FileInfo(path='dbfs:/FileStore/tables/logs/2013-10-08.log', name='2013-10-08.log', size=523298, modificationTime=1707502333000),\n FileInfo(path='dbfs:/FileStore/tables/logs/2013-10-09.log', name='2013-10-09.log', size=529434, modificationTime=1707502296000),\n FileInfo(path='dbfs:/FileStore/tables/logs/2013-10-10.log', name='2013-10-10.log', size=521604, modificationTime=1707502298000),\n FileInfo(path='dbfs:/FileStore/tables/logs/2013-10-11.log', name='2013-10-11.log', size=524138, modificationTime=1707502329000),\n FileInfo(path='dbfs:/FileStore/tables/logs/2013-10-12.log', name='2013-10-12.log', size=517782, modificationTime=1707502336000),\n FileInfo(path='dbfs:/FileStore/tables/logs/2013-10-13.log', name='2013-10-13.log', size=522873, modificationTime=1707502301000),\n FileInfo(path='dbfs:/FileStore/tables/logs/2013-10-14.log', name='2013-10-14.log', size=496593, modificationTime=1707502306000),\n FileInfo(path='dbfs:/FileStore/tables/logs/2013-10-15.log', name='2013-10-15.log', size=495224, modificationTime=1707502335000),\n FileInfo(path='dbfs:/FileStore/tables/logs/2013-10-16.log', name='2013-10-16.log', size=521024, modificationTime=1707502300000),\n FileInfo(path='dbfs:/FileStore/tables/logs/2013-10-17.log', name='2013-10-17.log', size=500818, modificationTime=1707502309000),\n FileInfo(path='dbfs:/FileStore/tables/logs/2013-10-18.log', name='2013-10-18.log', size=501154, modificationTime=1707502302000),\n FileInfo(path='dbfs:/FileStore/tables/logs/2013-10-19.log', name='2013-10-19.log', size=527543, modificationTime=1707502333000),\n FileInfo(path='dbfs:/FileStore/tables/logs/2013-10-20.log', name='2013-10-20.log', size=518589, modificationTime=1707502318000),\n FileInfo(path='dbfs:/FileStore/tables/logs/2013-10-21.log', name='2013-10-21.log', size=512893, modificationTime=1707502322000),\n FileInfo(path='dbfs:/FileStore/tables/logs/2013-10-22.log', name='2013-10-22.log', size=518030, modificationTime=1707502328000),\n FileInfo(path='dbfs:/FileStore/tables/logs/2013-10-23.log', name='2013-10-23.log', size=492463, modificationTime=1707502308000),\n FileInfo(path='dbfs:/FileStore/tables/logs/2013-10-24.log', name='2013-10-24.log', size=492054, modificationTime=1707502320000),\n FileInfo(path='dbfs:/FileStore/tables/logs/2013-10-25.log', name='2013-10-25.log', size=533207, modificationTime=1707502300000),\n FileInfo(path='dbfs:/FileStore/tables/logs/2013-10-26.log', name='2013-10-26.log', size=503777, modificationTime=1707502312000),\n FileInfo(path='dbfs:/FileStore/tables/logs/2013-10-27.log', name='2013-10-27.log', size=503420, modificationTime=1707502318000),\n FileInfo(path='dbfs:/FileStore/tables/logs/2013-10-28.log', name='2013-10-28.log', size=524048, modificationTime=1707502324000),\n FileInfo(path='dbfs:/FileStore/tables/logs/2013-10-29.log', name='2013-10-29.log', size=510800, modificationTime=1707502308000),\n FileInfo(path='dbfs:/FileStore/tables/logs/2013-10-30.log', name='2013-10-30.log', size=523180, modificationTime=1707502308000),\n FileInfo(path='dbfs:/FileStore/tables/logs/2013-10-31.log', name='2013-10-31.log', size=524277, modificationTime=1707502301000),\n FileInfo(path='dbfs:/FileStore/tables/logs/2013-11-01.log', name='2013-11-01.log', size=969586, modificationTime=1707502296000),\n FileInfo(path='dbfs:/FileStore/tables/logs/2013-11-02.log', name='2013-11-02.log', size=1061868, modificationTime=1707502299000),\n FileInfo(path='dbfs:/FileStore/tables/logs/2013-11-03.log', name='2013-11-03.log', size=1093742, modificationTime=1707502321000),\n FileInfo(path='dbfs:/FileStore/tables/logs/2013-11-04.log', name='2013-11-04.log', size=956153, modificationTime=1707502328000),\n FileInfo(path='dbfs:/FileStore/tables/logs/2013-11-05.log', name='2013-11-05.log', size=1085429, modificationTime=1707502326000),\n FileInfo(path='dbfs:/FileStore/tables/logs/2013-11-06.log', name='2013-11-06.log', size=1071334, modificationTime=1707502330000),\n FileInfo(path='dbfs:/FileStore/tables/logs/2013-11-07.log', name='2013-11-07.log', size=1038115, modificationTime=1707502329000),\n FileInfo(path='dbfs:/FileStore/tables/logs/2013-11-08.log', name='2013-11-08.log', size=1078367, modificationTime=1707502295000),\n FileInfo(path='dbfs:/FileStore/tables/logs/2013-11-09.log', name='2013-11-09.log', size=970029, modificationTime=1707502319000),\n FileInfo(path='dbfs:/FileStore/tables/logs/2013-11-10.log', name='2013-11-10.log', size=1095755, modificationTime=1707502330000),\n FileInfo(path='dbfs:/FileStore/tables/logs/2013-11-11.log', name='2013-11-11.log', size=977765, modificationTime=1707502335000),\n FileInfo(path='dbfs:/FileStore/tables/logs/2013-11-12.log', name='2013-11-12.log', size=970149, modificationTime=1707502297000),\n FileInfo(path='dbfs:/FileStore/tables/logs/2013-11-13.log', name='2013-11-13.log', size=1039116, modificationTime=1707502307000),\n FileInfo(path='dbfs:/FileStore/tables/logs/2013-11-14.log', name='2013-11-14.log', size=1081771, modificationTime=1707502334000),\n FileInfo(path='dbfs:/FileStore/tables/logs/2013-11-15.log', name='2013-11-15.log', size=982380, modificationTime=1707502296000),\n FileInfo(path='dbfs:/FileStore/tables/logs/2013-11-16.log', name='2013-11-16.log', size=1009713, modificationTime=1707502309000),\n FileInfo(path='dbfs:/FileStore/tables/logs/2013-11-17.log', name='2013-11-17.log', size=1086494, modificationTime=1707502335000),\n FileInfo(path='dbfs:/FileStore/tables/logs/2013-11-18.log', name='2013-11-18.log', size=978348, modificationTime=1707502313000),\n FileInfo(path='dbfs:/FileStore/tables/logs/2013-11-19.log', name='2013-11-19.log', size=1083789, modificationTime=1707502336000),\n FileInfo(path='dbfs:/FileStore/tables/logs/2013-11-20.log', name='2013-11-20.log', size=1009470, modificationTime=1707502304000),\n FileInfo(path='dbfs:/FileStore/tables/logs/2013-11-21.log', name='2013-11-21.log', size=1057086, modificationTime=1707502325000),\n FileInfo(path='dbfs:/FileStore/tables/logs/2013-11-22.log', name='2013-11-22.log', size=975288, modificationTime=1707502324000),\n FileInfo(path='dbfs:/FileStore/tables/logs/2013-11-23.log', name='2013-11-23.log', size=1063118, modificationTime=1707502313000),\n FileInfo(path='dbfs:/FileStore/tables/logs/2013-11-24.log', name='2013-11-24.log', size=1048393, modificationTime=1707502303000),\n FileInfo(path='dbfs:/FileStore/tables/logs/2013-11-25.log', name='2013-11-25.log', size=974776, modificationTime=1707502294000),\n FileInfo(path='dbfs:/FileStore/tables/logs/2013-11-26.log', name='2013-11-26.log', size=962392, modificationTime=1707502294000),\n FileInfo(path='dbfs:/FileStore/tables/logs/2013-11-27.log', name='2013-11-27.log', size=976234, modificationTime=1707502323000),\n FileInfo(path='dbfs:/FileStore/tables/logs/2013-11-28.log', name='2013-11-28.log', size=976027, modificationTime=1707502309000),\n FileInfo(path='dbfs:/FileStore/tables/logs/2013-11-29.log', name='2013-11-29.log', size=1081953, modificationTime=1707502323000),\n FileInfo(path='dbfs:/FileStore/tables/logs/2013-11-30.log', name='2013-11-30.log', size=1006926, modificationTime=1707502297000),\n FileInfo(path='dbfs:/FileStore/tables/logs/2013-12-01.log', name='2013-12-01.log', size=1014795, modificationTime=1707502323000),\n FileInfo(path='dbfs:/FileStore/tables/logs/2013-12-02.log', name='2013-12-02.log', size=1093271, modificationTime=1707502310000),\n FileInfo(path='dbfs:/FileStore/tables/logs/2013-12-03.log', name='2013-12-03.log', size=1068328, modificationTime=1707502301000),\n FileInfo(path='dbfs:/FileStore/tables/logs/2013-12-04.log', name='2013-12-04.log', size=1070066, modificationTime=1707502330000),\n FileInfo(path='dbfs:/FileStore/tables/logs/2013-12-05.log', name='2013-12-05.log', size=1028342, modificationTime=1707502295000),\n FileInfo(path='dbfs:/FileStore/tables/logs/2013-12-06.log', name='2013-12-06.log', size=1031373, modificationTime=1707502317000),\n FileInfo(path='dbfs:/FileStore/tables/logs/2013-12-07.log', name='2013-12-07.log', size=1018063, modificationTime=1707502331000),\n FileInfo(path='dbfs:/FileStore/tables/logs/2013-12-08.log', name='2013-12-08.log', size=1039394, modificationTime=1707502324000),\n FileInfo(path='dbfs:/FileStore/tables/logs/2013-12-09.log', name='2013-12-09.log', size=1101053, modificationTime=1707502313000),\n FileInfo(path='dbfs:/FileStore/tables/logs/2013-12-10.log', name='2013-12-10.log', size=1009430, modificationTime=1707502312000),\n FileInfo(path='dbfs:/FileStore/tables/logs/2013-12-11.log', name='2013-12-11.log', size=1061891, modificationTime=1707502294000),\n FileInfo(path='dbfs:/FileStore/tables/logs/2013-12-12.log', name='2013-12-12.log', size=1030641, modificationTime=1707502296000),\n FileInfo(path='dbfs:/FileStore/tables/logs/2013-12-13.log', name='2013-12-13.log', size=1028946, modificationTime=1707502325000),\n FileInfo(path='dbfs:/FileStore/tables/logs/2013-12-14.log', name='2013-12-14.log', size=985819, modificationTime=1707502311000),\n FileInfo(path='dbfs:/FileStore/tables/logs/2013-12-15.log', name='2013-12-15.log', size=1080787, modificationTime=1707502332000),\n FileInfo(path='dbfs:/FileStore/tables/logs/2013-12-16.log', name='2013-12-16.log', size=1004498, modificationTime=1707502301000),\n FileInfo(path='dbfs:/FileStore/tables/logs/2013-12-17.log', name='2013-12-17.log', size=1078566, modificationTime=1707502300000),\n FileInfo(path='dbfs:/FileStore/tables/logs/2013-12-18.log', name='2013-12-18.log', size=1069630, modificationTime=1707502301000),\n FileInfo(path='dbfs:/FileStore/tables/logs/2013-12-19.log', name='2013-12-19.log', size=1050695, modificationTime=1707502326000),\n FileInfo(path='dbfs:/FileStore/tables/logs/2013-12-20.log', name='2013-12-20.log', size=1108042, modificationTime=1707502302000),\n FileInfo(path='dbfs:/FileStore/tables/logs/2013-12-21.log', name='2013-12-21.log', size=986692, modificationTime=1707502304000),\n FileInfo(path='dbfs:/FileStore/tables/logs/2013-12-22.log', name='2013-12-22.log', size=1045723, modificationTime=1707502321000),\n FileInfo(path='dbfs:/FileStore/tables/logs/2013-12-23.log', name='2013-12-23.log', size=990531, modificationTime=1707502310000),\n FileInfo(path='dbfs:/FileStore/tables/logs/2013-12-24.log', name='2013-12-24.log', size=1059352, modificationTime=1707502327000),\n FileInfo(path='dbfs:/FileStore/tables/logs/2013-12-25.log', name='2013-12-25.log', size=980457, modificationTime=1707502304000),\n FileInfo(path='dbfs:/FileStore/tables/logs/2013-12-26.log', name='2013-12-26.log', size=1054182, modificationTime=1707502312000),\n FileInfo(path='dbfs:/FileStore/tables/logs/2013-12-27.log', name='2013-12-27.log', size=1017134, modificationTime=1707502298000),\n FileInfo(path='dbfs:/FileStore/tables/logs/2013-12-28.log', name='2013-12-28.log', size=1064484, modificationTime=1707502316000),\n FileInfo(path='dbfs:/FileStore/tables/logs/2013-12-29.log', name='2013-12-29.log', size=1022151, modificationTime=1707502333000),\n FileInfo(path='dbfs:/FileStore/tables/logs/2013-12-30.log', name='2013-12-30.log', size=1070391, modificationTime=1707502311000),\n FileInfo(path='dbfs:/FileStore/tables/logs/2013-12-31.log', name='2013-12-31.log', size=992528, modificationTime=1707502314000),\n FileInfo(path='dbfs:/FileStore/tables/logs/2014-01-01.log', name='2014-01-01.log', size=1057534, modificationTime=1707502315000),\n FileInfo(path='dbfs:/FileStore/tables/logs/2014-01-02.log', name='2014-01-02.log', size=1053566, modificationTime=1707502300000),\n FileInfo(path='dbfs:/FileStore/tables/logs/2014-01-03.log', name='2014-01-03.log', size=981998, modificationTime=1707502337000),\n FileInfo(path='dbfs:/FileStore/tables/logs/2014-01-04.log', name='2014-01-04.log', size=1100898, modificationTime=1707502324000),\n FileInfo(path='dbfs:/FileStore/tables/logs/2014-01-05.log', name='2014-01-05.log', size=1012644, modificationTime=1707502315000),\n FileInfo(path='dbfs:/FileStore/tables/logs/2014-01-06.log', name='2014-01-06.log', size=1094868, modificationTime=1707502330000),\n FileInfo(path='dbfs:/FileStore/tables/logs/2014-01-07.log', name='2014-01-07.log', size=1094753, modificationTime=1707502299000),\n FileInfo(path='dbfs:/FileStore/tables/logs/2014-01-08.log', name='2014-01-08.log', size=1037422, modificationTime=1707502307000),\n FileInfo(path='dbfs:/FileStore/tables/logs/2014-01-09.log', name='2014-01-09.log', size=1032385, modificationTime=1707502331000),\n FileInfo(path='dbfs:/FileStore/tables/logs/2014-01-10.log', name='2014-01-10.log', size=977679, modificationTime=1707502332000),\n FileInfo(path='dbfs:/FileStore/tables/logs/2014-01-11.log', name='2014-01-11.log', size=993697, modificationTime=1707502321000),\n FileInfo(path='dbfs:/FileStore/tables/logs/2014-01-12.log', name='2014-01-12.log', size=1073307, modificationTime=1707502305000),\n FileInfo(path='dbfs:/FileStore/tables/logs/2014-01-13.log', name='2014-01-13.log', size=1048789, modificationTime=1707502310000),\n FileInfo(path='dbfs:/FileStore/tables/logs/2014-01-14.log', name='2014-01-14.log', size=1001350, modificationTime=1707502327000),\n FileInfo(path='dbfs:/FileStore/tables/logs/2014-01-15.log', name='2014-01-15.log', size=1048617, modificationTime=1707502319000),\n FileInfo(path='dbfs:/FileStore/tables/logs/2014-01-16.log', name='2014-01-16.log', size=996816, modificationTime=1707502299000),\n FileInfo(path='dbfs:/FileStore/tables/logs/2014-01-17.log', name='2014-01-17.log', size=1044827, modificationTime=1707502304000),\n FileInfo(path='dbfs:/FileStore/tables/logs/2014-01-18.log', name='2014-01-18.log', size=972872, modificationTime=1707502302000),\n FileInfo(path='dbfs:/FileStore/tables/logs/2014-01-19.log', name='2014-01-19.log', size=975136, modificationTime=1707502295000),\n FileInfo(path='dbfs:/FileStore/tables/logs/2014-01-20.log', name='2014-01-20.log', size=1020891, modificationTime=1707502305000),\n FileInfo(path='dbfs:/FileStore/tables/logs/2014-01-21.log', name='2014-01-21.log', size=1011424, modificationTime=1707502307000),\n FileInfo(path='dbfs:/FileStore/tables/logs/2014-01-22.log', name='2014-01-22.log', size=1109304, modificationTime=1707502315000),\n FileInfo(path='dbfs:/FileStore/tables/logs/2014-01-23.log', name='2014-01-23.log', size=976011, modificationTime=1707502325000),\n FileInfo(path='dbfs:/FileStore/tables/logs/2014-01-24.log', name='2014-01-24.log', size=1061764, modificationTime=1707502315000),\n FileInfo(path='dbfs:/FileStore/tables/logs/2014-01-25.log', name='2014-01-25.log', size=1072204, modificationTime=1707502308000),\n FileInfo(path='dbfs:/FileStore/tables/logs/2014-01-26.log', name='2014-01-26.log', size=1065979, modificationTime=1707502328000),\n FileInfo(path='dbfs:/FileStore/tables/logs/2014-01-27.log', name='2014-01-27.log', size=1096363, modificationTime=1707502320000),\n FileInfo(path='dbfs:/FileStore/tables/logs/2014-01-28.log', name='2014-01-28.log', size=1083865, modificationTime=1707502329000),\n FileInfo(path='dbfs:/FileStore/tables/logs/2014-01-29.log', name='2014-01-29.log', size=1012968, modificationTime=1707502308000),\n FileInfo(path='dbfs:/FileStore/tables/logs/2014-01-30.log', name='2014-01-30.log', size=1081064, modificationTime=1707502333000),\n FileInfo(path='dbfs:/FileStore/tables/logs/2014-01-31.log', name='2014-01-31.log', size=1101529, modificationTime=1707502316000),\n FileInfo(path='dbfs:/FileStore/tables/logs/2014-02-01.log', name='2014-02-01.log', size=1053099, modificationTime=1707502334000),\n FileInfo(path='dbfs:/FileStore/tables/logs/2014-02-02.log', name='2014-02-02.log', size=1067044, modificationTime=1707502314000),\n FileInfo(path='dbfs:/FileStore/tables/logs/2014-02-03.log', name='2014-02-03.log', size=1003003, modificationTime=1707502310000),\n FileInfo(path='dbfs:/FileStore/tables/logs/2014-02-04.log', name='2014-02-04.log', size=1017259, modificationTime=1707502297000),\n FileInfo(path='dbfs:/FileStore/tables/logs/2014-02-05.log', name='2014-02-05.log', size=1005783, modificationTime=1707502302000),\n FileInfo(path='dbfs:/FileStore/tables/logs/2014-02-06.log', name='2014-02-06.log', size=1065257, modificationTime=1707502328000),\n FileInfo(path='dbfs:/FileStore/tables/logs/2014-02-07.log', name='2014-02-07.log', size=996107, modificationTime=1707502332000),\n FileInfo(path='dbfs:/FileStore/tables/logs/2014-02-08.log', name='2014-02-08.log', size=1035289, modificationTime=1707502326000),\n FileInfo(path='dbfs:/FileStore/tables/logs/2014-02-09.log', name='2014-02-09.log', size=1065078, modificationTime=1707502334000),\n FileInfo(path='dbfs:/FileStore/tables/logs/2014-02-10.log', name='2014-02-10.log', size=1044403, modificationTime=1707502319000),\n FileInfo(path='dbfs:/FileStore/tables/logs/2014-02-11.log', name='2014-02-11.log', size=1057235, modificationTime=1707502327000),\n FileInfo(path='dbfs:/FileStore/tables/logs/2014-02-12.log', name='2014-02-12.log', size=1091711, modificationTime=1707502306000),\n FileInfo(path='dbfs:/FileStore/tables/logs/2014-02-13.log', name='2014-02-13.log', size=1096726, modificationTime=1707502305000),\n FileInfo(path='dbfs:/FileStore/tables/logs/2014-02-14.log', name='2014-02-14.log', size=1072065, modificationTime=1707502336000),\n FileInfo(path='dbfs:/FileStore/tables/logs/2014-02-15.log', name='2014-02-15.log', size=1010563, modificationTime=1707502318000),\n FileInfo(path='dbfs:/FileStore/tables/logs/2014-02-16.log', name='2014-02-16.log', size=1056078, modificationTime=1707502313000),\n FileInfo(path='dbfs:/FileStore/tables/logs/2014-02-17.log', name='2014-02-17.log', size=994481, modificationTime=1707502314000),\n FileInfo(path='dbfs:/FileStore/tables/logs/2014-02-18.log', name='2014-02-18.log', size=1019882, modificationTime=1707502322000),\n FileInfo(path='dbfs:/FileStore/tables/logs/2014-02-19.log', name='2014-02-19.log', size=992774, modificationTime=1707502332000),\n FileInfo(path='dbfs:/FileStore/tables/logs/2014-02-20.log', name='2014-02-20.log', size=992721, modificationTime=1707502306000),\n FileInfo(path='dbfs:/FileStore/tables/logs/2014-02-21.log', name='2014-02-21.log', size=1024612, modificationTime=1707502306000),\n FileInfo(path='dbfs:/FileStore/tables/logs/2014-02-22.log', name='2014-02-22.log', size=1060506, modificationTime=1707502297000),\n FileInfo(path='dbfs:/FileStore/tables/logs/2014-02-23.log', name='2014-02-23.log', size=1017947, modificationTime=1707502326000),\n FileInfo(path='dbfs:/FileStore/tables/logs/2014-02-24.log', name='2014-02-24.log', size=1104389, modificationTime=1707502323000),\n FileInfo(path='dbfs:/FileStore/tables/logs/2014-02-25.log', name='2014-02-25.log', size=1018667, modificationTime=1707502316000),\n FileInfo(path='dbfs:/FileStore/tables/logs/2014-02-26.log', name='2014-02-26.log', size=1076821, modificationTime=1707502321000),\n FileInfo(path='dbfs:/FileStore/tables/logs/2014-02-27.log', name='2014-02-27.log', size=1090745, modificationTime=1707502313000),\n FileInfo(path='dbfs:/FileStore/tables/logs/2014-02-28.log', name='2014-02-28.log', size=975382, modificationTime=1707502320000),\n FileInfo(path='dbfs:/FileStore/tables/logs/2014-03-01.log', name='2014-03-01.log', size=1004630, modificationTime=1707502323000),\n FileInfo(path='dbfs:/FileStore/tables/logs/2014-03-02.log', name='2014-03-02.log', size=1005688, modificationTime=1707502331000),\n FileInfo(path='dbfs:/FileStore/tables/logs/2014-03-03.log', name='2014-03-03.log', size=981270, modificationTime=1707502319000),\n FileInfo(path='dbfs:/FileStore/tables/logs/2014-03-04.log', name='2014-03-04.log', size=968023, modificationTime=1707502303000),\n FileInfo(path='dbfs:/FileStore/tables/logs/2014-03-05.log', name='2014-03-05.log', size=1006960, modificationTime=1707502317000),\n FileInfo(path='dbfs:/FileStore/tables/logs/2014-03-06.log', name='2014-03-06.log', size=1014931, modificationTime=1707502304000),\n FileInfo(path='dbfs:/FileStore/tables/logs/2014-03-07.log', name='2014-03-07.log', size=1103088, modificationTime=1707502298000),\n FileInfo(path='dbfs:/FileStore/tables/logs/2014-03-08.log', name='2014-03-08.log', size=1001566, modificationTime=1707502335000),\n FileInfo(path='dbfs:/FileStore/tables/logs/2014-03-09.log', name='2014-03-09.log', size=995517, modificationTime=1707502298000),\n FileInfo(path='dbfs:/FileStore/tables/logs/2014-03-10.log', name='2014-03-10.log', size=1091560, modificationTime=1707502319000),\n FileInfo(path='dbfs:/FileStore/tables/logs/2014-03-11.log', name='2014-03-11.log', size=1038692, modificationTime=1707502303000),\n FileInfo(path='dbfs:/FileStore/tables/logs/2014-03-12.log', name='2014-03-12.log', size=1047117, modificationTime=1707502303000),\n FileInfo(path='dbfs:/FileStore/tables/logs/2014-03-13.log', name='2014-03-13.log', size=997473, modificationTime=1707502309000),\n FileInfo(path='dbfs:/FileStore/tables/logs/2014-03-14.log', name='2014-03-14.log', size=994147, modificationTime=1707502299000),\n FileInfo(path='dbfs:/FileStore/tables/logs/2014-03-15.log', name='2014-03-15.log', size=1074872, modificationTime=1707502330000)]"
     ]
    }
   ],
   "source": [
    "dbutils.fs.ls('/FileStore/tables/logs')"
   ]
  },
  {
   "cell_type": "code",
   "execution_count": 0,
   "metadata": {
    "application/vnd.databricks.v1+cell": {
     "cellMetadata": {
      "byteLimit": 2048000,
      "rowLimit": 10000
     },
     "inputWidgets": {},
     "nuid": "a42339d0-914b-48e9-aa9c-1967b5bd1385",
     "showTitle": false,
     "title": ""
    }
   },
   "outputs": [
    {
     "output_type": "stream",
     "name": "stdout",
     "output_type": "stream",
     "text": [
      "[Truncated to first 65536 bytes]\nOut[53]: '3.94.78.5 - 69827 [15/Sep/2013:23:58:36 +0100] \"GET /KBDOC-00033.html HTTP/1.0\" 200 14417 \"http://www.loudacre.com\"  \"Loudacre Mobile Browser iFruit 1\"\\n3.94.78.5 - 69827 [15/Sep/2013:23:58:36 +0100] \"GET /theme.css HTTP/1.0\" 200 3576 \"http://www.loudacre.com\"  \"Loudacre Mobile Browser iFruit 1\"\\n19.38.140.62 - 21475 [15/Sep/2013:23:58:34 +0100] \"GET /KBDOC-00277.html HTTP/1.0\" 200 15517 \"http://www.loudacre.com\"  \"Loudacre Mobile Browser Ronin S1\"\\n19.38.140.62 - 21475 [15/Sep/2013:23:58:34 +0100] \"GET /theme.css HTTP/1.0\" 200 13353 \"http://www.loudacre.com\"  \"Loudacre Mobile Browser Ronin S1\"\\n129.133.56.105 - 2489 [15/Sep/2013:23:58:34 +0100] \"GET /KBDOC-00033.html HTTP/1.0\" 200 10590 \"http://www.loudacre.com\"  \"Loudacre Mobile Browser Sorrento F00L\"\\n129.133.56.105 - 2489 [15/Sep/2013:23:58:34 +0100] \"GET /theme.css HTTP/1.0\" 200 12295 \"http://www.loudacre.com\"  \"Loudacre Mobile Browser Sorrento F00L\"\\n217.150.149.167 - 4712 [15/Sep/2013:23:56:06 +0100] \"GET /ronin_s4_sales.html HTTP/1.0\" 200 845 \"http://www.loudacre.com\"  \"Loudacre Mobile Browser MeeToo 1.0\"\\n217.150.149.167 - 4712 [15/Sep/2013:23:56:06 +0100] \"GET /theme.css HTTP/1.0\" 200 738 \"http://www.loudacre.com\"  \"Loudacre Mobile Browser MeeToo 1.0\"\\n217.150.149.167 - 4712 [15/Sep/2013:23:56:06 +0100] \"GET /code.js HTTP/1.0\" 200 938 \"http://www.loudacre.com\"  \"Loudacre Mobile Browser MeeToo 1.0\"\\n217.150.149.167 - 4712 [15/Sep/2013:23:56:06 +0100] \"GET /ronin_s4.jpg HTTP/1.0\" 200 5552 \"http://www.loudacre.com\"  \"Loudacre Mobile Browser MeeToo 1.0\"\\n209.151.12.34 - 45922 [15/Sep/2013:23:55:09 +0100] \"GET /KBDOC-00259.html HTTP/1.0\" 200 19362 \"http://www.loudacre.com\"  \"Loudacre Mobile Browser Sorrento F11L\"\\n209.151.12.34 - 45922 [15/Sep/2013:23:55:09 +0100] \"GET /theme.css HTTP/1.0\" 200 17795 \"http://www.loudacre.com\"  \"Loudacre Mobile Browser Sorrento F11L\"\\n184.97.84.245 - 144 [15/Sep/2013:23:54:55 +0100] \"GET /KBDOC-00052.html HTTP/1.0\" 200 12499 \"http://www.loudacre.com\"  \"Loudacre CSR Browser\"\\n184.97.84.245 - 144 [15/Sep/2013:23:54:55 +0100] \"GET /theme.css HTTP/1.0\" 200 4979 \"http://www.loudacre.com\"  \"Loudacre CSR Browser\"\\n233.60.251.2 - 33908 [15/Sep/2013:23:51:43 +0100] \"GET /KBDOC-00292.html HTTP/1.0\" 200 4779 \"http://www.loudacre.com\"  \"Loudacre Mobile Browser Ronin S2\"\\n233.60.251.2 - 33908 [15/Sep/2013:23:51:43 +0100] \"GET /theme.css HTTP/1.0\" 200 15871 \"http://www.loudacre.com\"  \"Loudacre Mobile Browser Ronin S2\"\\n160.134.139.204 - 51340 [15/Sep/2013:23:50:11 +0100] \"GET /KBDOC-00016.html HTTP/1.0\" 200 1156 \"http://www.loudacre.com\"  \"Loudacre Mobile Browser MeeToo 3.0\"\\n160.134.139.204 - 51340 [15/Sep/2013:23:50:11 +0100] \"GET /theme.css HTTP/1.0\" 200 13083 \"http://www.loudacre.com\"  \"Loudacre Mobile Browser MeeToo 3.0\"\\n19.209.18.222 - 13392 [15/Sep/2013:23:48:48 +0100] \"GET /KBDOC-00083.html HTTP/1.0\" 200 4398 \"http://www.loudacre.com\"  \"Loudacre Mobile Browser Titanic 2200\"\\n19.209.18.222 - 13392 [15/Sep/2013:23:48:48 +0100] \"GET /theme.css HTTP/1.0\" 200 4054 \"http://www.loudacre.com\"  \"Loudacre Mobile Browser Titanic 2200\"\\n230.220.223.28 - 12643 [15/Sep/2013:23:48:42 +0100] \"GET /KBDOC-00135.html HTTP/1.0\" 200 1063 \"http://www.loudacre.com\"  \"Loudacre Mobile Browser Sorrento F20L\"\\n230.220.223.28 - 12643 [15/Sep/2013:23:48:42 +0100] \"GET /theme.css HTTP/1.0\" 200 16864 \"http://www.loudacre.com\"  \"Loudacre Mobile Browser Sorrento F20L\"\\n129.253.238.61 - 120 [15/Sep/2013:23:48:35 +0100] \"GET /KBDOC-00053.html HTTP/1.0\" 200 7108 \"http://www.loudacre.com\"  \"Loudacre CSR Browser\"\\n129.253.238.61 - 120 [15/Sep/2013:23:48:35 +0100] \"GET /theme.css HTTP/1.0\" 200 19169 \"http://www.loudacre.com\"  \"Loudacre CSR Browser\"\\n119.182.134.196 - 46 [15/Sep/2013:23:47:43 +0100] \"GET /KBDOC-00186.html HTTP/1.0\" 200 10799 \"http://www.loudacre.com\"  \"Loudacre CSR Browser\"\\n119.182.134.196 - 46 [15/Sep/2013:23:47:43 +0100] \"GET /theme.css HTTP/1.0\" 200 19171 \"http://www.loudacre.com\"  \"Loudacre CSR Browser\"\\n118.38.214.28 - 45 [15/Sep/2013:23:47:07 +0100] \"GET /KBDOC-00028.html HTTP/1.0\" 200 713 \"http://www.loudacre.com\"  \"Loudacre CSR Browser\"\\n118.38.214.28 - 45 [15/Sep/2013:23:47:07 +0100] \"GET /theme.css HTTP/1.0\" 200 472 \"http://www.loudacre.com\"  \"Loudacre CSR Browser\"\\n206.97.149.242 - 37531 [15/Sep/2013:23:43:35 +0100] \"GET /KBDOC-00231.html HTTP/1.0\" 200 18392 \"http://www.loudacre.com\"  \"Loudacre Mobile Browser Ronin Novelty Note 1\"\\n206.97.149.242 - 37531 [15/Sep/2013:23:43:35 +0100] \"GET /theme.css HTTP/1.0\" 200 14673 \"http://www.loudacre.com\"  \"Loudacre Mobile Browser Ronin Novelty Note 1\"\\n143.41.104.110 - 65379 [15/Sep/2013:23:43:15 +0100] \"GET /KBDOC-00006.html HTTP/1.0\" 200 15085 \"http://www.loudacre.com\"  \"Loudacre Mobile Browser Sorrento F00L\"\\n143.41.104.110 - 65379 [15/Sep/2013:23:43:15 +0100] \"GET /theme.css HTTP/1.0\" 200 6995 \"http://www.loudacre.com\"  \"Loudacre Mobile Browser Sorrento F00L\"\\n104.184.210.93 - 28402 [15/Sep/2013:23:42:53 +0100] \"GET /titanic_2200_sales.html HTTP/1.0\" 200 18165 \"http://www.loudacre.com\"  \"Loudacre Mobile Browser MeeToo 2.0\"\\n104.184.210.93 - 28402 [15/Sep/2013:23:42:53 +0100] \"GET /theme.css HTTP/1.0\" 200 14186 \"http://www.loudacre.com\"  \"Loudacre Mobile Browser MeeToo 2.0\"\\n104.184.210.93 - 28402 [15/Sep/2013:23:42:53 +0100] \"GET /code.js HTTP/1.0\" 200 10792 \"http://www.loudacre.com\"  \"Loudacre Mobile Browser MeeToo 2.0\"\\n104.184.210.93 - 28402 [15/Sep/2013:23:42:53 +0100] \"GET /titanic_2200.jpg HTTP/1.0\" 200 19466 \"http://www.loudacre.com\"  \"Loudacre Mobile Browser MeeToo 2.0\"\\n37.91.137.134 - 36171 [15/Sep/2013:23:39:33 +0100] \"GET /ronin_novelty_note_3_sales.html HTTP/1.0\" 200 13756 \"http://www.loudacre.com\"  \"Loudacre Mobile Browser iFruit 3\"\\n37.91.137.134 - 36171 [15/Sep/2013:23:39:33 +0100] \"GET /theme.css HTTP/1.0\" 200 6412 \"http://www.loudacre.com\"  \"Loudacre Mobile Browser iFruit 3\"\\n37.91.137.134 - 36171 [15/Sep/2013:23:39:33 +0100] \"GET /code.js HTTP/1.0\" 200 7796 \"http://www.loudacre.com\"  \"Loudacre Mobile Browser iFruit 3\"\\n37.91.137.134 - 36171 [15/Sep/2013:23:39:33 +0100] \"GET /ronin_novelty_note_3.jpg HTTP/1.0\" 200 7432 \"http://www.loudacre.com\"  \"Loudacre Mobile Browser iFruit 3\"\\n198.195.16.140 - 23577 [15/Sep/2013:23:38:54 +0100] \"GET /KBDOC-00195.html HTTP/1.0\" 200 15574 \"http://www.loudacre.com\"  \"Loudacre Mobile Browser MeeToo 2.0\"\\n198.195.16.140 - 23577 [15/Sep/2013:23:38:54 +0100] \"GET /theme.css HTTP/1.0\" 200 5763 \"http://www.loudacre.com\"  \"Loudacre Mobile Browser MeeToo 2.0\"\\n93.209.179.64 - 122 [15/Sep/2013:23:37:59 +0100] \"GET /KBDOC-00018.html HTTP/1.0\" 200 10446 \"http://www.loudacre.com\"  \"Loudacre CSR Browser\"\\n93.209.179.64 - 122 [15/Sep/2013:23:37:59 +0100] \"GET /theme.css HTTP/1.0\" 200 16671 \"http://www.loudacre.com\"  \"Loudacre CSR Browser\"\\n50.154.202.127 - 120 [15/Sep/2013:23:36:09 +0100] \"GET /KBDOC-00183.html HTTP/1.0\" 200 12124 \"http://www.loudacre.com\"  \"Loudacre CSR Browser\"\\n50.154.202.127 - 120 [15/Sep/2013:23:36:09 +0100] \"GET /theme.css HTTP/1.0\" 200 8852 \"http://www.loudacre.com\"  \"Loudacre CSR Browser\"\\n126.56.30.140 - 65372 [15/Sep/2013:23:34:34 +0100] \"GET /KBDOC-00077.html HTTP/1.0\" 200 19855 \"http://www.loudacre.com\"  \"Loudacre Mobile Browser Sorrento F23L\"\\n126.56.30.140 - 65372 [15/Sep/2013:23:34:34 +0100] \"GET /theme.css HTTP/1.0\" 200 7680 \"http://www.loudacre.com\"  \"Loudacre Mobile Browser Sorrento F23L\"\\n130.2.36.64 - 63 [15/Sep/2013:23:33:08 +0100] \"GET /KBDOC-00195.html HTTP/1.0\" 200 16963 \"http://www.loudacre.com\"  \"Loudacre CSR Browser\"\\n130.2.36.64 - 63 [15/Sep/2013:23:33:08 +0100] \"GET /theme.css HTTP/1.0\" 200 2862 \"http://www.loudacre.com\"  \"Loudacre CSR Browser\"\\n177.43.223.203 - 90653 [15/Sep/2013:23:31:17 +0100] \"GET /ifruit_3_sales.html HTTP/1.0\" 200 16102 \"http://www.loudacre.com\"  \"Loudacre Mobile Browser Sorrento F31L\"\\n177.43.223.203 - 90653 [15/Sep/2013:23:31:17 +0100] \"GET /theme.css HTTP/1.0\" 200 5053 \"http://www.loudacre.com\"  \"Loudacre Mobile Browser Sorrento F31L\"\\n177.43.223.203 - 90653 [15/Sep/2013:23:31:17 +0100] \"GET /code.js HTTP/1.0\" 200 7256 \"http://www.loudacre.com\"  \"Loudacre Mobile Browser Sorrento F31L\"\\n177.43.223.203 - 90653 [15/Sep/2013:23:31:17 +0100] \"GET /ifruit_3.jpg HTTP/1.0\" 200 19578 \"http://www.loudacre.com\"  \"Loudacre Mobile Browser Sorrento F31L\"\\n19.250.65.76 - 44388 [15/Sep/2013:23:31:10 +0100] \"GET /sorrento_f24l_sales.html HTTP/1.0\" 200 4465 \"http://www.loudacre.com\"  \"Loudacre Mobile Browser iFruit 3A\"\\n19.250.65.76 - 44388 [15/Sep/2013:23:31:10 +0100] \"GET /theme.css HTTP/1.0\" 200 17994 \"http://www.loudacre.com\"  \"Loudacre Mobile Browser iFruit 3A\"\\n19.250.65.76 - 44388 [15/Sep/2013:23:31:10 +0100] \"GET /code.js HTTP/1.0\" 200 7985 \"http://www.loudacre.com\"  \"Loudacre Mobile Browser iFruit 3A\"\\n19.250.65.76 - 44388 [15/Sep/2013:23:31:10 +0100] \"GET /sorrento_f24l.jpg HTTP/1.0\" 200 5730 \"http://www.loudacre.com\"  \"Loudacre Mobile Browser iFruit 3A\"\\n190.127.207.89 - 5080 [15/Sep/2013:23:29:11 +0100] \"GET /KBDOC-00005.html HTTP/1.0\" 200 16568 \"http://www.loudacre.com\"  \"Loudacre Mobile Browser Sorrento F00L\"\\n190.127.207.89 - 5080 [15/Sep/2013:23:29:11 +0100] \"GET /theme.css HTTP/1.0\" 200 5575 \"http://www.loudacre.com\"  \"Loudacre Mobile Browser Sorrento F00L\"\\n201.144.125.182 - 197 [15/Sep/2013:23:26:56 +0100] \"GET /KBDOC-00113.html HTTP/1.0\" 200 13724 \"http://www.loudacre.com\"  \"Loudacre CSR Browser\"\\n201.144.125.182 - 197 [15/Sep/2013:23:26:56 +0100] \"GET /theme.css HTTP/1.0\" 200 7099 \"http://www.loudacre.com\"  \"Loudacre CSR Browser\"\\n85.151.118.58 - 184 [15/Sep/2013:23:25:54 +0100] \"GET /KBDOC-00057.html HTTP/1.0\" 200 4590 \"http://www.loudacre.com\"  \"Loudacre CSR Browser\"\\n85.151.118.58 - 184 [15/Sep/2013:23:25:54 +0100] \"GET /theme.css HTTP/1.0\" 200 6192 \"http://www.loudacre.com\"  \"Loudacre CSR Browser\"\\n56.2.93.164 - 5601 [15/Sep/2013:23:25:03 +0100] \"GET /KBDOC-00261.html HTTP/1.0\" 200 3677 \"http://www.loudacre.com\"  \"Loudacre Mobile Browser Sorrento F11L\"\\n56.2.93.164 - 5601 [15/Sep/2013:23:25:03 +0100] \"GET /theme.css HTTP/1.0\" 200 3150 \"http://www.loudacre.com\"  \"Loudacre Mobile Browser Sorrento F11L\"\\n206.205.155.227 - 4064 [15/Sep/2013:23:24:10 +0100] \"GET /KBDOC-00159.html HTTP/1.0\" 200 407 \"http://www.loudacre.com\"  \"Loudacre Mobile Browser Sorrento F10L\"\\n206.205.155.227 - 4064 [15/Sep/2013:23:24:10 +0100] \"GET /theme.css HTTP/1.0\" 200 13245 \"http://www.loudacre.com\"  \"Loudacre Mobile Browser Sorrento F10L\"\\n117.12.150.183 - 86709 [15/Sep/2013:23:18:57 +0100] \"GET /KBDOC-00215.html HTTP/1.0\" 200 16465 \"http://www.loudacre.com\"  \"Loudacre Mobile Browser MeeToo 5.1\"\\n117.12.150.183 - 86709 [15/Sep/2013:23:18:57 +0100] \"GET /theme.css HTTP/1.0\" 200 14863 \"http://www.loudacre.com\"  \"Loudacre Mobile Browser MeeToo 5.1\"\\n194.100.191.30 - 174 [15/Sep/2013:23:18:07 +0100] \"GET /KBDOC-00063.html HTTP/1.0\" 200 5320 \"http://www.loudacre.com\"  \"Loudacre CSR Browser\"\\n194.100.191.30 - 174 [15/Sep/2013:23:18:07 +0100] \"GET /theme.css HTTP/1.0\" 200 6582 \"http://www.loudacre.com\"  \"Loudacre CSR Browser\"\\n87.230.20.33 - 158 [15/Sep/2013:23:17:46 +0100] \"GET /KBDOC-00083.html HTTP/1.0\" 200 3325 \"http://www.loudacre.com\"  \"Loudacre CSR Browser\"\\n87.230.20.33 - 158 [15/Sep/2013:23:17:46 +0100] \"GET /theme.css HTTP/1.0\" 200 1504 \"http://www.loudacre.com\"  \"Loudacre CSR Browser\"\\n235.235.222.168 - 195 [15/Sep/2013:23:17:19 +0100] \"GET /KBDOC-00051.html HTTP/1.0\" 200 9939 \"http://www.loudacre.com\"  \"Loudacre CSR Browser\"\\n235.235.222.168 - 195 [15/Sep/2013:23:17:19 +0100] \"GET /theme.css HTTP/1.0\" 200 17497 \"http://www.loudacre.com\"  \"Loudacre CSR Browser\"\\n6.28.47.115 - 5141 [15/Sep/2013:23:17:05 +0100] \"GET /KBDOC-00097.html HTTP/1.0\" 200 15765 \"http://www.loudacre.com\"  \"Loudacre Mobile Browser iFruit 1\"\\n6.28.47.115 - 5141 [15/Sep/2013:23:17:05 +0100] \"GET /theme.css HTTP/1.0\" 200 7700 \"http://www.loudacre.com\"  \"Loudacre Mobile Browser iFruit 1\"\\n20.24.227.193 - 57173 [15/Sep/2013:23:16:15 +0100] \"GET /KBDOC-00095.html HTTP/1.0\" 200 11625 \"http://www.loudacre.com\"  \"Loudacre Mobile Browser Sorrento F00L\"\\n20.24.227.193 - 57173 [15/Sep/2013:23:16:15 +0100] \"GET /theme.css HTTP/1.0\" 200 19752 \"http://www.loudacre.com\"  \"Loudacre Mobile Browser Sorrento F00L\"\\n182.71.74.6 - 65241 [15/Sep/2013:23:15:08 +0100] \"GET /KBDOC-00267.html HTTP/1.0\" 200 7050 \"http://www.loudacre.com\"  \"Loudacre Mobile Browser Titanic 2400\"\\n182.71.74.6 - 65241 [15/Sep/2013:23:15:08 +0100] \"GET /theme.css HTTP/1.0\" 200 16248 \"http://www.loudacre.com\"  \"Loudacre Mobile Browser Titanic 2400\"\\n134.72.143.150 - 24554 [15/Sep/2013:23:13:42 +0100] \"GET /sorrento_f24l_sales.html HTTP/1.0\" 200 12631 \"http://www.loudacre.com\"  \"Loudacre Mobile Browser iFruit 1\"\\n134.72.143.150 - 24554 [15/Sep/2013:23:13:42 +0100] \"GET /theme.css HTTP/1.0\" 200 3421 \"http://www.loudacre.com\"  \"Loudacre Mobile Browser iFruit 1\"\\n134.72.143.150 - 24554 [15/Sep/2013:23:13:42 +0100] \"GET /code.js HTTP/1.0\" 200 1872 \"http://www.loudacre.com\"  \"Loudacre Mobile Browser iFruit 1\"\\n134.72.143.150 - 24554 [15/Sep/2013:23:13:42 +0100] \"GET /sorrento_f24l.jpg HTTP/1.0\" 200 703 \"http://www.loudacre.com\"  \"Loudacre Mobile Browser iFruit 1\"\\n165.98.110.144 - 22513 [15/Sep/2013:23:13:15 +0100] \"GET /KBDOC-00124.html HTTP/1.0\" 200 5821 \"http://www.loudacre.com\"  \"Loudacre Mobile Browser Titanic 1000\"\\n165.98.110.144 - 22513 [15/Sep/2013:23:13:15 +0100] \"GET /theme.css HTTP/1.0\" 200 9580 \"http://www.loudacre.com\"  \"Loudacre Mobile Browser Titanic 1000\"\\n101.118.177.248 - 12203 [15/Sep/2013:23:12:50 +0100] \"GET /KBDOC-00054.html HTTP/1.0\" 200 6787 \"http://www.loudacre.com\"  \"Loudacre Mobile Browser Titanic 1000\"\\n101.118.177.248 - 12203 [15/Sep/2013:23:12:50 +0100] \"GET /theme.css HTTP/1.0\" 200 18497 \"http://www.loudacre.com\"  \"Loudacre Mobile Browser Titanic 1000\"\\n131.48.125.4 - 32312 [15/Sep/2013:23:12:20 +0100] \"GET /KBDOC-00222.html HTTP/1.0\" 200 18601 \"http://www.loudacre.com\"  \"Loudacre Mobile Browser Titanic 3000\"\\n131.48.125.4 - 32312 [15/Sep/2013:23:12:20 +0100] \"GET /theme.css HTTP/1.0\" 200 750 \"http://www.loudacre.com\"  \"Loudacre Mobile Browser Titanic 3000\"\\n48.202.252.134 - 24990 [15/Sep/2013:23:12:00 +0100] \"GET /ifruit_3a_sales.html HTTP/1.0\" 200 16016 \"http://www.loudacre.com\"  \"Loudacre Mobile Browser Titanic 2000\"\\n48.202.252.134 - 24990 [15/Sep/2013:23:12:00 +0100] \"GET /theme.css HTTP/1.0\" 200 11987 \"http://www.loudacre.com\"  \"Loudacre Mobile Browser Titanic 2000\"\\n48.202.252.134 - 24990 [15/Sep/2013:23:12:00 +0100] \"GET /code.js HTTP/1.0\" 200 9264 \"http://www.loudacre.com\"  \"Loudacre Mobile Browser Titanic 2000\"\\n48.202.252.134 - 24990 [15/Sep/2013:23:12:00 +0100] \"GET /ifruit_3a.jpg HTTP/1.0\" 200 1730 \"http://www.loudacre.com\"  \"Loudacre Mobile Browser Titanic 2000\"\\n185.137.13.249 - 63335 [15/Sep/2013:23:11:02 +0100] \"GET /KBDOC-00074.html HTTP/1.0\" 200 7591 \"http://www.loudacre.com\"  \"Loudacre Mobile Browser Sorrento F23L\"\\n185.137.13.249 - 63335 [15/Sep/2013:23:11:02 +0100] \"GET /theme.css HTTP/1.0\" 200 12750 \"http://www.loudacre.com\"  \"Loudacre Mobile Browser Sorrento F23L\"\\n222.225.254.74 - 81 [15/Sep/2013:23:09:53 +0100] \"GET /KBDOC-00197.html HTTP/1.0\" 200 2078 \"http://www.loudacre.com\"  \"Loudacre CSR Browser\"\\n222.225.254.74 - 81 [15/Sep/2013:23:09:53 +0100] \"GET /theme.css HTTP/1.0\" 200 1701 \"http://www.loudacre.com\"  \"Loudacre CSR Browser\"\\n214.171.1.4 - 9 [15/Sep/2013:23:09:31 +0100] \"GET /KBDOC-00101.html HTTP/1.0\" 200 18159 \"http://www.loudacre.com\"  \"Loudacre CSR Browser\"\\n214.171.1.4 - 9 [15/Sep/2013:23:09:31 +0100] \"GET /theme.css HTTP/1.0\" 200 19474 \"http://www.loudacre.com\"  \"Loudacre CSR Browser\"\\n231.227.90.148 - 24476 [15/Sep/2013:23:09:27 +0100] \"GET /KBDOC-00002.html HTTP/1.0\" 200 18059 \"http://www.loudacre.com\"  \"Loudacre Mobile Browser Sorrento F00L\"\\n231.227.90.148 - 24476 [15/Sep/2013:23:09:27 +0100] \"GET /theme.css HTTP/1.0\" 200 14069 \"http://www.loudacre.com\"  \"Loudacre Mobile Browser Sorrento F00L\"\\n135.122.102.105 - 61 [15/Sep/2013:23:06:29 +0100] \"GET /KBDOC-00051.html HTTP/1.0\" 200 7400 \"http://www.loudacre.com\"  \"Loudacre CSR Browser\"\\n135.122.102.105 - 61 [15/Sep/2013:23:06:29 +0100] \"GET /theme.css HTTP/1.0\" 200 18128 \"http://www.loudacre.com\"  \"Loudacre CSR Browser\"\\n100.30.199.161 - 9834 [15/Sep/2013:23:06:14 +0100] \"GET /sorrento_f40l_sales.html HTTP/1.0\" 200 15565 \"http://www.loudacre.com\"  \"Loudacre Mobile Browser iFruit 1\"\\n100.30.199.161 - 9834 [15/Sep/2013:23:06:14 +0100] \"GET /theme.css HTTP/1.0\" 200 6383 \"http://www.loudacre.com\"  \"Loudacre Mobile Browser iFruit 1\"\\n100.30.199.161 - 9834 [15/Sep/2013:23:06:14 +0100] \"GET /code.js HTTP/1.0\" 200 3371 \"http://www.loudacre.com\"  \"Loudacre Mobile Browser iFruit 1\"\\n100.30.199.161 - 9834 [15/Sep/2013:23:06:14 +0100] \"GET /sorrento_f40l.jpg HTTP/1.0\" 200 15995 \"http://www.loudacre.com\"  \"Loudacre Mobile Browser iFruit 1\"\\n133.239.121.2 - 64195 [15/Sep/2013:23:05:03 +0100] \"GET /KBDOC-00148.html HTTP/1.0\" 200 1302 \"http://www.loudacre.com\"  \"Loudacre Mobile Browser Sorrento F22L\"\\n133.239.121.2 - 64195 [15/Sep/2013:23:05:03 +0100] \"GET /theme.css HTTP/1.0\" 200 15489 \"http://www.loudacre.com\"  \"Loudacre Mobile Browser Sorrento F22L\"\\n57.3.163.130 - 16698 [15/Sep/2013:23:04:16 +0100] \"GET /KBDOC-00029.html HTTP/1.0\" 200 18426 \"http://www.loudacre.com\"  \"Loudacre Mobile Browser iFruit 1\"\\n57.3.163.130 - 16698 [15/Sep/2013:23:04:16 +0100] \"GET /theme.css HTTP/1.0\" 200 3816 \"http://www.loudacre.com\"  \"Loudacre Mobile Browser iFruit 1\"\\n58.46.139.19 - 10399 [15/Sep/2013:23:03:16 +0100] \"GET /ronin_novelty_note_3_sales.html HTTP/1.0\" 200 4375 \"http://www.loudacre.com\"  \"Loudacre Mobile Browser Titanic 1100\"\\n58.46.139.19 - 10399 [15/Sep/2013:23:03:16 +0100] \"GET /theme.css HTTP/1.0\" 200 1128 \"http://www.loudacre.com\"  \"Loudacre Mobile Browser Titanic 1100\"\\n58.46.139.19 - 10399 [15/Sep/2013:23:03:16 +0100] \"GET /code.js HTTP/1.0\" 200 5807 \"http://www.loudacre.com\"  \"Loudacre Mobile Browser Titanic 1100\"\\n58.46.139.19 - 10399 [15/Sep/2013:23:03:16 +0100] \"GET /ronin_novelty_note_3.jpg HTTP/1.0\" 200 17725 \"http://www.loudacre.com\"  \"Loudacre Mobile Browser Titanic 1100\"\\n139.115.114.126 - 38116 [15/Sep/2013:23:02:09 +0100] \"GET /KBDOC-00169.html HTTP/1.0\" 200 1484 \"http://www.loudacre.com\"  \"Loudacre Mobile Browser Titanic 2000\"\\n139.115.114.126 - 38116 [15/Sep/2013:23:02:09 +0100] \"GET /theme.css HTTP/1.0\" 200 18504 \"http://www.loudacre.com\"  \"Loudacre Mobile Browser Titanic 2000\"\\n205.18.207.121 - 46890 [15/Sep/2013:22:59:44 +0100] \"GET /KBDOC-00157.html HTTP/1.0\" 200 9374 \"http://www.loudacre.com\"  \"Loudacre Mobile Browser Sorrento F10L\"\\n205.18.207.121 - 46890 [15/Sep/2013:22:59:44 +0100] \"GET /theme.css HTTP/1.0\" 200 18625 \"http://www.loudacre.com\"  \"Loudacre Mobile Browser Sorrento F10L\"\\n46.73.84.184 - 1646 [15/Sep/2013:22:55:59 +0100] \"GET /KBDOC-00055.html HTTP/1.0\" 200 1400 \"http://www.loudacre.com\"  \"Loudacre Mobile Browser MeeToo 1.0\"\\n46.73.84.184 - 1646 [15/Sep/2013:22:55:59 +0100] \"GET /theme.css HTTP/1.0\" 200 6407 \"http://www.loudacre.com\"  \"Loudacre Mobile Browser MeeToo 1.0\"\\n120.41.122.183 - 41338 [15/Sep/2013:22:53:44 +0100] \"GET /KBDOC-00089.html HTTP/1.0\" 200 19021 \"http://www.loudacre.com\"  \"Loudacre Mobile Browser Ronin Novelty Note 1\"\\n120.41.122.183 - 41338 [15/Sep/2013:22:53:44 +0100] \"GET /theme.css HTTP/1.0\" 200 3715 \"http://www.loudacre.com\"  \"Loudacre Mobile Browser Ronin Novelty Note 1\"\\n109.200.25.210 - 49668 [15/Sep/2013:22:52:40 +0100] \"GET /KBDOC-00015.html HTTP/1.0\" 200 15862 \"http://www.loudacre.com\"  \"Loudacre Mobile Browser MeeToo 3.0\"\\n109.200.25.210 - 49668 [15/Sep/2013:22:52:40 +0100] \"GET /theme.css HTTP/1.0\" 200 5081 \"http://www.loudacre.com\"  \"Loudacre Mobile Browser MeeToo 3.0\"\\n207.196.238.216 - 91647 [15/Sep/2013:22:52:34 +0100] \"GET /KBDOC-00054.html HTTP/1.0\" 200 14341 \"http://www.loudacre.com\"  \"Loudacre Mobile Browser Titanic 1000\"\\n207.196.238.216 - 91647 [15/Sep/2013:22:52:34 +0100] \"GET /theme.css HTTP/1.0\" 200 4885 \"http://www.loudacre.com\"  \"Loudacre Mobile Browser Titanic 1000\"\\n97.254.38.114 - 59185 [15/Sep/2013:22:52:23 +0100] \"GET /KBDOC-00030.html HTTP/1.0\" 200 13024 \"http://www.loudacre.com\"  \"Loudacre Mobile Browser iFruit 1\"\\n97.254.38.114 - 59185 [15/Sep/2013:22:52:23 +0100] \"GET /theme.css HTTP/1.0\" 200 14229 \"http://www.loudacre.com\"  \"Loudacre Mobile Browser iFruit 1\"\\n15.222.253.68 - 27605 [15/Sep/2013:22:52:16 +0100] \"GET /KBDOC-00193.html HTTP/1.0\" 200 19126 \"http://www.loudacre.com\"  \"Loudacre Mobile Browser MeeToo 2.0\"\\n15.222.253.68 - 27605 [15/Sep/2013:22:52:16 +0100] \"GET /theme.css HTTP/1.0\" 200 9441 \"http://www.loudacre.com\"  \"Loudacre Mobile Browser MeeToo 2.0\"\\n240.203.77.86 - 51 [15/Sep/2013:22:51:33 +0100] \"GET /KBDOC-00027.html HTTP/1.0\" 200 15731 \"http://www.loudacre.com\"  \"Loudacre CSR Browser\"\\n240.203.77.86 - 51 [15/Sep/2013:22:51:33 +0100] \"GET /theme.css HTTP/1.0\" 200 14213 \"http://www.loudacre.com\"  \"Loudacre CSR Browser\"\\n197.65.10.131 - 28438 [15/Sep/2013:22:51:32 +0100] \"GET /KBDOC-00136.html HTTP/1.0\" 200 5324 \"http://www.loudacre.com\"  \"Loudacre Mobile Browser Titanic 2200\"\\n197.65.10.131 - 28438 [15/Sep/2013:22:51:32 +0100] \"GET /theme.css HTTP/1.0\" 200 364 \"http://www.loudacre.com\"  \"Loudacre Mobile Browser Titanic 2200\"\\n97.204.48.95 - 6525 [15/Sep/2013:22:51:19 +0100] \"GET /KBDOC-00162.html HTTP/1.0\" 200 15066 \"http://www.loudacre.com\"  \"Loudacre Mobile Browser Sorrento F10L\"\\n97.204.48.95 - 6525 [15/Sep/2013:22:51:19 +0100] \"GET /theme.css HTTP/1.0\" 200 7627 \"http://www.loudacre.com\"  \"Loudacre Mobile Browser Sorrento F10L\"\\n79.174.76.230 - 51774 [15/Sep/2013:22:50:41 +0100] \"GET /KBDOC-00057.html HTTP/1.0\" 200 4661 \"http://www.loudacre.com\"  \"Loudacre Mobile Browser MeeToo 1.0\"\\n79.174.76.230 - 51774 [15/Sep/2013:22:50:41 +0100] \"GET /theme.css HTTP/1.0\" 200 1615 \"http://www.loudacre.com\"  \"Loudacre Mobile Browser MeeToo 1.0\"\\n28.190.199.182 - 3 [15/Sep/2013:22:48:49 +0100] \"GET /KBDOC-00199.html HTTP/1.0\" 200 6858 \"http://www.loudacre.com\"  \"Loudacre CSR Browser\"\\n28.190.199.182 - 3 [15/Sep/2013:22:48:49 +0100] \"GET /theme.css HTTP/1.0\" 200 4424 \"http://www.loudacre.com\"  \"Loudacre CSR Browser\"\\n5.194.240.82 - 68981 [15/Sep/2013:22:45:29 +0100] \"GET /KBDOC-00188.html HTTP/1.0\" 200 4579 \"http://www.loudacre.com\"  \"Loudacre Mobile Browser MeeToo 4.0\"\\n5.194.240.82 - 68981 [15/Sep/2013:22:45:29 +0100] \"GET /theme.css HTTP/1.0\" 200 11127 \"http://www.loudacre.com\"  \"Loudacre Mobile Browser MeeToo 4.0\"\\n196.155.80.199 - 61 [15/Sep/2013:22:44:41 +0100] \"GET /KBDOC-00254.html HTTP/1.0\" 200 5428 \"http://www.loudacre.com\"  \"Loudacre CSR Browser\"\\n196.155.80.199 - 61 [15/Sep/2013:22:44:41 +0100] \"GET /theme.css HTTP/1.0\" 200 7630 \"http://www.loudacre.com\"  \"Loudacre CSR Browser\"\\n7.14.217.97 - 12552 [15/Sep/2013:22:44:00 +0100] \"GET /KBDOC-00017.html HTTP/1.0\" 200 13657 \"http://www.loudacre.com\"  \"Loudacre Mobile Browser MeeToo 3.0\"\\n7.14.217.97 - 12552 [15/Sep/2013:22:44:00 +0100] \"GET /theme.css HTTP/1.0\" 200 18543 \"http://www.loudacre.com\"  \"Loudacre Mobile Browser MeeToo 3.0\"\\n230.43.140.19 - 2104 [15/Sep/2013:22:41:41 +0100] \"GET /KBDOC-00154.html HTTP/1.0\" 200 5567 \"http://www.loudacre.com\"  \"Loudacre Mobile Browser Sorrento F01L\"\\n230.43.140.19 - 2104 [15/Sep/2013:22:41:41 +0100] \"GET /theme.css HTTP/1.0\" 200 18751 \"http://www.loudacre.com\"  \"Loudacre Mobile Browser Sorrento F01L\"\\n70.212.163.121 - 20129 [15/Sep/2013:22:40:56 +0100] \"GET /KBDOC-00086.html HTTP/1.0\" 200 14519 \"http://www.loudacre.com\"  \"Loudacre Mobile Browser Ronin Novelty Note 1\"\\n70.212.163.121 - 20129 [15/Sep/2013:22:40:56 +0100] \"GET /theme.css HTTP/1.0\" 200 10306 \"http://www.loudacre.com\"  \"Loudacre Mobile Browser Ronin Novelty Note 1\"\\n233.133.82.230 - 65750 [15/Sep/2013:22:40:31 +0100] \"GET /KBDOC-00193.html HTTP/1.0\" 200 13656 \"http://www.loudacre.com\"  \"Loudacre Mobile Browser MeeToo 2.0\"\\n233.133.82.230 - 65750 [15/Sep/2013:22:40:31 +0100] \"GET /theme.css HTTP/1.0\" 200 13571 \"http://www.loudacre.com\"  \"Loudacre Mobile Browser MeeToo 2.0\"\\n47.167.58.42 - 14 [15/Sep/2013:22:40:10 +0100] \"GET /KBDOC-00286.html HTTP/1.0\" 200 1991 \"http://www.loudacre.com\"  \"Loudacre CSR Browser\"\\n47.167.58.42 - 14 [15/Sep/2013:22:40:10 +0100] \"GET /theme.css HTTP/1.0\" 200 1837 \"http://www.loudacre.com\"  \"Loudacre CSR Browser\"\\n161.118.38.9 - 796 [15/Sep/2013:22:37:25 +0100] \"GET /KBDOC-00227.html HTTP/1.0\" 200 12523 \"http://www.loudacre.com\"  \"Loudacre Mobile Browser Titanic 1100\"\\n161.118.38.9 - 796 [15/Sep/2013:22:37:25 +0100] \"GET /theme.css HTTP/1.0\" 200 19517 \"http://www.loudacre.com\"  \"Loudacre Mobile Browser Titanic 1100\"\\n214.242.57.50 - 177 [15/Sep/2013:22:37:22 +0100] \"GET /KBDOC-00171.html HTTP/1.0\" 200 5759 \"http://www.loudacre.com\"  \"Loudacre CSR Browser\"\\n214.242.57.50 - 177 [15/Sep/2013:22:37:22 +0100] \"GET /theme.css HTTP/1.0\" 200 14369 \"http://www.loudacre.com\"  \"Loudacre CSR Browser\"\\n2.254.220.237 - 14325 [15/Sep/2013:22:36:40 +0100] \"GET /KBDOC-00261.html HTTP/1.0\" 200 5007 \"http://www.loudacre.com\"  \"Loudacre Mobile Browser Sorrento F20L\"\\n2.254.220.237 - 14325 [15/Sep/2013:22:36:40 +0100] \"GET /theme.css HTTP/1.0\" 200 6203 \"http://www.loudacre.com\"  \"Loudac\n\n*** WARNING: max output size exceeded, skipping output. ***\n\n\"GET /titanic_deckchairs_sales.html HTTP/1.0\" 200 9571 \"http://www.loudacre.com\"  \"Loudacre Mobile Browser Sorrento F21L\"\\n141.51.159.3 - 27657 [15/Sep/2013:21:46:26 +0100] \"GET /theme.css HTTP/1.0\" 200 5382 \"http://www.loudacre.com\"  \"Loudacre Mobile Browser Sorrento F21L\"\\n141.51.159.3 - 27657 [15/Sep/2013:21:46:26 +0100] \"GET /code.js HTTP/1.0\" 200 10837 \"http://www.loudacre.com\"  \"Loudacre Mobile Browser Sorrento F21L\"\\n141.51.159.3 - 27657 [15/Sep/2013:21:46:26 +0100] \"GET /titanic_deckchairs.jpg HTTP/1.0\" 200 16935 \"http://www.loudacre.com\"  \"Loudacre Mobile Browser Sorrento F21L\"\\n188.5.200.226 - 25919 [15/Sep/2013:21:44:05 +0100] \"GET /KBDOC-00194.html HTTP/1.0\" 200 18089 \"http://www.loudacre.com\"  \"Loudacre Mobile Browser MeeToo 2.0\"\\n188.5.200.226 - 25919 [15/Sep/2013:21:44:05 +0100] \"GET /theme.css HTTP/1.0\" 200 7775 \"http://www.loudacre.com\"  \"Loudacre Mobile Browser MeeToo 2.0\"\\n99.86.137.248 - 81118 [15/Sep/2013:21:42:19 +0100] \"GET /KBDOC-00201.html HTTP/1.0\" 200 10163 \"http://www.loudacre.com\"  \"Loudacre Mobile Browser Titanic 2000\"\\n99.86.137.248 - 81118 [15/Sep/2013:21:42:19 +0100] \"GET /theme.css HTTP/1.0\" 200 17590 \"http://www.loudacre.com\"  \"Loudacre Mobile Browser Titanic 2000\"\\n232.169.15.72 - 190 [15/Sep/2013:21:41:37 +0100] \"GET /KBDOC-00172.html HTTP/1.0\" 200 18956 \"http://www.loudacre.com\"  \"Loudacre CSR Browser\"\\n232.169.15.72 - 190 [15/Sep/2013:21:41:37 +0100] \"GET /theme.css HTTP/1.0\" 200 7131 \"http://www.loudacre.com\"  \"Loudacre CSR Browser\"\\n116.179.67.86 - 22842 [15/Sep/2013:21:40:42 +0100] \"GET /KBDOC-00031.html HTTP/1.0\" 200 12092 \"http://www.loudacre.com\"  \"Loudacre Mobile Browser Titanic 1100\"\\n116.179.67.86 - 22842 [15/Sep/2013:21:40:42 +0100] \"GET /theme.css HTTP/1.0\" 200 19641 \"http://www.loudacre.com\"  \"Loudacre Mobile Browser Titanic 1100\"\\n239.203.17.177 - 77 [15/Sep/2013:21:40:14 +0100] \"GET /KBDOC-00068.html HTTP/1.0\" 200 7813 \"http://www.loudacre.com\"  \"Loudacre CSR Browser\"\\n239.203.17.177 - 77 [15/Sep/2013:21:40:14 +0100] \"GET /theme.css HTTP/1.0\" 200 15293 \"http://www.loudacre.com\"  \"Loudacre CSR Browser\"\\n226.89.21.145 - 168 [15/Sep/2013:21:40:00 +0100] \"GET /KBDOC-00152.html HTTP/1.0\" 200 11340 \"http://www.loudacre.com\"  \"Loudacre CSR Browser\"\\n226.89.21.145 - 168 [15/Sep/2013:21:40:00 +0100] \"GET /theme.css HTTP/1.0\" 200 5325 \"http://www.loudacre.com\"  \"Loudacre CSR Browser\"\\n238.98.234.89 - 34770 [15/Sep/2013:21:39:29 +0100] \"GET /KBDOC-00299.html HTTP/1.0\" 200 11672 \"http://www.loudacre.com\"  \"Loudacre Mobile Browser iFruit 4\"\\n238.98.234.89 - 34770 [15/Sep/2013:21:39:29 +0100] \"GET /theme.css HTTP/1.0\" 200 4842 \"http://www.loudacre.com\"  \"Loudacre Mobile Browser iFruit 4\"\\n135.83.103.217 - 923 [15/Sep/2013:21:37:39 +0100] \"GET /KBDOC-00176.html HTTP/1.0\" 200 1538 \"http://www.loudacre.com\"  \"Loudacre Mobile Browser MeeToo 1.0\"\\n135.83.103.217 - 923 [15/Sep/2013:21:37:39 +0100] \"GET /theme.css HTTP/1.0\" 200 4193 \"http://www.loudacre.com\"  \"Loudacre Mobile Browser MeeToo 1.0\"\\n92.220.91.184 - 48152 [15/Sep/2013:21:36:52 +0100] \"GET /KBDOC-00049.html HTTP/1.0\" 200 15019 \"http://www.loudacre.com\"  \"Loudacre Mobile Browser Titanic 1000\"\\n92.220.91.184 - 48152 [15/Sep/2013:21:36:52 +0100] \"GET /theme.css HTTP/1.0\" 200 10301 \"http://www.loudacre.com\"  \"Loudacre Mobile Browser Titanic 1000\"\\n56.143.91.181 - 32 [15/Sep/2013:21:35:28 +0100] \"GET /KBDOC-00189.html HTTP/1.0\" 200 16313 \"http://www.loudacre.com\"  \"Loudacre CSR Browser\"\\n56.143.91.181 - 32 [15/Sep/2013:21:35:28 +0100] \"GET /theme.css HTTP/1.0\" 200 1236 \"http://www.loudacre.com\"  \"Loudacre CSR Browser\"\\n25.248.19.178 - 17001 [15/Sep/2013:21:34:50 +0100] \"GET /meetoo_4.0_sales.html HTTP/1.0\" 200 3994 \"http://www.loudacre.com\"  \"Loudacre Mobile Browser iFruit 1\"\\n25.248.19.178 - 17001 [15/Sep/2013:21:34:50 +0100] \"GET /theme.css HTTP/1.0\" 200 9424 \"http://www.loudacre.com\"  \"Loudacre Mobile Browser iFruit 1\"\\n25.248.19.178 - 17001 [15/Sep/2013:21:34:50 +0100] \"GET /code.js HTTP/1.0\" 200 7960 \"http://www.loudacre.com\"  \"Loudacre Mobile Browser iFruit 1\"\\n25.248.19.178 - 17001 [15/Sep/2013:21:34:50 +0100] \"GET /meetoo_4.0.jpg HTTP/1.0\" 200 9567 \"http://www.loudacre.com\"  \"Loudacre Mobile Browser iFruit 1\"\\n179.177.230.245 - 27042 [15/Sep/2013:21:34:24 +0100] \"GET /KBDOC-00049.html HTTP/1.0\" 200 19445 \"http://www.loudacre.com\"  \"Loudacre Mobile Browser Titanic 1000\"\\n179.177.230.245 - 27042 [15/Sep/2013:21:34:24 +0100] \"GET /theme.css HTTP/1.0\" 200 13634 \"http://www.loudacre.com\"  \"Loudacre Mobile Browser Titanic 1000\"\\n176.182.225.129 - 17338 [15/Sep/2013:21:32:53 +0100] \"GET /meetoo_5.0_sales.html HTTP/1.0\" 200 6973 \"http://www.loudacre.com\"  \"Loudacre Mobile Browser MeeToo 1.0\"\\n176.182.225.129 - 17338 [15/Sep/2013:21:32:53 +0100] \"GET /theme.css HTTP/1.0\" 200 13009 \"http://www.loudacre.com\"  \"Loudacre Mobile Browser MeeToo 1.0\"\\n176.182.225.129 - 17338 [15/Sep/2013:21:32:53 +0100] \"GET /code.js HTTP/1.0\" 200 15893 \"http://www.loudacre.com\"  \"Loudacre Mobile Browser MeeToo 1.0\"\\n176.182.225.129 - 17338 [15/Sep/2013:21:32:53 +0100] \"GET /meetoo_5.0.jpg HTTP/1.0\" 200 3759 \"http://www.loudacre.com\"  \"Loudacre Mobile Browser MeeToo 1.0\"\\n193.62.163.5 - 65 [15/Sep/2013:21:29:26 +0100] \"GET /KBDOC-00081.html HTTP/1.0\" 200 16618 \"http://www.loudacre.com\"  \"Loudacre CSR Browser\"\\n193.62.163.5 - 65 [15/Sep/2013:21:29:26 +0100] \"GET /theme.css HTTP/1.0\" 200 7997 \"http://www.loudacre.com\"  \"Loudacre CSR Browser\"\\n243.18.84.61 - 33798 [15/Sep/2013:21:29:20 +0100] \"GET /ronin_novelty_note_4_sales.html HTTP/1.0\" 200 15507 \"http://www.loudacre.com\"  \"Loudacre Mobile Browser iFruit 3\"\\n243.18.84.61 - 33798 [15/Sep/2013:21:29:20 +0100] \"GET /theme.css HTTP/1.0\" 200 10404 \"http://www.loudacre.com\"  \"Loudacre Mobile Browser iFruit 3\"\\n243.18.84.61 - 33798 [15/Sep/2013:21:29:20 +0100] \"GET /code.js HTTP/1.0\" 200 13411 \"http://www.loudacre.com\"  \"Loudacre Mobile Browser iFruit 3\"\\n243.18.84.61 - 33798 [15/Sep/2013:21:29:20 +0100] \"GET /ronin_novelty_note_4.jpg HTTP/1.0\" 200 13874 \"http://www.loudacre.com\"  \"Loudacre Mobile Browser iFruit 3\"\\n128.90.212.102 - 5 [15/Sep/2013:21:28:20 +0100] \"GET /KBDOC-00218.html HTTP/1.0\" 200 16635 \"http://www.loudacre.com\"  \"Loudacre CSR Browser\"\\n128.90.212.102 - 5 [15/Sep/2013:21:28:20 +0100] \"GET /theme.css HTTP/1.0\" 200 9765 \"http://www.loudacre.com\"  \"Loudacre CSR Browser\"\\n196.55.78.85 - 53841 [15/Sep/2013:21:27:48 +0100] \"GET /KBDOC-00118.html HTTP/1.0\" 200 6250 \"http://www.loudacre.com\"  \"Loudacre Mobile Browser MeeToo 3.1\"\\n196.55.78.85 - 53841 [15/Sep/2013:21:27:48 +0100] \"GET /theme.css HTTP/1.0\" 200 7840 \"http://www.loudacre.com\"  \"Loudacre Mobile Browser MeeToo 3.1\"\\n210.239.90.209 - 8550 [15/Sep/2013:21:26:42 +0100] \"GET /KBDOC-00201.html HTTP/1.0\" 200 3154 \"http://www.loudacre.com\"  \"Loudacre Mobile Browser Titanic 2000\"\\n210.239.90.209 - 8550 [15/Sep/2013:21:26:42 +0100] \"GET /theme.css HTTP/1.0\" 200 15055 \"http://www.loudacre.com\"  \"Loudacre Mobile Browser Titanic 2000\"\\n122.186.3.5 - 46859 [15/Sep/2013:21:26:30 +0100] \"GET /KBDOC-00029.html HTTP/1.0\" 200 16862 \"http://www.loudacre.com\"  \"Loudacre Mobile Browser iFruit 1\"\\n122.186.3.5 - 46859 [15/Sep/2013:21:26:30 +0100] \"GET /theme.css HTTP/1.0\" 200 13751 \"http://www.loudacre.com\"  \"Loudacre Mobile Browser iFruit 1\"\\n211.179.240.90 - 4072 [15/Sep/2013:21:25:59 +0100] \"GET /KBDOC-00161.html HTTP/1.0\" 200 15034 \"http://www.loudacre.com\"  \"Loudacre Mobile Browser Sorrento F10L\"\\n211.179.240.90 - 4072 [15/Sep/2013:21:25:59 +0100] \"GET /theme.css HTTP/1.0\" 200 4876 \"http://www.loudacre.com\"  \"Loudacre Mobile Browser Sorrento F10L\"\\n179.173.112.56 - 182 [15/Sep/2013:21:24:29 +0100] \"GET /KBDOC-00067.html HTTP/1.0\" 200 4282 \"http://www.loudacre.com\"  \"Loudacre CSR Browser\"\\n179.173.112.56 - 182 [15/Sep/2013:21:24:29 +0100] \"GET /theme.css HTTP/1.0\" 200 278 \"http://www.loudacre.com\"  \"Loudacre CSR Browser\"\\n53.190.83.56 - 35798 [15/Sep/2013:21:23:55 +0100] \"GET /KBDOC-00022.html HTTP/1.0\" 200 4711 \"http://www.loudacre.com\"  \"Loudacre Mobile Browser MeeToo 3.1\"\\n53.190.83.56 - 35798 [15/Sep/2013:21:23:55 +0100] \"GET /theme.css HTTP/1.0\" 200 18433 \"http://www.loudacre.com\"  \"Loudacre Mobile Browser MeeToo 3.1\"\\n144.63.175.104 - 161 [15/Sep/2013:21:21:25 +0100] \"GET /KBDOC-00132.html HTTP/1.0\" 200 16488 \"http://www.loudacre.com\"  \"Loudacre CSR Browser\"\\n144.63.175.104 - 161 [15/Sep/2013:21:21:25 +0100] \"GET /theme.css HTTP/1.0\" 200 12010 \"http://www.loudacre.com\"  \"Loudacre CSR Browser\"\\n179.115.3.117 - 2041 [15/Sep/2013:21:20:53 +0100] \"GET /KBDOC-00001.html HTTP/1.0\" 200 1141 \"http://www.loudacre.com\"  \"Loudacre Mobile Browser Sorrento F00L\"\\n179.115.3.117 - 2041 [15/Sep/2013:21:20:53 +0100] \"GET /theme.css HTTP/1.0\" 200 11299 \"http://www.loudacre.com\"  \"Loudacre Mobile Browser Sorrento F00L\"\\n102.234.102.15 - 29318 [15/Sep/2013:21:20:30 +0100] \"GET /KBDOC-00007.html HTTP/1.0\" 200 10940 \"http://www.loudacre.com\"  \"Loudacre Mobile Browser Titanic 2100\"\\n102.234.102.15 - 29318 [15/Sep/2013:21:20:30 +0100] \"GET /theme.css HTTP/1.0\" 200 5633 \"http://www.loudacre.com\"  \"Loudacre Mobile Browser Titanic 2100\"\\n240.182.220.48 - 2755 [15/Sep/2013:21:20:29 +0100] \"GET /KBDOC-00030.html HTTP/1.0\" 200 9119 \"http://www.loudacre.com\"  \"Loudacre Mobile Browser Titanic 1100\"\\n240.182.220.48 - 2755 [15/Sep/2013:21:20:29 +0100] \"GET /theme.css HTTP/1.0\" 200 1116 \"http://www.loudacre.com\"  \"Loudacre Mobile Browser Titanic 1100\"\\n209.34.219.187 - 11067 [15/Sep/2013:21:19:20 +0100] \"GET /KBDOC-00199.html HTTP/1.0\" 200 1508 \"http://www.loudacre.com\"  \"Loudacre Mobile Browser Titanic 2000\"\\n209.34.219.187 - 11067 [15/Sep/2013:21:19:20 +0100] \"GET /theme.css HTTP/1.0\" 200 18445 \"http://www.loudacre.com\"  \"Loudacre Mobile Browser Titanic 2000\"\\n166.69.211.159 - 19377 [15/Sep/2013:21:19:04 +0100] \"GET /KBDOC-00026.html HTTP/1.0\" 200 5987 \"http://www.loudacre.com\"  \"Loudacre Mobile Browser iFruit 1\"\\n166.69.211.159 - 19377 [15/Sep/2013:21:19:04 +0100] \"GET /theme.css HTTP/1.0\" 200 14516 \"http://www.loudacre.com\"  \"Loudacre Mobile Browser iFruit 1\"\\n123.9.155.53 - 14894 [15/Sep/2013:21:18:02 +0100] \"GET /titanic_2400_sales.html HTTP/1.0\" 200 18463 \"http://www.loudacre.com\"  \"Loudacre Mobile Browser Titanic 2100\"\\n123.9.155.53 - 14894 [15/Sep/2013:21:18:02 +0100] \"GET /theme.css HTTP/1.0\" 200 11629 \"http://www.loudacre.com\"  \"Loudacre Mobile Browser Titanic 2100\"\\n123.9.155.53 - 14894 [15/Sep/2013:21:18:02 +0100] \"GET /code.js HTTP/1.0\" 200 3114 \"http://www.loudacre.com\"  \"Loudacre Mobile Browser Titanic 2100\"\\n123.9.155.53 - 14894 [15/Sep/2013:21:18:02 +0100] \"GET /titanic_2400.jpg HTTP/1.0\" 200 2710 \"http://www.loudacre.com\"  \"Loudacre Mobile Browser Titanic 2100\"\\n82.243.31.162 - 24517 [15/Sep/2013:21:16:59 +0100] \"GET /KBDOC-00268.html HTTP/1.0\" 200 7275 \"http://www.loudacre.com\"  \"Loudacre Mobile Browser Titanic 2400\"\\n82.243.31.162 - 24517 [15/Sep/2013:21:16:59 +0100] \"GET /theme.css HTTP/1.0\" 200 1550 \"http://www.loudacre.com\"  \"Loudacre Mobile Browser Titanic 2400\"\\n62.153.125.224 - 7884 [15/Sep/2013:21:16:15 +0100] \"GET /KBDOC-00060.html HTTP/1.0\" 200 7225 \"http://www.loudacre.com\"  \"Loudacre Mobile Browser MeeToo 1.0\"\\n62.153.125.224 - 7884 [15/Sep/2013:21:16:15 +0100] \"GET /theme.css HTTP/1.0\" 200 11454 \"http://www.loudacre.com\"  \"Loudacre Mobile Browser MeeToo 1.0\"\\n146.198.66.46 - 1832 [15/Sep/2013:21:15:44 +0100] \"GET /KBDOC-00049.html HTTP/1.0\" 200 10119 \"http://www.loudacre.com\"  \"Loudacre Mobile Browser Titanic 1000\"\\n146.198.66.46 - 1832 [15/Sep/2013:21:15:44 +0100] \"GET /theme.css HTTP/1.0\" 200 15208 \"http://www.loudacre.com\"  \"Loudacre Mobile Browser Titanic 1000\"\\n219.237.216.148 - 44394 [15/Sep/2013:21:13:42 +0100] \"GET /KBDOC-00154.html HTTP/1.0\" 200 11594 \"http://www.loudacre.com\"  \"Loudacre Mobile Browser Sorrento F30L\"\\n219.237.216.148 - 44394 [15/Sep/2013:21:13:42 +0100] \"GET /theme.css HTTP/1.0\" 200 6219 \"http://www.loudacre.com\"  \"Loudacre Mobile Browser Sorrento F30L\"\\n223.72.122.2 - 25189 [15/Sep/2013:21:12:49 +0100] \"GET /KBDOC-00193.html HTTP/1.0\" 200 17117 \"http://www.loudacre.com\"  \"Loudacre Mobile Browser MeeToo 2.0\"\\n223.72.122.2 - 25189 [15/Sep/2013:21:12:49 +0100] \"GET /theme.css HTTP/1.0\" 200 16459 \"http://www.loudacre.com\"  \"Loudacre Mobile Browser MeeToo 2.0\"\\n92.17.179.125 - 6217 [15/Sep/2013:21:12:41 +0100] \"GET /KBDOC-00201.html HTTP/1.0\" 200 2684 \"http://www.loudacre.com\"  \"Loudacre Mobile Browser Titanic 2000\"\\n92.17.179.125 - 6217 [15/Sep/2013:21:12:41 +0100] \"GET /theme.css HTTP/1.0\" 200 14149 \"http://www.loudacre.com\"  \"Loudacre Mobile Browser Titanic 2000\"\\n99.206.73.140 - 7127 [15/Sep/2013:21:12:40 +0100] \"GET /KBDOC-00253.html HTTP/1.0\" 200 17311 \"http://www.loudacre.com\"  \"Loudacre Mobile Browser Sorrento F01L\"\\n99.206.73.140 - 7127 [15/Sep/2013:21:12:40 +0100] \"GET /theme.css HTTP/1.0\" 200 10917 \"http://www.loudacre.com\"  \"Loudacre Mobile Browser Sorrento F01L\"\\n32.20.50.122 - 23819 [15/Sep/2013:21:12:09 +0100] \"GET /KBDOC-00277.html HTTP/1.0\" 200 14968 \"http://www.loudacre.com\"  \"Loudacre Mobile Browser Ronin S1\"\\n32.20.50.122 - 23819 [15/Sep/2013:21:12:09 +0100] \"GET /theme.css HTTP/1.0\" 200 4175 \"http://www.loudacre.com\"  \"Loudacre Mobile Browser Ronin S1\"\\n110.122.101.22 - 4406 [15/Sep/2013:21:11:35 +0100] \"GET /KBDOC-00009.html HTTP/1.0\" 200 3274 \"http://www.loudacre.com\"  \"Loudacre Mobile Browser Titanic 1100\"\\n110.122.101.22 - 4406 [15/Sep/2013:21:11:35 +0100] \"GET /theme.css HTTP/1.0\" 200 2344 \"http://www.loudacre.com\"  \"Loudacre Mobile Browser Titanic 1100\"\\n206.179.224.105 - 66797 [15/Sep/2013:21:10:59 +0100] \"GET /KBDOC-00225.html HTTP/1.0\" 200 7636 \"http://www.loudacre.com\"  \"Loudacre Mobile Browser Titanic 1100\"\\n206.179.224.105 - 66797 [15/Sep/2013:21:10:59 +0100] \"GET /theme.css HTTP/1.0\" 200 16631 \"http://www.loudacre.com\"  \"Loudacre Mobile Browser Titanic 1100\"\\n95.112.51.15 - 56656 [15/Sep/2013:21:09:40 +0100] \"GET /sorrento_f20l_sales.html HTTP/1.0\" 200 1190 \"http://www.loudacre.com\"  \"Loudacre Mobile Browser Ronin Novelty Note 2\"\\n95.112.51.15 - 56656 [15/Sep/2013:21:09:40 +0100] \"GET /theme.css HTTP/1.0\" 200 14771 \"http://www.loudacre.com\"  \"Loudacre Mobile Browser Ronin Novelty Note 2\"\\n95.112.51.15 - 56656 [15/Sep/2013:21:09:40 +0100] \"GET /code.js HTTP/1.0\" 200 9480 \"http://www.loudacre.com\"  \"Loudacre Mobile Browser Ronin Novelty Note 2\"\\n95.112.51.15 - 56656 [15/Sep/2013:21:09:40 +0100] \"GET /sorrento_f20l.jpg HTTP/1.0\" 200 11038 \"http://www.loudacre.com\"  \"Loudacre Mobile Browser Ronin Novelty Note 2\"\\n23.20.134.126 - 141 [15/Sep/2013:21:09:02 +0100] \"GET /KBDOC-00165.html HTTP/1.0\" 200 6013 \"http://www.loudacre.com\"  \"Loudacre CSR Browser\"\\n23.20.134.126 - 141 [15/Sep/2013:21:09:02 +0100] \"GET /theme.css HTTP/1.0\" 200 6363 \"http://www.loudacre.com\"  \"Loudacre CSR Browser\"\\n8.83.104.157 - 21294 [15/Sep/2013:21:08:35 +0100] \"GET /KBDOC-00258.html HTTP/1.0\" 200 19324 \"http://www.loudacre.com\"  \"Loudacre Mobile Browser Sorrento F01L\"\\n8.83.104.157 - 21294 [15/Sep/2013:21:08:35 +0100] \"GET /theme.css HTTP/1.0\" 200 18000 \"http://www.loudacre.com\"  \"Loudacre Mobile Browser Sorrento F01L\"\\n131.201.203.172 - 42033 [15/Sep/2013:21:08:13 +0100] \"GET /titanic_2200_sales.html HTTP/1.0\" 200 18934 \"http://www.loudacre.com\"  \"Loudacre Mobile Browser MeeToo 2.0\"\\n131.201.203.172 - 42033 [15/Sep/2013:21:08:13 +0100] \"GET /theme.css HTTP/1.0\" 200 4674 \"http://www.loudacre.com\"  \"Loudacre Mobile Browser MeeToo 2.0\"\\n131.201.203.172 - 42033 [15/Sep/2013:21:08:13 +0100] \"GET /code.js HTTP/1.0\" 200 2677 \"http://www.loudacre.com\"  \"Loudacre Mobile Browser MeeToo 2.0\"\\n131.201.203.172 - 42033 [15/Sep/2013:21:08:13 +0100] \"GET /titanic_2200.jpg HTTP/1.0\" 200 4057 \"http://www.loudacre.com\"  \"Loudacre Mobile Browser MeeToo 2.0\"\\n61.82.216.215 - 9424 [15/Sep/2013:21:07:57 +0100] \"GET /KBDOC-00161.html HTTP/1.0\" 200 13584 \"http://www.loudacre.com\"  \"Loudacre Mobile Browser Sorrento F10L\"\\n61.82.216.215 - 9424 [15/Sep/2013:21:07:57 +0100] \"GET /theme.css HTTP/1.0\" 200 17787 \"http://www.loudacre.com\"  \"Loudacre Mobile Browser Sorrento F10L\"\\n100.146.229.192 - 62 [15/Sep/2013:21:06:35 +0100] \"GET /KBDOC-00239.html HTTP/1.0\" 200 6200 \"http://www.loudacre.com\"  \"Loudacre CSR Browser\"\\n100.146.229.192 - 62 [15/Sep/2013:21:06:35 +0100] \"GET /theme.css HTTP/1.0\" 200 3290 \"http://www.loudacre.com\"  \"Loudacre CSR Browser\"\\n135.102.10.147 - 104780 [15/Sep/2013:21:05:42 +0100] \"GET /KBDOC-00138.html HTTP/1.0\" 200 3422 \"http://www.loudacre.com\"  \"Loudacre Mobile Browser Sorrento F20L\"\\n135.102.10.147 - 104780 [15/Sep/2013:21:05:42 +0100] \"GET /theme.css HTTP/1.0\" 200 12380 \"http://www.loudacre.com\"  \"Loudacre Mobile Browser Sorrento F20L\"\\n205.255.28.234 - 178 [15/Sep/2013:21:05:41 +0100] \"GET /KBDOC-00050.html HTTP/1.0\" 200 2765 \"http://www.loudacre.com\"  \"Loudacre CSR Browser\"\\n205.255.28.234 - 178 [15/Sep/2013:21:05:41 +0100] \"GET /theme.css HTTP/1.0\" 200 16610 \"http://www.loudacre.com\"  \"Loudacre CSR Browser\"\\n76.146.149.57 - 7766 [15/Sep/2013:21:05:37 +0100] \"GET /KBDOC-00193.html HTTP/1.0\" 200 3835 \"http://www.loudacre.com\"  \"Loudacre Mobile Browser MeeToo 2.0\"\\n76.146.149.57 - 7766 [15/Sep/2013:21:05:37 +0100] \"GET /theme.css HTTP/1.0\" 200 9134 \"http://www.loudacre.com\"  \"Loudacre Mobile Browser MeeToo 2.0\"\\n244.148.143.106 - 104 [15/Sep/2013:21:05:23 +0100] \"GET /KBDOC-00277.html HTTP/1.0\" 200 15184 \"http://www.loudacre.com\"  \"Loudacre CSR Browser\"\\n244.148.143.106 - 104 [15/Sep/2013:21:05:23 +0100] \"GET /theme.css HTTP/1.0\" 200 5251 \"http://www.loudacre.com\"  \"Loudacre CSR Browser\"\\n174.89.37.204 - 47269 [15/Sep/2013:21:04:41 +0100] \"GET /KBDOC-00159.html HTTP/1.0\" 200 3216 \"http://www.loudacre.com\"  \"Loudacre Mobile Browser Sorrento F10L\"\\n174.89.37.204 - 47269 [15/Sep/2013:21:04:41 +0100] \"GET /theme.css HTTP/1.0\" 200 5655 \"http://www.loudacre.com\"  \"Loudacre Mobile Browser Sorrento F10L\"\\n171.71.53.36 - 101367 [15/Sep/2013:20:55:40 +0100] \"GET /KBDOC-00162.html HTTP/1.0\" 200 4550 \"http://www.loudacre.com\"  \"Loudacre Mobile Browser Sorrento F10L\"\\n171.71.53.36 - 101367 [15/Sep/2013:20:55:40 +0100] \"GET /theme.css HTTP/1.0\" 200 8716 \"http://www.loudacre.com\"  \"Loudacre Mobile Browser Sorrento F10L\"\\n199.187.95.56 - 31484 [15/Sep/2013:20:55:27 +0100] \"GET /KBDOC-00017.html HTTP/1.0\" 200 18862 \"http://www.loudacre.com\"  \"Loudacre Mobile Browser MeeToo 3.0\"\\n199.187.95.56 - 31484 [15/Sep/2013:20:55:27 +0100] \"GET /theme.css HTTP/1.0\" 200 1081 \"http://www.loudacre.com\"  \"Loudacre Mobile Browser MeeToo 3.0\"\\n237.131.224.232 - 26855 [15/Sep/2013:20:54:18 +0100] \"GET /sorrento_f33l_sales.html HTTP/1.0\" 200 17407 \"http://www.loudacre.com\"  \"Loudacre Mobile Browser Sorrento F10L\"\\n237.131.224.232 - 26855 [15/Sep/2013:20:54:18 +0100] \"GET /theme.css HTTP/1.0\" 200 18085 \"http://www.loudacre.com\"  \"Loudacre Mobile Browser Sorrento F10L\"\\n237.131.224.232 - 26855 [15/Sep/2013:20:54:18 +0100] \"GET /code.js HTTP/1.0\" 200 322 \"http://www.loudacre.com\"  \"Loudacre Mobile Browser Sorrento F10L\"\\n237.131.224.232 - 26855 [15/Sep/2013:20:54:18 +0100] \"GET /sorrento_f33l.jpg HTTP/1.0\" 200 13142 \"http://www.loudacre.com\"  \"Loudacre Mobile Browser Sorrento F10L\"\\n99.115.57.56 - 23931 [15/Sep/2013:20:52:10 +0100] \"GET /KBDOC-00188.html HTTP/1.0\" 200 9668 \"http://www.loudacre.com\"  \"Loudacre Mobile Browser Sorrento F11L\"\\n99.115.57.56 - 23931 [15/Sep/2013:20:52:10 +0100] \"GET /theme.css HTTP/1.0\" 200 14421 \"http://www.loudacre.com\"  \"Loudacre Mobile Browser Sorrento F11L\"\\n7.76.170.30 - 178 [15/Sep/2013:20:51:02 +0100] \"GET /KBDOC-00259.html HTTP/1.0\" 200 16169 \"http://www.loudacre.com\"  \"Loudacre CSR Browser\"\\n7.76.170.30 - 178 [15/Sep/2013:20:51:02 +0100] \"GET /theme.css HTTP/1.0\" 200 11895 \"http://www.loudacre.com\"  \"Loudacre CSR Browser\"\\n150.191.57.122 - 60986 [15/Sep/2013:20:50:35 +0100] \"GET /KBDOC-00240.html HTTP/1.0\" 200 9087 \"http://www.loudacre.com\"  \"Loudacre Mobile Browser Ronin Novelty Note 1\"\\n150.191.57.122 - 60986 [15/Sep/2013:20:50:35 +0100] \"GET /theme.css HTTP/1.0\" 200 14587 \"http://www.loudacre.com\"  \"Loudacre Mobile Browser Ronin Novelty Note 1\"\\n95.60.89.167 - 15338 [15/Sep/2013:20:50:06 +0100] \"GET /KBDOC-00054.html HTTP/1.0\" 200 14177 \"http://www.loudacre.com\"  \"Loudacre Mobile Browser Titanic 1000\"\\n95.60.89.167 - 15338 [15/Sep/2013:20:50:06 +0100] \"GET /theme.css HTTP/1.0\" 200 16112 \"http://www.loudacre.com\"  \"Loudacre Mobile Browser Titanic 1000\"\\n12.69.221.179 - 42259 [15/Sep/2013:20:49:13 +0100] \"GET /KBDOC-00077.html HTTP/1.0\" 200 7107 \"http://www.loudacre.com\"  \"Loudacre Mobile Browser Sorrento F23L\"\\n12.69.221.179 - 42259 [15/Sep/2013:20:49:13 +0100] \"GET /theme.css HTTP/1.0\" 200 11565 \"http://www.loudacre.com\"  \"Loudacre Mobile Browser Sorrento F23L\"\\n197.254.91.235 - 1930 [15/Sep/2013:20:48:56 +0100] \"GET /KBDOC-00004.html HTTP/1.0\" 200 19428 \"http://www.loudacre.com\"  \"Loudacre Mobile Browser Sorrento F00L\"\\n197.254.91.235 - 1930 [15/Sep/2013:20:48:56 +0100] \"GET /theme.css HTTP/1.0\" 200 12439 \"http://www.loudacre.com\"  \"Loudacre Mobile Browser Sorrento F00L\"\\n29.103.4.216 - 162 [15/Sep/2013:20:47:47 +0100] \"GET /KBDOC-00228.html HTTP/1.0\" 200 4905 \"http://www.loudacre.com\"  \"Loudacre CSR Browser\"\\n29.103.4.216 - 162 [15/Sep/2013:20:47:47 +0100] \"GET /theme.css HTTP/1.0\" 200 1498 \"http://www.loudacre.com\"  \"Loudacre CSR Browser\"\\n65.243.115.58 - 71227 [15/Sep/2013:20:47:39 +0100] \"GET /KBDOC-00078.html HTTP/1.0\" 200 1196 \"http://www.loudacre.com\"  \"Loudacre Mobile Browser Sorrento F23L\"\\n65.243.115.58 - 71227 [15/Sep/2013:20:47:39 +0100] \"GET /theme.css HTTP/1.0\" 200 10323 \"http://www.loudacre.com\"  \"Loudacre Mobile Browser Sorrento F23L\"\\n198.148.212.127 - 14786 [15/Sep/2013:20:47:07 +0100] \"GET /KBDOC-00065.html HTTP/1.0\" 200 12583 \"http://www.loudacre.com\"  \"Loudacre Mobile Browser Sorrento F21L\"\\n198.148.212.127 - 14786 [15/Sep/2013:20:47:07 +0100] \"GET /theme.css HTTP/1.0\" 200 10216 \"http://www.loudacre.com\"  \"Loudacre Mobile Browser Sorrento F21L\"\\n57.200.177.218 - 29988 [15/Sep/2013:20:46:25 +0100] \"GET /titanic_2200_sales.html HTTP/1.0\" 200 10980 \"http://www.loudacre.com\"  \"Loudacre Mobile Browser Sorrento F31L\"\\n57.200.177.218 - 29988 [15/Sep/2013:20:46:25 +0100] \"GET /theme.css HTTP/1.0\" 200 8649 \"http://www.loudacre.com\"  \"Loudacre Mobile Browser Sorrento F31L\"\\n57.200.177.218 - 29988 [15/Sep/2013:20:46:25 +0100] \"GET /code.js HTTP/1.0\" 200 7499 \"http://www.loudacre.com\"  \"Loudacre Mobile Browser Sorrento F31L\"\\n57.200.177.218 - 29988 [15/Sep/2013:20:46:25 +0100] \"GET /titanic_2200.jpg HTTP/1.0\" 200 6044 \"http://www.loudacre.com\"  \"Loudacre Mobile Browser Sorrento F31L\"\\n78.210.101.66 - 5163 [15/Sep/2013:20:45:11 +0100] \"GET /KBDOC-00086.html HTTP/1.0\" 200 6512 \"http://www.loudacre.com\"  \"Loudacre Mobile Browser iFruit 1\"\\n78.210.101.66 - 5163 [15/Sep/2013:20:45:11 +0100] \"GET /theme.css HTTP/1.0\" 200 2718 \"http://www.loudacre.com\"  \"Loudacre Mobile Browser iFruit 1\"\\n217.137.169.105 - 403 [15/Sep/2013:20:44:37 +0100] \"GET /KBDOC-00050.html HTTP/1.0\" 200 17659 \"http://www.loudacre.com\"  \"Loudacre Mobile Browser Sorrento F00L\"\\n217.137.169.105 - 403 [15/Sep/2013:20:44:37 +0100] \"GET /theme.css HTTP/1.0\" 200 2733 \"http://www.loudacre.com\"  \"Loudacre Mobile Browser Sorrento F00L\"\\n185.43.142.34 - 127 [15/Sep/2013:20:43:13 +0100] \"GET /KBDOC-00196.html HTTP/1.0\" 200 12993 \"http://www.loudacre.com\"  \"Loudacre CSR Browser\"\\n185.43.142.34 - 127 [15/Sep/2013:20:43:13 +0100] \"GET /theme.css HTTP/1.0\" 200 14332 \"http://www.loudacre.com\"  \"Loudacre CSR Browser\"\\n89.128.34.244 - 55803 [15/Sep/2013:20:42:46 +0100] \"GET /KBDOC-00153.html HTTP/1.0\" 200 5089 \"http://www.loudacre.com\"  \"Loudacre Mobile Browser Sorrento F30L\"\\n89.128.34.244 - 55803 [15/Sep/2013:20:42:46 +0100] \"GET /theme.css HTTP/1.0\" 200 13718 \"http://www.loudacre.com\"  \"Loudacre Mobile Browser Sorrento F30L\"\\n232.10.54.33 - 8331 [15/Sep/2013:20:42:41 +0100] \"GET /KBDOC-00052.html HTTP/1.0\" 200 4707 \"http://www.loudacre.com\"  \"Loudacre Mobile Browser Titanic 1000\"\\n232.10.54.33 - 8331 [15/Sep/2013:20:42:41 +0100] \"GET /theme.css HTTP/1.0\" 200 9967 \"http://www.loudacre.com\"  \"Loudacre Mobile Browser Titanic 1000\"\\n166.52.7.254 - 45 [15/Sep/2013:20:41:53 +0100] \"GET /KBDOC-00063.html HTTP/1.0\" 200 4306 \"http://www.loudacre.com\"  \"Loudacre CSR Browser\"\\n166.52.7.254 - 45 [15/Sep/2013:20:41:53 +0100] \"GET /theme.css HTTP/1.0\" 200 16902 \"http://www.loudacre.com\"  \"Loudacre CSR Browser\"\\n135.163.176.159 - 60570 [15/Sep/2013:20:39:59 +0100] \"GET /KBDOC-00036.html HTTP/1.0\" 200 14340 \"http://www.loudacre.com\"  \"Loudacre Mobile Browser iFruit 3\"\\n135.163.176.159 - 60570 [15/Sep/2013:20:39:59 +0100] \"GET /theme.css HTTP/1.0\" 200 9271 \"http://www.loudacre.com\"  \"Loudacre Mobile Browser iFruit 3\"\\n16.201.162.79 - 59020 [15/Sep/2013:20:38:56 +0100] \"GET /KBDOC-00288.html HTTP/1.0\" 200 9722 \"http://www.loudacre.com\"  \"Loudacre Mobile Browser Titanic 2300\"\\n16.201.162.79 - 59020 [15/Sep/2013:20:38:56 +0100] \"GET /theme.css HTTP/1.0\" 200 10915 \"http://www.loudacre.com\"  \"Loudacre Mobile Browser Titanic 2300\"\\n45.33.47.87 - 174 [15/Sep/2013:20:38:53 +0100] \"GET /KBDOC-00152.html HTTP/1.0\" 200 344 \"http://www.loudacre.com\"  \"Loudacre CSR Browser\"\\n45.33.47.87 - 174 [1'"
     ]
    }
   ],
   "source": [
    "dbutils.fs.head('/FileStore/tables/logs/2013-09-15.log')"
   ]
  },
  {
   "cell_type": "code",
   "execution_count": 0,
   "metadata": {
    "application/vnd.databricks.v1+cell": {
     "cellMetadata": {
      "byteLimit": 2048000,
      "rowLimit": 10000
     },
     "inputWidgets": {},
     "nuid": "efae28cc-3958-41f7-ba2d-96412a8a341d",
     "showTitle": false,
     "title": ""
    }
   },
   "outputs": [],
   "source": [
    "myrdd1 = sc.textFile('/FileStore/tables/logs/2014-03*')"
   ]
  },
  {
   "cell_type": "code",
   "execution_count": 0,
   "metadata": {
    "application/vnd.databricks.v1+cell": {
     "cellMetadata": {
      "byteLimit": 2048000,
      "rowLimit": 10000
     },
     "inputWidgets": {},
     "nuid": "1e8b7b8b-5e50-4a57-92eb-09c665570d05",
     "showTitle": false,
     "title": ""
    }
   },
   "outputs": [
    {
     "output_type": "stream",
     "name": "stdout",
     "output_type": "stream",
     "text": [
      "Out[55]: ['34.28.1.122 - 65255 [01/Mar/2014:23:57:51 +0100] \"GET /ifruit_3a_sales.html HTTP/1.0\" 200 11416 \"http://www.loudacre.com\"  \"Loudacre Mobile Browser Titanic 2300\"',\n '34.28.1.122 - 65255 [01/Mar/2014:23:57:51 +0100] \"GET /theme.css HTTP/1.0\" 200 14933 \"http://www.loudacre.com\"  \"Loudacre Mobile Browser Titanic 2300\"']"
     ]
    }
   ],
   "source": [
    "myrdd1.take(2)"
   ]
  },
  {
   "cell_type": "code",
   "execution_count": 0,
   "metadata": {
    "application/vnd.databricks.v1+cell": {
     "cellMetadata": {
      "byteLimit": 2048000,
      "rowLimit": 10000
     },
     "inputWidgets": {},
     "nuid": "7d3d46fa-c4e5-4080-bc73-eb47dd8c2105",
     "showTitle": false,
     "title": ""
    }
   },
   "outputs": [
    {
     "output_type": "stream",
     "name": "stdout",
     "output_type": "stream",
     "text": [
      "Out[57]: [('65255', 1),\n ('65255', 1),\n ('65255', 1),\n ('65255', 1),\n ('96482', 1),\n ('96482', 1),\n ('152', 1),\n ('152', 1),\n ('54322', 1),\n ('54322', 1)]"
     ]
    }
   ],
   "source": [
    "myrdd2 = myrdd1.map(lambda s:(s.split(' ')[2],1))\n",
    "myrdd2.take(10)"
   ]
  },
  {
   "cell_type": "code",
   "execution_count": 0,
   "metadata": {
    "application/vnd.databricks.v1+cell": {
     "cellMetadata": {
      "byteLimit": 2048000,
      "rowLimit": 10000
     },
     "inputWidgets": {},
     "nuid": "674aa218-972a-4d3a-b757-d9b7c5f7ec29",
     "showTitle": false,
     "title": ""
    }
   },
   "outputs": [],
   "source": [
    "myrdd3 = myrdd2.reduceByKey(lambda a,b:a+b)"
   ]
  },
  {
   "cell_type": "code",
   "execution_count": 0,
   "metadata": {
    "application/vnd.databricks.v1+cell": {
     "cellMetadata": {
      "byteLimit": 2048000,
      "rowLimit": 10000
     },
     "inputWidgets": {},
     "nuid": "5bde43c9-cb0b-4836-af16-a7969ff2c0c0",
     "showTitle": false,
     "title": ""
    }
   },
   "outputs": [
    {
     "output_type": "stream",
     "name": "stdout",
     "output_type": "stream",
     "text": [
      "Out[59]: [('197', 126), ('91', 130), ('58327', 4), ('102728', 4), ('72770', 4)]"
     ]
    }
   ],
   "source": [
    "myrdd3.take(5)"
   ]
  },
  {
   "cell_type": "code",
   "execution_count": 0,
   "metadata": {
    "application/vnd.databricks.v1+cell": {
     "cellMetadata": {
      "byteLimit": 2048000,
      "rowLimit": 10000
     },
     "inputWidgets": {},
     "nuid": "d48b52aa-ea07-4ee2-9103-074a0ee274e9",
     "showTitle": false,
     "title": ""
    }
   },
   "outputs": [],
   "source": [
    "myrdd4 =myrdd3.map(lambda pair : (pair[1],pair[0]))"
   ]
  },
  {
   "cell_type": "code",
   "execution_count": 0,
   "metadata": {
    "application/vnd.databricks.v1+cell": {
     "cellMetadata": {
      "byteLimit": 2048000,
      "rowLimit": 10000
     },
     "inputWidgets": {},
     "nuid": "3ff00162-fead-43c3-bfb0-1b048ebb8ff2",
     "showTitle": false,
     "title": ""
    }
   },
   "outputs": [
    {
     "output_type": "stream",
     "name": "stdout",
     "output_type": "stream",
     "text": [
      "Out[61]: [(126, '197'),\n (130, '91'),\n (4, '58327'),\n (4, '102728'),\n (4, '72770'),\n (152, '132'),\n (4, '117273'),\n (114, '39'),\n (134, '127'),\n (2, '67523')]"
     ]
    }
   ],
   "source": [
    "myrdd4.take(10)"
   ]
  },
  {
   "cell_type": "code",
   "execution_count": 0,
   "metadata": {
    "application/vnd.databricks.v1+cell": {
     "cellMetadata": {
      "byteLimit": 2048000,
      "rowLimit": 10000
     },
     "inputWidgets": {},
     "nuid": "63255e35-603d-4eb2-a842-3109d5faf653",
     "showTitle": false,
     "title": ""
    }
   },
   "outputs": [
    {
     "output_type": "stream",
     "name": "stdout",
     "output_type": "stream",
     "text": [
      "Out[62]: [(2, 11709),\n (3, 52),\n (4, 6580),\n (5, 19),\n (6, 2373),\n (7, 11),\n (8, 795),\n (9, 8),\n (10, 228),\n (11, 2),\n (12, 69),\n (14, 20),\n (16, 7),\n (86, 1),\n (94, 1),\n (96, 1),\n (98, 3),\n (100, 3),\n (102, 3),\n (104, 2),\n (106, 3),\n (108, 4),\n (110, 2),\n (112, 5),\n (114, 7),\n (116, 10),\n (118, 9),\n (120, 6),\n (122, 12),\n (124, 12),\n (126, 13),\n (128, 14),\n (130, 5),\n (132, 10),\n (134, 12),\n (136, 12),\n (138, 6),\n (140, 11),\n (142, 9),\n (144, 3),\n (146, 7),\n (148, 3),\n (150, 4),\n (152, 6),\n (154, 1),\n (156, 1),\n (160, 1),\n (162, 2),\n (164, 1),\n (168, 1),\n (170, 1),\n (180, 1)]"
     ]
    }
   ],
   "source": [
    "countDict = myrdd4.countByKey()\n",
    "sorted(countDict.items())"
   ]
  },
  {
   "cell_type": "code",
   "execution_count": 0,
   "metadata": {
    "application/vnd.databricks.v1+cell": {
     "cellMetadata": {
      "byteLimit": 2048000,
      "rowLimit": 10000
     },
     "inputWidgets": {},
     "nuid": "83bde479-2da6-4f6e-8906-61ffefa5a2ee",
     "showTitle": false,
     "title": ""
    }
   },
   "outputs": [
    {
     "output_type": "stream",
     "name": "stdout",
     "output_type": "stream",
     "text": [
      "Out[63]: ['34.28.1.122 - 65255 [01/Mar/2014:23:57:51 +0100] \"GET /ifruit_3a_sales.html HTTP/1.0\" 200 11416 \"http://www.loudacre.com\"  \"Loudacre Mobile Browser Titanic 2300\"',\n '34.28.1.122 - 65255 [01/Mar/2014:23:57:51 +0100] \"GET /theme.css HTTP/1.0\" 200 14933 \"http://www.loudacre.com\"  \"Loudacre Mobile Browser Titanic 2300\"']"
     ]
    }
   ],
   "source": [
    "myrdd1.take(2)"
   ]
  },
  {
   "cell_type": "code",
   "execution_count": 0,
   "metadata": {
    "application/vnd.databricks.v1+cell": {
     "cellMetadata": {
      "byteLimit": 2048000,
      "rowLimit": 10000
     },
     "inputWidgets": {},
     "nuid": "35e3eeea-a665-4c20-8026-d2c63b4289a7",
     "showTitle": false,
     "title": ""
    }
   },
   "outputs": [],
   "source": [
    "myrdd6= myrdd1.map(lambda x: (x.split(' ')[2],  x.split( ' ')[0]))"
   ]
  },
  {
   "cell_type": "code",
   "execution_count": 0,
   "metadata": {
    "application/vnd.databricks.v1+cell": {
     "cellMetadata": {
      "byteLimit": 2048000,
      "rowLimit": 10000
     },
     "inputWidgets": {},
     "nuid": "d6e2a6f6-a5cd-461b-b9c4-8f7f58e4ad3c",
     "showTitle": false,
     "title": ""
    }
   },
   "outputs": [
    {
     "output_type": "stream",
     "name": "stdout",
     "output_type": "stream",
     "text": [
      "Out[65]: [('65255', '34.28.1.122'),\n ('65255', '34.28.1.122'),\n ('65255', '34.28.1.122'),\n ('65255', '34.28.1.122'),\n ('96482', '240.181.17.144')]"
     ]
    }
   ],
   "source": [
    "myrdd6.take(5)"
   ]
  },
  {
   "cell_type": "code",
   "execution_count": 0,
   "metadata": {
    "application/vnd.databricks.v1+cell": {
     "cellMetadata": {
      "byteLimit": 2048000,
      "rowLimit": 10000
     },
     "inputWidgets": {},
     "nuid": "0bd548af-03b7-454d-bcfc-b79854d6f4f6",
     "showTitle": false,
     "title": ""
    }
   },
   "outputs": [
    {
     "output_type": "stream",
     "name": "stdout",
     "output_type": "stream",
     "text": [
      "Out[66]: [('197', <pyspark.resultiterable.ResultIterable at 0x7f800d10cdc0>),\n ('91', <pyspark.resultiterable.ResultIterable at 0x7f801b61d8e0>)]"
     ]
    }
   ],
   "source": [
    "myrdd7 =myrdd6.groupByKey()\n",
    "myrdd7.take(2)"
   ]
  },
  {
   "cell_type": "code",
   "execution_count": 0,
   "metadata": {
    "application/vnd.databricks.v1+cell": {
     "cellMetadata": {
      "byteLimit": 2048000,
      "rowLimit": 10000
     },
     "inputWidgets": {},
     "nuid": "74fd5812-49b8-43f8-be3f-b02fd8709d10",
     "showTitle": false,
     "title": ""
    }
   },
   "outputs": [
    {
     "output_type": "stream",
     "name": "stdout",
     "output_type": "stream",
     "text": [
      "Out[67]: [('197',\n  ['214.211.152.147',\n   '214.211.152.147',\n   '246.96.252.129',\n   '246.96.252.129',\n   '65.128.78.81',\n   '65.128.78.81',\n   '69.196.27.95',\n   '69.196.27.95',\n   '38.137.246.73',\n   '38.137.246.73',\n   '59.68.167.53',\n   '59.68.167.53',\n   '252.196.191.142',\n   '252.196.191.142',\n   '158.142.219.170',\n   '158.142.219.170',\n   '210.45.14.255',\n   '210.45.14.255',\n   '91.31.54.36',\n   '91.31.54.36',\n   '208.47.165.140',\n   '208.47.165.140',\n   '8.241.99.86',\n   '8.241.99.86',\n   '208.4.40.86',\n   '208.4.40.86',\n   '88.152.84.230',\n   '88.152.84.230',\n   '120.241.106.221',\n   '120.241.106.221',\n   '102.2.235.100',\n   '102.2.235.100',\n   '218.15.176.212',\n   '218.15.176.212',\n   '189.174.46.177',\n   '189.174.46.177',\n   '42.32.10.114',\n   '42.32.10.114',\n   '55.226.92.48',\n   '55.226.92.48',\n   '50.12.204.36',\n   '50.12.204.36',\n   '14.97.232.34',\n   '14.97.232.34',\n   '81.250.148.100',\n   '81.250.148.100',\n   '29.178.25.77',\n   '29.178.25.77',\n   '181.77.198.7',\n   '181.77.198.7',\n   '145.169.25.200',\n   '145.169.25.200',\n   '196.212.77.211',\n   '196.212.77.211',\n   '129.221.53.188',\n   '129.221.53.188',\n   '242.3.84.141',\n   '242.3.84.141',\n   '200.51.134.180',\n   '200.51.134.180',\n   '45.145.165.210',\n   '45.145.165.210',\n   '72.188.83.55',\n   '72.188.83.55',\n   '223.46.35.154',\n   '223.46.35.154',\n   '132.217.172.140',\n   '132.217.172.140',\n   '142.181.24.41',\n   '142.181.24.41',\n   '19.65.138.164',\n   '19.65.138.164',\n   '147.115.100.56',\n   '147.115.100.56',\n   '51.97.160.48',\n   '51.97.160.48',\n   '3.17.49.41',\n   '3.17.49.41',\n   '99.117.62.51',\n   '99.117.62.51',\n   '17.160.201.128',\n   '17.160.201.128',\n   '85.86.107.61',\n   '85.86.107.61',\n   '111.241.52.137',\n   '111.241.52.137',\n   '201.85.152.203',\n   '201.85.152.203',\n   '41.128.58.56',\n   '41.128.58.56',\n   '87.34.82.93',\n   '87.34.82.93',\n   '204.216.157.33',\n   '204.216.157.33',\n   '227.228.226.70',\n   '227.228.226.70',\n   '157.23.61.38',\n   '157.23.61.38',\n   '45.203.27.165',\n   '45.203.27.165',\n   '132.124.183.156',\n   '132.124.183.156',\n   '8.13.82.87',\n   '8.13.82.87',\n   '144.170.70.148',\n   '144.170.70.148',\n   '179.240.13.41',\n   '179.240.13.41',\n   '50.22.157.111',\n   '50.22.157.111',\n   '199.131.206.103',\n   '199.131.206.103',\n   '48.104.88.177',\n   '48.104.88.177',\n   '22.86.186.131',\n   '22.86.186.131',\n   '175.51.223.5',\n   '175.51.223.5',\n   '16.161.12.140',\n   '16.161.12.140',\n   '112.38.245.126',\n   '112.38.245.126',\n   '46.32.32.113',\n   '46.32.32.113',\n   '106.201.82.110',\n   '106.201.82.110']),\n ('91',\n  ['57.96.41.250',\n   '57.96.41.250',\n   '182.54.253.127',\n   '182.54.253.127',\n   '143.230.125.25',\n   '143.230.125.25',\n   '114.90.214.55',\n   '114.90.214.55',\n   '18.229.40.246',\n   '18.229.40.246',\n   '174.27.171.150',\n   '174.27.171.150',\n   '145.71.216.142',\n   '145.71.216.142',\n   '67.39.116.101',\n   '67.39.116.101',\n   '65.254.253.182',\n   '65.254.253.182',\n   '48.2.128.201',\n   '48.2.128.201',\n   '200.148.22.215',\n   '200.148.22.215',\n   '112.222.42.126',\n   '112.222.42.126',\n   '24.115.217.128',\n   '24.115.217.128',\n   '230.206.67.224',\n   '230.206.67.224',\n   '20.156.25.200',\n   '20.156.25.200',\n   '146.216.61.108',\n   '146.216.61.108',\n   '168.177.155.186',\n   '168.177.155.186',\n   '171.213.56.148',\n   '171.213.56.148',\n   '74.21.212.163',\n   '74.21.212.163',\n   '145.111.27.148',\n   '145.111.27.148',\n   '119.147.59.15',\n   '119.147.59.15',\n   '196.105.197.43',\n   '196.105.197.43',\n   '83.19.114.165',\n   '83.19.114.165',\n   '103.243.84.243',\n   '103.243.84.243',\n   '120.230.28.154',\n   '120.230.28.154',\n   '206.255.162.136',\n   '206.255.162.136',\n   '232.105.215.252',\n   '232.105.215.252',\n   '201.198.176.44',\n   '201.198.176.44',\n   '109.158.69.141',\n   '109.158.69.141',\n   '112.114.189.50',\n   '112.114.189.50',\n   '124.128.152.10',\n   '124.128.152.10',\n   '60.225.185.170',\n   '60.225.185.170',\n   '44.218.192.12',\n   '44.218.192.12',\n   '39.68.88.135',\n   '39.68.88.135',\n   '36.86.34.75',\n   '36.86.34.75',\n   '96.146.86.53',\n   '96.146.86.53',\n   '198.204.201.76',\n   '198.204.201.76',\n   '146.13.204.35',\n   '146.13.204.35',\n   '233.60.98.152',\n   '233.60.98.152',\n   '227.28.131.56',\n   '227.28.131.56',\n   '51.156.113.244',\n   '51.156.113.244',\n   '37.48.57.147',\n   '37.48.57.147',\n   '116.99.175.245',\n   '116.99.175.245',\n   '173.100.53.188',\n   '173.100.53.188',\n   '54.7.3.239',\n   '54.7.3.239',\n   '37.208.165.140',\n   '37.208.165.140',\n   '49.232.255.170',\n   '49.232.255.170',\n   '250.201.162.214',\n   '250.201.162.214',\n   '129.62.183.89',\n   '129.62.183.89',\n   '231.110.204.57',\n   '231.110.204.57',\n   '196.214.239.110',\n   '196.214.239.110',\n   '89.189.143.191',\n   '89.189.143.191',\n   '77.74.108.14',\n   '77.74.108.14',\n   '193.74.79.166',\n   '193.74.79.166',\n   '129.223.160.166',\n   '129.223.160.166',\n   '36.90.82.112',\n   '36.90.82.112',\n   '105.162.74.181',\n   '105.162.74.181',\n   '198.73.49.23',\n   '198.73.49.23',\n   '145.233.162.209',\n   '145.233.162.209',\n   '153.133.184.75',\n   '153.133.184.75',\n   '206.208.125.121',\n   '206.208.125.121',\n   '23.138.39.153',\n   '23.138.39.153',\n   '137.98.218.203',\n   '137.98.218.203',\n   '30.47.173.110',\n   '30.47.173.110',\n   '106.36.141.232',\n   '106.36.141.232'])]"
     ]
    }
   ],
   "source": [
    "myrdd8 =myrdd7.map(lambda x: (x[0],list(x[1])))\n",
    "myrdd8.take(2)"
   ]
  },
  {
   "cell_type": "code",
   "execution_count": 0,
   "metadata": {
    "application/vnd.databricks.v1+cell": {
     "cellMetadata": {},
     "inputWidgets": {},
     "nuid": "7c4b64cd-109c-4bb6-a645-94459954db89",
     "showTitle": false,
     "title": ""
    }
   },
   "outputs": [],
   "source": [
    "#join log and accounts data"
   ]
  },
  {
   "cell_type": "code",
   "execution_count": 0,
   "metadata": {
    "application/vnd.databricks.v1+cell": {
     "cellMetadata": {
      "byteLimit": 2048000,
      "rowLimit": 10000
     },
     "inputWidgets": {},
     "nuid": "38ad9b0b-e742-4370-9c4e-18d4713fefef",
     "showTitle": false,
     "title": ""
    }
   },
   "outputs": [
    {
     "output_type": "stream",
     "name": "stdout",
     "output_type": "stream",
     "text": [
      "Out[69]: ['1,2008-10-23 16:05:05.0,\\\\N,Donald,Becton,2275 Washburn Street,Oakland,CA,94660,5100032418,2014-03-18 13:29:47.0,2014-03-18 13:29:47.0',\n '2,2008-11-12 03:00:01.0,\\\\N,Donna,Jones,3885 Elliott Street,San Francisco,CA,94171,4150835799,2014-03-18 13:29:47.0,2014-03-18 13:29:47.0']"
     ]
    }
   ],
   "source": [
    "accountRDD1 = sc.textFile('/FileStore/tables/accounts/part-*')\n",
    "accountRDD1.take(2)"
   ]
  },
  {
   "cell_type": "code",
   "execution_count": 0,
   "metadata": {
    "application/vnd.databricks.v1+cell": {
     "cellMetadata": {
      "byteLimit": 2048000,
      "rowLimit": 10000
     },
     "inputWidgets": {},
     "nuid": "6dcf3a87-636e-495a-81ce-9c989d71b5d5",
     "showTitle": false,
     "title": ""
    }
   },
   "outputs": [
    {
     "output_type": "stream",
     "name": "stdout",
     "output_type": "stream",
     "text": [
      "Out[71]: [('1',\n  ['1',\n   '2008-10-23 16:05:05.0',\n   '\\\\N',\n   'Donald',\n   'Becton',\n   '2275 Washburn Street',\n   'Oakland',\n   'CA',\n   '94660',\n   '5100032418',\n   '2014-03-18 13:29:47.0',\n   '2014-03-18 13:29:47.0']),\n ('2',\n  ['2',\n   '2008-11-12 03:00:01.0',\n   '\\\\N',\n   'Donna',\n   'Jones',\n   '3885 Elliott Street',\n   'San Francisco',\n   'CA',\n   '94171',\n   '4150835799',\n   '2014-03-18 13:29:47.0',\n   '2014-03-18 13:29:47.0']),\n ('3',\n  ['3',\n   '2008-12-21 09:19:50.0',\n   '\\\\N',\n   'Dorthy',\n   'Chalmers',\n   '4073 Whaley Lane',\n   'San Mateo',\n   'CA',\n   '94479',\n   '6506877757',\n   '2014-03-18 13:29:47.0',\n   '2014-03-18 13:29:47.0'])]"
     ]
    }
   ],
   "source": [
    "accountRDD2 = accountRDD1.map(lambda x: x.split(','))\n",
    "accountRDD3 = accountRDD2.map(lambda x: (x[0],x))\n",
    "accountRDD3.take(3)"
   ]
  },
  {
   "cell_type": "code",
   "execution_count": 0,
   "metadata": {
    "application/vnd.databricks.v1+cell": {
     "cellMetadata": {
      "byteLimit": 2048000,
      "rowLimit": 10000
     },
     "inputWidgets": {},
     "nuid": "4b7737be-5bfa-490b-afb4-d1c2dee56238",
     "showTitle": false,
     "title": ""
    }
   },
   "outputs": [
    {
     "output_type": "stream",
     "name": "stdout",
     "output_type": "stream",
     "text": [
      "Out[72]: [('24',\n  (['24',\n    '2008-11-13 00:08:34.0',\n    '\\\\N',\n    'Gwendolyn',\n    'Waters',\n    '4030 Leisure Lane',\n    'Sacramento',\n    'CA',\n    '94283',\n    '9164156733',\n    '2014-03-18 13:29:47.0',\n    '2014-03-18 13:29:47.0'],\n   128)),\n ('33',\n  (['33',\n    '2008-12-04 11:11:21.0',\n    '\\\\N',\n    'Marcia',\n    'Prince',\n    '2681 Rivendell Drive',\n    'Oakland',\n    'CA',\n    '94530',\n    '5105471357',\n    '2014-03-18 13:29:47.0',\n    '2014-03-18 13:29:47.0'],\n   136))]"
     ]
    }
   ],
   "source": [
    "accountRDD4 = accountRDD3.join(myrdd3)\n",
    "accountRDD4.take(2)"
   ]
  },
  {
   "cell_type": "code",
   "execution_count": 0,
   "metadata": {
    "application/vnd.databricks.v1+cell": {
     "cellMetadata": {
      "byteLimit": 2048000,
      "rowLimit": 10000
     },
     "inputWidgets": {},
     "nuid": "a784d270-850d-4921-bb9e-429b1b0d27b7",
     "showTitle": false,
     "title": ""
    }
   },
   "outputs": [],
   "source": [
    "accountRDD5 = accountRDD4.map(lambda x: x[0] + ' ' +str(x[1][1]) + ' ' + x[1][0][3] + ' '+ x[1][0][4] + '\\n')"
   ]
  },
  {
   "cell_type": "code",
   "execution_count": 0,
   "metadata": {
    "application/vnd.databricks.v1+cell": {
     "cellMetadata": {
      "byteLimit": 2048000,
      "rowLimit": 10000
     },
     "inputWidgets": {},
     "nuid": "18631fe8-898b-4c02-88d9-d49b884f156e",
     "showTitle": false,
     "title": ""
    }
   },
   "outputs": [
    {
     "output_type": "stream",
     "name": "stdout",
     "output_type": "stream",
     "text": [
      "Out[78]: PythonRDD[62] at RDD at PythonRDD.scala:58"
     ]
    }
   ],
   "source": [
    "accountRDD5"
   ]
  },
  {
   "cell_type": "code",
   "execution_count": 0,
   "metadata": {
    "application/vnd.databricks.v1+cell": {
     "cellMetadata": {
      "byteLimit": 2048000,
      "rowLimit": 10000
     },
     "inputWidgets": {},
     "nuid": "02f41bc9-b6b5-42a3-a4a8-ff4335f4beef",
     "showTitle": false,
     "title": ""
    }
   },
   "outputs": [
    {
     "output_type": "stream",
     "name": "stdout",
     "output_type": "stream",
     "text": [
      "Out[82]: ['24 128 Gwendolyn Waters\\n',\n '33 136 Marcia Prince\\n',\n '56 142 Terrell Hardiman\\n',\n '70 122 Debra Newman\\n',\n '74 124 Terry Todd\\n',\n '84 124 Jason Slaughter\\n',\n '110 138 Joseph Young\\n',\n '119 124 David Abbott\\n',\n '140 142 Minnie Gallagher\\n',\n '147 130 Vincent Baker\\n']"
     ]
    }
   ],
   "source": [
    "accountRDD5.take(10)"
   ]
  },
  {
   "cell_type": "code",
   "execution_count": 0,
   "metadata": {
    "application/vnd.databricks.v1+cell": {
     "cellMetadata": {},
     "inputWidgets": {},
     "nuid": "faf149d6-ed88-45d6-a9f2-0b0371a1315e",
     "showTitle": false,
     "title": ""
    }
   },
   "outputs": [],
   "source": []
  }
 ],
 "metadata": {
  "application/vnd.databricks.v1+notebook": {
   "dashboards": [],
   "language": "python",
   "notebookMetadata": {
    "mostRecentlyExecutedCommandWithImplicitDF": {
     "commandId": 1439044127296386,
     "dataframes": [
      "_sqldf"
     ]
    },
    "pythonIndentUnit": 4
   },
   "notebookName": "Week3 RDD-Try  2024-02-09 16:50:12",
   "widgets": {}
  }
 },
 "nbformat": 4,
 "nbformat_minor": 0
}
